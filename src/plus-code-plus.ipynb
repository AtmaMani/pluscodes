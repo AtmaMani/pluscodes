{
 "cells": [
  {
   "cell_type": "code",
   "execution_count": 1,
   "id": "60c8b315-1035-47ac-91dc-d5e801c6aac5",
   "metadata": {},
   "outputs": [],
   "source": [
    "import pluscodeplus\n",
    "from openlocationcode import openlocationcode as olc\n",
    "import shapely\n",
    "import geopandas as gpd\n",
    "import folium"
   ]
  },
  {
   "cell_type": "code",
   "execution_count": 2,
   "id": "0580f338-d86f-42c1-9736-5980ba3d92fd",
   "metadata": {},
   "outputs": [
    {
     "data": {
      "text/plain": [
       "['_package_data',\n",
       " 'geometry',\n",
       " 'get_neighbor_pluscode',\n",
       " 'get_overlapping_pluscodes',\n",
       " 'get_pluscode_from_prefix',\n",
       " 'get_pluscode_geometry',\n",
       " 'get_pluscode_prefix',\n",
       " 'get_pluscode_subgrids',\n",
       " 'get_surrounding_pluscodes',\n",
       " 'grid',\n",
       " 'parse']"
      ]
     },
     "execution_count": 2,
     "metadata": {},
     "output_type": "execute_result"
    }
   ],
   "source": [
    "[e for e in dir(pluscodeplus) if \"__\" not in e]"
   ]
  },
  {
   "cell_type": "code",
   "execution_count": 3,
   "id": "f2ecfd5a-cc15-4d49-b914-cd35718bd7c9",
   "metadata": {},
   "outputs": [
    {
     "data": {
      "text/plain": [
       "'85643Q57+'"
      ]
     },
     "execution_count": 3,
     "metadata": {},
     "output_type": "execute_result"
    }
   ],
   "source": [
    "pluscodeplus.get_neighbor_pluscode(\"85643Q48+\", \"NW\")"
   ]
  },
  {
   "cell_type": "code",
   "execution_count": 4,
   "id": "769b6a26-624b-4887-9cc3-a07f35dcb284",
   "metadata": {},
   "outputs": [
    {
     "data": {
      "text/plain": [
       "['85643Q58+',\n",
       " '85643Q59+',\n",
       " '85643Q49+',\n",
       " '85643Q39+',\n",
       " '85643Q38+',\n",
       " '85643Q37+',\n",
       " '85643Q47+',\n",
       " '85643Q57+']"
      ]
     },
     "execution_count": 4,
     "metadata": {},
     "output_type": "execute_result"
    }
   ],
   "source": [
    "pluscodeplus.get_surrounding_pluscodes(\"85643Q48+\")"
   ]
  },
  {
   "cell_type": "code",
   "execution_count": 5,
   "id": "a4da7ca1-eee0-40dd-9fbb-26ac2d4ab3fd",
   "metadata": {},
   "outputs": [
    {
     "data": {
      "text/html": [
       "<div>\n",
       "<style scoped>\n",
       "    .dataframe tbody tr th:only-of-type {\n",
       "        vertical-align: middle;\n",
       "    }\n",
       "\n",
       "    .dataframe tbody tr th {\n",
       "        vertical-align: top;\n",
       "    }\n",
       "\n",
       "    .dataframe thead th {\n",
       "        text-align: right;\n",
       "    }\n",
       "</style>\n",
       "<table border=\"1\" class=\"dataframe\">\n",
       "  <thead>\n",
       "    <tr style=\"text-align: right;\">\n",
       "      <th></th>\n",
       "      <th>pluscode</th>\n",
       "      <th>geometry</th>\n",
       "    </tr>\n",
       "  </thead>\n",
       "  <tbody>\n",
       "    <tr>\n",
       "      <th>0</th>\n",
       "      <td>85643Q57+</td>\n",
       "      <td>POLYGON ((-117.23500 34.05750, -117.23500 34.0...</td>\n",
       "    </tr>\n",
       "  </tbody>\n",
       "</table>\n",
       "</div>"
      ],
      "text/plain": [
       "    pluscode                                           geometry\n",
       "0  85643Q57+  POLYGON ((-117.23500 34.05750, -117.23500 34.0..."
      ]
     },
     "execution_count": 5,
     "metadata": {},
     "output_type": "execute_result"
    }
   ],
   "source": [
    "ll_gdf = pluscodeplus.geometry.get_pluscode_geometry(['85643Q57+'])\n",
    "ll_gdf"
   ]
  },
  {
   "cell_type": "code",
   "execution_count": 6,
   "id": "e23ab318-33f4-41f4-9838-67e80ebc3b67",
   "metadata": {
    "collapsed": true,
    "jupyter": {
     "outputs_hidden": true
    },
    "tags": []
   },
   "outputs": [
    {
     "ename": "ImportError",
     "evalue": "The matplotlib package is required for plotting in geopandas. You can install it using 'conda install -c conda-forge matplotlib' or 'pip install matplotlib'.",
     "output_type": "error",
     "traceback": [
      "\u001b[0;31m---------------------------------------------------------------------------\u001b[0m",
      "\u001b[0;31mImportError\u001b[0m                               Traceback (most recent call last)",
      "File \u001b[0;32m~/micromamba/envs/pluscode/lib/python3.10/site-packages/geopandas/plotting.py:662\u001b[0m, in \u001b[0;36mplot_dataframe\u001b[0;34m(df, column, cmap, color, ax, cax, categorical, legend, scheme, k, vmin, vmax, markersize, figsize, legend_kwds, categories, classification_kwds, missing_kwds, aspect, **style_kwds)\u001b[0m\n\u001b[1;32m    661\u001b[0m \u001b[38;5;28;01mtry\u001b[39;00m:\n\u001b[0;32m--> 662\u001b[0m     \u001b[38;5;28;01mimport\u001b[39;00m \u001b[38;5;21;01mmatplotlib\u001b[39;00m\u001b[38;5;21;01m.\u001b[39;00m\u001b[38;5;21;01mpyplot\u001b[39;00m \u001b[38;5;28;01mas\u001b[39;00m \u001b[38;5;21;01mplt\u001b[39;00m\n\u001b[1;32m    663\u001b[0m \u001b[38;5;28;01mexcept\u001b[39;00m \u001b[38;5;167;01mImportError\u001b[39;00m:\n",
      "File \u001b[0;32m~/micromamba/envs/pluscode/lib/python3.10/site-packages/matplotlib/__init__.py:113\u001b[0m\n\u001b[1;32m    111\u001b[0m \u001b[38;5;66;03m# cbook must import matplotlib only within function\u001b[39;00m\n\u001b[1;32m    112\u001b[0m \u001b[38;5;66;03m# definitions, so it is safe to import from it here.\u001b[39;00m\n\u001b[0;32m--> 113\u001b[0m \u001b[38;5;28;01mfrom\u001b[39;00m \u001b[38;5;21;01m.\u001b[39;00m \u001b[38;5;28;01mimport\u001b[39;00m _api, _version, cbook, _docstring, rcsetup\n\u001b[1;32m    114\u001b[0m \u001b[38;5;28;01mfrom\u001b[39;00m \u001b[38;5;21;01mmatplotlib\u001b[39;00m\u001b[38;5;21;01m.\u001b[39;00m\u001b[38;5;21;01mcbook\u001b[39;00m \u001b[38;5;28;01mimport\u001b[39;00m sanitize_sequence\n",
      "File \u001b[0;32m~/micromamba/envs/pluscode/lib/python3.10/site-packages/matplotlib/rcsetup.py:27\u001b[0m\n\u001b[1;32m     26\u001b[0m \u001b[38;5;28;01mfrom\u001b[39;00m \u001b[38;5;21;01mmatplotlib\u001b[39;00m\u001b[38;5;21;01m.\u001b[39;00m\u001b[38;5;21;01mcbook\u001b[39;00m \u001b[38;5;28;01mimport\u001b[39;00m ls_mapper\n\u001b[0;32m---> 27\u001b[0m \u001b[38;5;28;01mfrom\u001b[39;00m \u001b[38;5;21;01mmatplotlib\u001b[39;00m\u001b[38;5;21;01m.\u001b[39;00m\u001b[38;5;21;01mcolors\u001b[39;00m \u001b[38;5;28;01mimport\u001b[39;00m Colormap, is_color_like\n\u001b[1;32m     28\u001b[0m \u001b[38;5;28;01mfrom\u001b[39;00m \u001b[38;5;21;01mmatplotlib\u001b[39;00m\u001b[38;5;21;01m.\u001b[39;00m\u001b[38;5;21;01m_fontconfig_pattern\u001b[39;00m \u001b[38;5;28;01mimport\u001b[39;00m parse_fontconfig_pattern\n",
      "File \u001b[0;32m~/micromamba/envs/pluscode/lib/python3.10/site-packages/matplotlib/colors.py:51\u001b[0m\n\u001b[1;32m     50\u001b[0m \u001b[38;5;28;01mimport\u001b[39;00m \u001b[38;5;21;01mre\u001b[39;00m\n\u001b[0;32m---> 51\u001b[0m \u001b[38;5;28;01mfrom\u001b[39;00m \u001b[38;5;21;01mPIL\u001b[39;00m \u001b[38;5;28;01mimport\u001b[39;00m Image\n\u001b[1;32m     52\u001b[0m \u001b[38;5;28;01mfrom\u001b[39;00m \u001b[38;5;21;01mPIL\u001b[39;00m\u001b[38;5;21;01m.\u001b[39;00m\u001b[38;5;21;01mPngImagePlugin\u001b[39;00m \u001b[38;5;28;01mimport\u001b[39;00m PngInfo\n",
      "File \u001b[0;32m~/micromamba/envs/pluscode/lib/python3.10/site-packages/PIL/Image.py:100\u001b[0m\n\u001b[1;32m     94\u001b[0m \u001b[38;5;28;01mtry\u001b[39;00m:\n\u001b[1;32m     95\u001b[0m     \u001b[38;5;66;03m# If the _imaging C module is not present, Pillow will not load.\u001b[39;00m\n\u001b[1;32m     96\u001b[0m     \u001b[38;5;66;03m# Note that other modules should not refer to _imaging directly;\u001b[39;00m\n\u001b[1;32m     97\u001b[0m     \u001b[38;5;66;03m# import Image and use the Image.core variable instead.\u001b[39;00m\n\u001b[1;32m     98\u001b[0m     \u001b[38;5;66;03m# Also note that Image.core is not a publicly documented interface,\u001b[39;00m\n\u001b[1;32m     99\u001b[0m     \u001b[38;5;66;03m# and should be considered private and subject to change.\u001b[39;00m\n\u001b[0;32m--> 100\u001b[0m     \u001b[38;5;28;01mfrom\u001b[39;00m \u001b[38;5;21;01m.\u001b[39;00m \u001b[38;5;28;01mimport\u001b[39;00m _imaging \u001b[38;5;28;01mas\u001b[39;00m core\n\u001b[1;32m    102\u001b[0m     \u001b[38;5;28;01mif\u001b[39;00m __version__ \u001b[38;5;241m!=\u001b[39m \u001b[38;5;28mgetattr\u001b[39m(core, \u001b[38;5;124m\"\u001b[39m\u001b[38;5;124mPILLOW_VERSION\u001b[39m\u001b[38;5;124m\"\u001b[39m, \u001b[38;5;28;01mNone\u001b[39;00m):\n",
      "\u001b[0;31mImportError\u001b[0m: dlopen(/Users/abharathi/micromamba/envs/pluscode/lib/python3.10/site-packages/PIL/_imaging.cpython-310-darwin.so, 0x0002): Library not loaded: '@rpath/libtiff.5.dylib'\n  Referenced from: '/Users/abharathi/micromamba/envs/pluscode/lib/python3.10/site-packages/PIL/_imaging.cpython-310-darwin.so'\n  Reason: tried: '/Users/abharathi/micromamba/envs/pluscode/lib/python3.10/site-packages/PIL/../../../libtiff.5.dylib' (no such file), '/Users/abharathi/micromamba/envs/pluscode/lib/python3.10/site-packages/PIL/../../../libtiff.5.dylib' (no such file), '/Users/abharathi/micromamba/envs/pluscode/bin/../lib/libtiff.5.dylib' (no such file), '/Users/abharathi/micromamba/envs/pluscode/bin/../lib/libtiff.5.dylib' (no such file), '/usr/local/lib/libtiff.5.dylib' (no such file), '/usr/lib/libtiff.5.dylib' (no such file)",
      "\nDuring handling of the above exception, another exception occurred:\n",
      "\u001b[0;31mImportError\u001b[0m                               Traceback (most recent call last)",
      "Cell \u001b[0;32mIn [6], line 1\u001b[0m\n\u001b[0;32m----> 1\u001b[0m \u001b[43mll_gdf\u001b[49m\u001b[38;5;241;43m.\u001b[39;49m\u001b[43mplot\u001b[49m\u001b[43m(\u001b[49m\u001b[43m)\u001b[49m\n",
      "File \u001b[0;32m~/micromamba/envs/pluscode/lib/python3.10/site-packages/geopandas/plotting.py:968\u001b[0m, in \u001b[0;36mGeoplotAccessor.__call__\u001b[0;34m(self, *args, **kwargs)\u001b[0m\n\u001b[1;32m    966\u001b[0m kind \u001b[38;5;241m=\u001b[39m kwargs\u001b[38;5;241m.\u001b[39mpop(\u001b[38;5;124m\"\u001b[39m\u001b[38;5;124mkind\u001b[39m\u001b[38;5;124m\"\u001b[39m, \u001b[38;5;124m\"\u001b[39m\u001b[38;5;124mgeo\u001b[39m\u001b[38;5;124m\"\u001b[39m)\n\u001b[1;32m    967\u001b[0m \u001b[38;5;28;01mif\u001b[39;00m kind \u001b[38;5;241m==\u001b[39m \u001b[38;5;124m\"\u001b[39m\u001b[38;5;124mgeo\u001b[39m\u001b[38;5;124m\"\u001b[39m:\n\u001b[0;32m--> 968\u001b[0m     \u001b[38;5;28;01mreturn\u001b[39;00m \u001b[43mplot_dataframe\u001b[49m\u001b[43m(\u001b[49m\u001b[43mdata\u001b[49m\u001b[43m,\u001b[49m\u001b[43m \u001b[49m\u001b[38;5;241;43m*\u001b[39;49m\u001b[43margs\u001b[49m\u001b[43m,\u001b[49m\u001b[43m \u001b[49m\u001b[38;5;241;43m*\u001b[39;49m\u001b[38;5;241;43m*\u001b[39;49m\u001b[43mkwargs\u001b[49m\u001b[43m)\u001b[49m\n\u001b[1;32m    969\u001b[0m \u001b[38;5;28;01mif\u001b[39;00m kind \u001b[38;5;129;01min\u001b[39;00m \u001b[38;5;28mself\u001b[39m\u001b[38;5;241m.\u001b[39m_pandas_kinds:\n\u001b[1;32m    970\u001b[0m     \u001b[38;5;66;03m# Access pandas plots\u001b[39;00m\n\u001b[1;32m    971\u001b[0m     \u001b[38;5;28;01mreturn\u001b[39;00m PlotAccessor(data)(kind\u001b[38;5;241m=\u001b[39mkind, \u001b[38;5;241m*\u001b[39m\u001b[38;5;241m*\u001b[39mkwargs)\n",
      "File \u001b[0;32m~/micromamba/envs/pluscode/lib/python3.10/site-packages/geopandas/plotting.py:664\u001b[0m, in \u001b[0;36mplot_dataframe\u001b[0;34m(df, column, cmap, color, ax, cax, categorical, legend, scheme, k, vmin, vmax, markersize, figsize, legend_kwds, categories, classification_kwds, missing_kwds, aspect, **style_kwds)\u001b[0m\n\u001b[1;32m    662\u001b[0m     \u001b[38;5;28;01mimport\u001b[39;00m \u001b[38;5;21;01mmatplotlib\u001b[39;00m\u001b[38;5;21;01m.\u001b[39;00m\u001b[38;5;21;01mpyplot\u001b[39;00m \u001b[38;5;28;01mas\u001b[39;00m \u001b[38;5;21;01mplt\u001b[39;00m\n\u001b[1;32m    663\u001b[0m \u001b[38;5;28;01mexcept\u001b[39;00m \u001b[38;5;167;01mImportError\u001b[39;00m:\n\u001b[0;32m--> 664\u001b[0m     \u001b[38;5;28;01mraise\u001b[39;00m \u001b[38;5;167;01mImportError\u001b[39;00m(\n\u001b[1;32m    665\u001b[0m         \u001b[38;5;124m\"\u001b[39m\u001b[38;5;124mThe matplotlib package is required for plotting in geopandas. \u001b[39m\u001b[38;5;124m\"\u001b[39m\n\u001b[1;32m    666\u001b[0m         \u001b[38;5;124m\"\u001b[39m\u001b[38;5;124mYou can install it using \u001b[39m\u001b[38;5;124m'\u001b[39m\u001b[38;5;124mconda install -c conda-forge matplotlib\u001b[39m\u001b[38;5;124m'\u001b[39m\u001b[38;5;124m or \u001b[39m\u001b[38;5;124m\"\u001b[39m\n\u001b[1;32m    667\u001b[0m         \u001b[38;5;124m\"\u001b[39m\u001b[38;5;124m'\u001b[39m\u001b[38;5;124mpip install matplotlib\u001b[39m\u001b[38;5;124m'\u001b[39m\u001b[38;5;124m.\u001b[39m\u001b[38;5;124m\"\u001b[39m\n\u001b[1;32m    668\u001b[0m     )\n\u001b[1;32m    670\u001b[0m \u001b[38;5;28;01mif\u001b[39;00m ax \u001b[38;5;129;01mis\u001b[39;00m \u001b[38;5;28;01mNone\u001b[39;00m:\n\u001b[1;32m    671\u001b[0m     \u001b[38;5;28;01mif\u001b[39;00m cax \u001b[38;5;129;01mis\u001b[39;00m \u001b[38;5;129;01mnot\u001b[39;00m \u001b[38;5;28;01mNone\u001b[39;00m:\n",
      "\u001b[0;31mImportError\u001b[0m: The matplotlib package is required for plotting in geopandas. You can install it using 'conda install -c conda-forge matplotlib' or 'pip install matplotlib'."
     ]
    }
   ],
   "source": [
    "ll_gdf.plot()"
   ]
  },
  {
   "cell_type": "code",
   "execution_count": 7,
   "id": "ff19a47f-e068-4443-8f6a-e5acaf98de69",
   "metadata": {},
   "outputs": [],
   "source": [
    "import folium"
   ]
  },
  {
   "cell_type": "code",
   "execution_count": 8,
   "id": "e2dd9d21-8c5d-4ea2-96a8-8bd0432d6ae8",
   "metadata": {},
   "outputs": [
    {
     "data": {
      "text/html": [
       "<div style=\"width:100%;\"><div style=\"position:relative;width:100%;height:0;padding-bottom:60%;\"><span style=\"color:#565656\">Make this Notebook Trusted to load map: File -> Trust Notebook</span><iframe srcdoc=\"&lt;!DOCTYPE html&gt;\n",
       "&lt;html&gt;\n",
       "&lt;head&gt;\n",
       "    \n",
       "    &lt;meta http-equiv=&quot;content-type&quot; content=&quot;text/html; charset=UTF-8&quot; /&gt;\n",
       "    \n",
       "        &lt;script&gt;\n",
       "            L_NO_TOUCH = false;\n",
       "            L_DISABLE_3D = false;\n",
       "        &lt;/script&gt;\n",
       "    \n",
       "    &lt;style&gt;html, body {width: 100%;height: 100%;margin: 0;padding: 0;}&lt;/style&gt;\n",
       "    &lt;style&gt;#map {position:absolute;top:0;bottom:0;right:0;left:0;}&lt;/style&gt;\n",
       "    &lt;script src=&quot;https://cdn.jsdelivr.net/npm/leaflet@1.6.0/dist/leaflet.js&quot;&gt;&lt;/script&gt;\n",
       "    &lt;script src=&quot;https://code.jquery.com/jquery-1.12.4.min.js&quot;&gt;&lt;/script&gt;\n",
       "    &lt;script src=&quot;https://maxcdn.bootstrapcdn.com/bootstrap/3.2.0/js/bootstrap.min.js&quot;&gt;&lt;/script&gt;\n",
       "    &lt;script src=&quot;https://cdnjs.cloudflare.com/ajax/libs/Leaflet.awesome-markers/2.0.2/leaflet.awesome-markers.js&quot;&gt;&lt;/script&gt;\n",
       "    &lt;link rel=&quot;stylesheet&quot; href=&quot;https://cdn.jsdelivr.net/npm/leaflet@1.6.0/dist/leaflet.css&quot;/&gt;\n",
       "    &lt;link rel=&quot;stylesheet&quot; href=&quot;https://maxcdn.bootstrapcdn.com/bootstrap/3.2.0/css/bootstrap.min.css&quot;/&gt;\n",
       "    &lt;link rel=&quot;stylesheet&quot; href=&quot;https://maxcdn.bootstrapcdn.com/bootstrap/3.2.0/css/bootstrap-theme.min.css&quot;/&gt;\n",
       "    &lt;link rel=&quot;stylesheet&quot; href=&quot;https://maxcdn.bootstrapcdn.com/font-awesome/4.6.3/css/font-awesome.min.css&quot;/&gt;\n",
       "    &lt;link rel=&quot;stylesheet&quot; href=&quot;https://cdnjs.cloudflare.com/ajax/libs/Leaflet.awesome-markers/2.0.2/leaflet.awesome-markers.css&quot;/&gt;\n",
       "    &lt;link rel=&quot;stylesheet&quot; href=&quot;https://cdn.jsdelivr.net/gh/python-visualization/folium/folium/templates/leaflet.awesome.rotate.min.css&quot;/&gt;\n",
       "    \n",
       "            &lt;meta name=&quot;viewport&quot; content=&quot;width=device-width,\n",
       "                initial-scale=1.0, maximum-scale=1.0, user-scalable=no&quot; /&gt;\n",
       "            &lt;style&gt;\n",
       "                #map_170e8d204f1e8fdaff18308596dd92b9 {\n",
       "                    position: relative;\n",
       "                    width: 100.0%;\n",
       "                    height: 100.0%;\n",
       "                    left: 0.0%;\n",
       "                    top: 0.0%;\n",
       "                }\n",
       "            &lt;/style&gt;\n",
       "        \n",
       "&lt;/head&gt;\n",
       "&lt;body&gt;\n",
       "    \n",
       "    \n",
       "            &lt;div class=&quot;folium-map&quot; id=&quot;map_170e8d204f1e8fdaff18308596dd92b9&quot; &gt;&lt;/div&gt;\n",
       "        \n",
       "&lt;/body&gt;\n",
       "&lt;script&gt;\n",
       "    \n",
       "    \n",
       "            var map_170e8d204f1e8fdaff18308596dd92b9 = L.map(\n",
       "                &quot;map_170e8d204f1e8fdaff18308596dd92b9&quot;,\n",
       "                {\n",
       "                    center: [34.05501440288417, -117.23428106228769],\n",
       "                    crs: L.CRS.EPSG3857,\n",
       "                    zoom: 15,\n",
       "                    zoomControl: true,\n",
       "                    preferCanvas: false,\n",
       "                }\n",
       "            );\n",
       "\n",
       "            \n",
       "\n",
       "        \n",
       "    \n",
       "            var tile_layer_bfe6d72095a8ae6d04fd69cc79a5e17d = L.tileLayer(\n",
       "                &quot;https://{s}.tile.openstreetmap.org/{z}/{x}/{y}.png&quot;,\n",
       "                {&quot;attribution&quot;: &quot;Data by \\u0026copy; \\u003ca href=\\&quot;http://openstreetmap.org\\&quot;\\u003eOpenStreetMap\\u003c/a\\u003e, under \\u003ca href=\\&quot;http://www.openstreetmap.org/copyright\\&quot;\\u003eODbL\\u003c/a\\u003e.&quot;, &quot;detectRetina&quot;: false, &quot;maxNativeZoom&quot;: 18, &quot;maxZoom&quot;: 18, &quot;minZoom&quot;: 0, &quot;noWrap&quot;: false, &quot;opacity&quot;: 1, &quot;subdomains&quot;: &quot;abc&quot;, &quot;tms&quot;: false}\n",
       "            ).addTo(map_170e8d204f1e8fdaff18308596dd92b9);\n",
       "        \n",
       "    \n",
       "\n",
       "        function geo_json_62aa7b42adad43cfcb46356dbd32f1ff_onEachFeature(feature, layer) {\n",
       "            layer.on({\n",
       "            });\n",
       "        };\n",
       "        var geo_json_62aa7b42adad43cfcb46356dbd32f1ff = L.geoJson(null, {\n",
       "                onEachFeature: geo_json_62aa7b42adad43cfcb46356dbd32f1ff_onEachFeature,\n",
       "            \n",
       "        });\n",
       "\n",
       "        function geo_json_62aa7b42adad43cfcb46356dbd32f1ff_add (data) {\n",
       "            geo_json_62aa7b42adad43cfcb46356dbd32f1ff\n",
       "                .addData(data)\n",
       "                .addTo(map_170e8d204f1e8fdaff18308596dd92b9);\n",
       "        }\n",
       "            geo_json_62aa7b42adad43cfcb46356dbd32f1ff_add({&quot;bbox&quot;: [-117.2375, 34.0575, -117.235, 34.06], &quot;features&quot;: [{&quot;bbox&quot;: [-117.2375, 34.0575, -117.235, 34.06], &quot;geometry&quot;: {&quot;coordinates&quot;: [[[-117.235, 34.0575], [-117.235, 34.06], [-117.2375, 34.06], [-117.2375, 34.0575], [-117.235, 34.0575]]], &quot;type&quot;: &quot;Polygon&quot;}, &quot;id&quot;: &quot;0&quot;, &quot;properties&quot;: {&quot;pluscode&quot;: &quot;85643Q57+&quot;}, &quot;type&quot;: &quot;Feature&quot;}], &quot;type&quot;: &quot;FeatureCollection&quot;});\n",
       "\n",
       "        \n",
       "&lt;/script&gt;\n",
       "&lt;/html&gt;\" style=\"position:absolute;width:100%;height:100%;left:0;top:0;border:none !important;\" allowfullscreen webkitallowfullscreen mozallowfullscreen></iframe></div></div>"
      ],
      "text/plain": [
       "<folium.folium.Map at 0x13eb49150>"
      ]
     },
     "execution_count": 8,
     "metadata": {},
     "output_type": "execute_result"
    }
   ],
   "source": [
    "m1 = folium.Map(location=[34.05501440288417, -117.23428106228769], zoom_start=15)\n",
    "folium.GeoJson(data=ll_gdf).add_to(m1)\n",
    "m1"
   ]
  },
  {
   "cell_type": "markdown",
   "id": "3141f3f6-6bac-44fe-8257-01257b0640e0",
   "metadata": {},
   "source": [
    "## Plotting all neighbors"
   ]
  },
  {
   "cell_type": "code",
   "execution_count": 34,
   "id": "f0acb8b6-3b36-4532-b9fc-18f69fc0b770",
   "metadata": {},
   "outputs": [
    {
     "data": {
      "text/html": [
       "<div>\n",
       "<style scoped>\n",
       "    .dataframe tbody tr th:only-of-type {\n",
       "        vertical-align: middle;\n",
       "    }\n",
       "\n",
       "    .dataframe tbody tr th {\n",
       "        vertical-align: top;\n",
       "    }\n",
       "\n",
       "    .dataframe thead th {\n",
       "        text-align: right;\n",
       "    }\n",
       "</style>\n",
       "<table border=\"1\" class=\"dataframe\">\n",
       "  <thead>\n",
       "    <tr style=\"text-align: right;\">\n",
       "      <th></th>\n",
       "      <th>pluscode</th>\n",
       "      <th>geometry</th>\n",
       "    </tr>\n",
       "  </thead>\n",
       "  <tbody>\n",
       "    <tr>\n",
       "      <th>0</th>\n",
       "      <td>85644Q00+</td>\n",
       "      <td>POLYGON ((-117.20000 34.10000, -117.20000 34.1...</td>\n",
       "    </tr>\n",
       "    <tr>\n",
       "      <th>1</th>\n",
       "      <td>85644R00+</td>\n",
       "      <td>POLYGON ((-117.15000 34.10000, -117.15000 34.1...</td>\n",
       "    </tr>\n",
       "    <tr>\n",
       "      <th>2</th>\n",
       "      <td>85643R00+</td>\n",
       "      <td>POLYGON ((-117.15000 34.05000, -117.15000 34.1...</td>\n",
       "    </tr>\n",
       "    <tr>\n",
       "      <th>3</th>\n",
       "      <td>85642R00+</td>\n",
       "      <td>POLYGON ((-117.15000 34.00000, -117.15000 34.0...</td>\n",
       "    </tr>\n",
       "    <tr>\n",
       "      <th>4</th>\n",
       "      <td>85642Q00+</td>\n",
       "      <td>POLYGON ((-117.20000 34.00000, -117.20000 34.0...</td>\n",
       "    </tr>\n",
       "    <tr>\n",
       "      <th>5</th>\n",
       "      <td>85642P00+</td>\n",
       "      <td>POLYGON ((-117.25000 34.00000, -117.25000 34.0...</td>\n",
       "    </tr>\n",
       "    <tr>\n",
       "      <th>6</th>\n",
       "      <td>85643P00+</td>\n",
       "      <td>POLYGON ((-117.25000 34.05000, -117.25000 34.1...</td>\n",
       "    </tr>\n",
       "    <tr>\n",
       "      <th>7</th>\n",
       "      <td>85644P00+</td>\n",
       "      <td>POLYGON ((-117.25000 34.10000, -117.25000 34.1...</td>\n",
       "    </tr>\n",
       "  </tbody>\n",
       "</table>\n",
       "</div>"
      ],
      "text/plain": [
       "    pluscode                                           geometry\n",
       "0  85644Q00+  POLYGON ((-117.20000 34.10000, -117.20000 34.1...\n",
       "1  85644R00+  POLYGON ((-117.15000 34.10000, -117.15000 34.1...\n",
       "2  85643R00+  POLYGON ((-117.15000 34.05000, -117.15000 34.1...\n",
       "3  85642R00+  POLYGON ((-117.15000 34.00000, -117.15000 34.0...\n",
       "4  85642Q00+  POLYGON ((-117.20000 34.00000, -117.20000 34.0...\n",
       "5  85642P00+  POLYGON ((-117.25000 34.00000, -117.25000 34.0...\n",
       "6  85643P00+  POLYGON ((-117.25000 34.05000, -117.25000 34.1...\n",
       "7  85644P00+  POLYGON ((-117.25000 34.10000, -117.25000 34.1..."
      ]
     },
     "execution_count": 34,
     "metadata": {},
     "output_type": "execute_result"
    }
   ],
   "source": [
    "neighbor_plus = pluscodeplus.get_surrounding_pluscodes(\"85643Q00+\")\n",
    "neighbor_plus_geom = pluscodeplus.geometry.get_pluscode_geometry(neighbor_plus)\n",
    "neighbor_plus_geom"
   ]
  },
  {
   "cell_type": "code",
   "execution_count": 35,
   "id": "d2f8e891-4fbb-4113-9a29-3cfa2548e920",
   "metadata": {
    "tags": []
   },
   "outputs": [
    {
     "data": {
      "text/html": [
       "<div style=\"width:100%;\"><div style=\"position:relative;width:100%;height:0;padding-bottom:60%;\"><span style=\"color:#565656\">Make this Notebook Trusted to load map: File -> Trust Notebook</span><iframe srcdoc=\"&lt;!DOCTYPE html&gt;\n",
       "&lt;html&gt;\n",
       "&lt;head&gt;\n",
       "    \n",
       "    &lt;meta http-equiv=&quot;content-type&quot; content=&quot;text/html; charset=UTF-8&quot; /&gt;\n",
       "    \n",
       "        &lt;script&gt;\n",
       "            L_NO_TOUCH = false;\n",
       "            L_DISABLE_3D = false;\n",
       "        &lt;/script&gt;\n",
       "    \n",
       "    &lt;style&gt;html, body {width: 100%;height: 100%;margin: 0;padding: 0;}&lt;/style&gt;\n",
       "    &lt;style&gt;#map {position:absolute;top:0;bottom:0;right:0;left:0;}&lt;/style&gt;\n",
       "    &lt;script src=&quot;https://cdn.jsdelivr.net/npm/leaflet@1.6.0/dist/leaflet.js&quot;&gt;&lt;/script&gt;\n",
       "    &lt;script src=&quot;https://code.jquery.com/jquery-1.12.4.min.js&quot;&gt;&lt;/script&gt;\n",
       "    &lt;script src=&quot;https://maxcdn.bootstrapcdn.com/bootstrap/3.2.0/js/bootstrap.min.js&quot;&gt;&lt;/script&gt;\n",
       "    &lt;script src=&quot;https://cdnjs.cloudflare.com/ajax/libs/Leaflet.awesome-markers/2.0.2/leaflet.awesome-markers.js&quot;&gt;&lt;/script&gt;\n",
       "    &lt;link rel=&quot;stylesheet&quot; href=&quot;https://cdn.jsdelivr.net/npm/leaflet@1.6.0/dist/leaflet.css&quot;/&gt;\n",
       "    &lt;link rel=&quot;stylesheet&quot; href=&quot;https://maxcdn.bootstrapcdn.com/bootstrap/3.2.0/css/bootstrap.min.css&quot;/&gt;\n",
       "    &lt;link rel=&quot;stylesheet&quot; href=&quot;https://maxcdn.bootstrapcdn.com/bootstrap/3.2.0/css/bootstrap-theme.min.css&quot;/&gt;\n",
       "    &lt;link rel=&quot;stylesheet&quot; href=&quot;https://maxcdn.bootstrapcdn.com/font-awesome/4.6.3/css/font-awesome.min.css&quot;/&gt;\n",
       "    &lt;link rel=&quot;stylesheet&quot; href=&quot;https://cdnjs.cloudflare.com/ajax/libs/Leaflet.awesome-markers/2.0.2/leaflet.awesome-markers.css&quot;/&gt;\n",
       "    &lt;link rel=&quot;stylesheet&quot; href=&quot;https://cdn.jsdelivr.net/gh/python-visualization/folium/folium/templates/leaflet.awesome.rotate.min.css&quot;/&gt;\n",
       "    \n",
       "            &lt;meta name=&quot;viewport&quot; content=&quot;width=device-width,\n",
       "                initial-scale=1.0, maximum-scale=1.0, user-scalable=no&quot; /&gt;\n",
       "            &lt;style&gt;\n",
       "                #map_8515eebd397cf410d26587cb79a6e716 {\n",
       "                    position: relative;\n",
       "                    width: 100.0%;\n",
       "                    height: 100.0%;\n",
       "                    left: 0.0%;\n",
       "                    top: 0.0%;\n",
       "                }\n",
       "            &lt;/style&gt;\n",
       "        \n",
       "&lt;/head&gt;\n",
       "&lt;body&gt;\n",
       "    \n",
       "    \n",
       "            &lt;div class=&quot;folium-map&quot; id=&quot;map_8515eebd397cf410d26587cb79a6e716&quot; &gt;&lt;/div&gt;\n",
       "        \n",
       "&lt;/body&gt;\n",
       "&lt;script&gt;\n",
       "    \n",
       "    \n",
       "            var map_8515eebd397cf410d26587cb79a6e716 = L.map(\n",
       "                &quot;map_8515eebd397cf410d26587cb79a6e716&quot;,\n",
       "                {\n",
       "                    center: [34.05501440288417, -117.23428106228769],\n",
       "                    crs: L.CRS.EPSG3857,\n",
       "                    zoom: 15,\n",
       "                    zoomControl: true,\n",
       "                    preferCanvas: false,\n",
       "                }\n",
       "            );\n",
       "\n",
       "            \n",
       "\n",
       "        \n",
       "    \n",
       "            var tile_layer_b1baa834ea18653dede93a4d743996df = L.tileLayer(\n",
       "                &quot;https://{s}.tile.openstreetmap.org/{z}/{x}/{y}.png&quot;,\n",
       "                {&quot;attribution&quot;: &quot;Data by \\u0026copy; \\u003ca href=\\&quot;http://openstreetmap.org\\&quot;\\u003eOpenStreetMap\\u003c/a\\u003e, under \\u003ca href=\\&quot;http://www.openstreetmap.org/copyright\\&quot;\\u003eODbL\\u003c/a\\u003e.&quot;, &quot;detectRetina&quot;: false, &quot;maxNativeZoom&quot;: 18, &quot;maxZoom&quot;: 18, &quot;minZoom&quot;: 0, &quot;noWrap&quot;: false, &quot;opacity&quot;: 1, &quot;subdomains&quot;: &quot;abc&quot;, &quot;tms&quot;: false}\n",
       "            ).addTo(map_8515eebd397cf410d26587cb79a6e716);\n",
       "        \n",
       "    \n",
       "\n",
       "        function geo_json_6f1b3bfb98e954288e7ebead978776fd_onEachFeature(feature, layer) {\n",
       "            layer.on({\n",
       "            });\n",
       "        };\n",
       "        var geo_json_6f1b3bfb98e954288e7ebead978776fd = L.geoJson(null, {\n",
       "                onEachFeature: geo_json_6f1b3bfb98e954288e7ebead978776fd_onEachFeature,\n",
       "            \n",
       "        });\n",
       "\n",
       "        function geo_json_6f1b3bfb98e954288e7ebead978776fd_add (data) {\n",
       "            geo_json_6f1b3bfb98e954288e7ebead978776fd\n",
       "                .addData(data)\n",
       "                .addTo(map_8515eebd397cf410d26587cb79a6e716);\n",
       "        }\n",
       "            geo_json_6f1b3bfb98e954288e7ebead978776fd_add({&quot;bbox&quot;: [-117.3, 34.0, -117.15, 34.15], &quot;features&quot;: [{&quot;bbox&quot;: [-117.25, 34.1, -117.2, 34.15], &quot;geometry&quot;: {&quot;coordinates&quot;: [[[-117.2, 34.1], [-117.2, 34.15], [-117.25, 34.15], [-117.25, 34.1], [-117.2, 34.1]]], &quot;type&quot;: &quot;Polygon&quot;}, &quot;id&quot;: &quot;0&quot;, &quot;properties&quot;: {&quot;pluscode&quot;: &quot;85644Q00+&quot;}, &quot;type&quot;: &quot;Feature&quot;}, {&quot;bbox&quot;: [-117.2, 34.1, -117.15, 34.15], &quot;geometry&quot;: {&quot;coordinates&quot;: [[[-117.15, 34.1], [-117.15, 34.15], [-117.2, 34.15], [-117.2, 34.1], [-117.15, 34.1]]], &quot;type&quot;: &quot;Polygon&quot;}, &quot;id&quot;: &quot;1&quot;, &quot;properties&quot;: {&quot;pluscode&quot;: &quot;85644R00+&quot;}, &quot;type&quot;: &quot;Feature&quot;}, {&quot;bbox&quot;: [-117.2, 34.05, -117.15, 34.09999999999999], &quot;geometry&quot;: {&quot;coordinates&quot;: [[[-117.15, 34.05], [-117.15, 34.09999999999999], [-117.2, 34.09999999999999], [-117.2, 34.05], [-117.15, 34.05]]], &quot;type&quot;: &quot;Polygon&quot;}, &quot;id&quot;: &quot;2&quot;, &quot;properties&quot;: {&quot;pluscode&quot;: &quot;85643R00+&quot;}, &quot;type&quot;: &quot;Feature&quot;}, {&quot;bbox&quot;: [-117.2, 34.0, -117.15, 34.05], &quot;geometry&quot;: {&quot;coordinates&quot;: [[[-117.15, 34.0], [-117.15, 34.05], [-117.2, 34.05], [-117.2, 34.0], [-117.15, 34.0]]], &quot;type&quot;: &quot;Polygon&quot;}, &quot;id&quot;: &quot;3&quot;, &quot;properties&quot;: {&quot;pluscode&quot;: &quot;85642R00+&quot;}, &quot;type&quot;: &quot;Feature&quot;}, {&quot;bbox&quot;: [-117.25, 34.0, -117.2, 34.05], &quot;geometry&quot;: {&quot;coordinates&quot;: [[[-117.2, 34.0], [-117.2, 34.05], [-117.25, 34.05], [-117.25, 34.0], [-117.2, 34.0]]], &quot;type&quot;: &quot;Polygon&quot;}, &quot;id&quot;: &quot;4&quot;, &quot;properties&quot;: {&quot;pluscode&quot;: &quot;85642Q00+&quot;}, &quot;type&quot;: &quot;Feature&quot;}, {&quot;bbox&quot;: [-117.3, 34.0, -117.25, 34.05], &quot;geometry&quot;: {&quot;coordinates&quot;: [[[-117.25, 34.0], [-117.25, 34.05], [-117.3, 34.05], [-117.3, 34.0], [-117.25, 34.0]]], &quot;type&quot;: &quot;Polygon&quot;}, &quot;id&quot;: &quot;5&quot;, &quot;properties&quot;: {&quot;pluscode&quot;: &quot;85642P00+&quot;}, &quot;type&quot;: &quot;Feature&quot;}, {&quot;bbox&quot;: [-117.3, 34.05, -117.25, 34.09999999999999], &quot;geometry&quot;: {&quot;coordinates&quot;: [[[-117.25, 34.05], [-117.25, 34.09999999999999], [-117.3, 34.09999999999999], [-117.3, 34.05], [-117.25, 34.05]]], &quot;type&quot;: &quot;Polygon&quot;}, &quot;id&quot;: &quot;6&quot;, &quot;properties&quot;: {&quot;pluscode&quot;: &quot;85643P00+&quot;}, &quot;type&quot;: &quot;Feature&quot;}, {&quot;bbox&quot;: [-117.3, 34.1, -117.25, 34.15], &quot;geometry&quot;: {&quot;coordinates&quot;: [[[-117.25, 34.1], [-117.25, 34.15], [-117.3, 34.15], [-117.3, 34.1], [-117.25, 34.1]]], &quot;type&quot;: &quot;Polygon&quot;}, &quot;id&quot;: &quot;7&quot;, &quot;properties&quot;: {&quot;pluscode&quot;: &quot;85644P00+&quot;}, &quot;type&quot;: &quot;Feature&quot;}], &quot;type&quot;: &quot;FeatureCollection&quot;});\n",
       "\n",
       "        \n",
       "&lt;/script&gt;\n",
       "&lt;/html&gt;\" style=\"position:absolute;width:100%;height:100%;left:0;top:0;border:none !important;\" allowfullscreen webkitallowfullscreen mozallowfullscreen></iframe></div></div>"
      ],
      "text/plain": [
       "<folium.folium.Map at 0x13e5b20e0>"
      ]
     },
     "execution_count": 35,
     "metadata": {},
     "output_type": "execute_result"
    }
   ],
   "source": [
    "m2 = folium.Map(location=[34.05501440288417, -117.23428106228769], zoom_start=15)\n",
    "folium.GeoJson(data=neighbor_plus_geom).add_to(m2)\n",
    "m2"
   ]
  },
  {
   "cell_type": "markdown",
   "id": "2a55ebcc-7857-4c15-8dd5-89d30fc10ee5",
   "metadata": {},
   "source": [
    "## Getting 2nd deg of neighbors"
   ]
  },
  {
   "cell_type": "code",
   "execution_count": 36,
   "id": "2f1f9228-716e-4bff-8f2d-f7ee208b9d4e",
   "metadata": {},
   "outputs": [
    {
     "name": "stdout",
     "output_type": "stream",
     "text": [
      "85643Q00+\n",
      "['85644Q00+', '85644R00+', '85643R00+', '85642R00+', '85642Q00+', '85642P00+', '85643P00+', '85644P00+']\n",
      "{'85642M00+', '85643V00+', '8554XR00+', '8554XV00+', '85643M00+', '85644V00+', '85644P00+', '85642P00+', '85642V00+', '8554XM00+', '85643P00+', '8554XQ00+', '85642R00+', '85644M00+', '85645Q00+', '85644Q00+', '85645V00+', '85645R00+', '8554XP00+', '85643Q00+', '85643R00+', '85645M00+', '85644R00+', '85642Q00+', '85645P00+'}\n"
     ]
    }
   ],
   "source": [
    "given_pc = \"85643Q\"\n",
    "fullcode = pluscodeplus.get_pluscode_from_prefix(given_pc)\n",
    "print(fullcode)\n",
    "\n",
    "deg1 = pluscodeplus.get_surrounding_pluscodes(fullcode)\n",
    "print(deg1)\n",
    "\n",
    "deg2 = set()\n",
    "for pc in deg1:\n",
    "    surround = pluscodeplus.get_surrounding_pluscodes(pc)\n",
    "    for code in surround:\n",
    "        deg2.add(code)\n",
    "\n",
    "print(deg2)"
   ]
  },
  {
   "cell_type": "code",
   "execution_count": 37,
   "id": "aeb0e71f-6c31-4517-9daf-a192efea2e8c",
   "metadata": {},
   "outputs": [
    {
     "data": {
      "text/plain": [
       "25"
      ]
     },
     "execution_count": 37,
     "metadata": {},
     "output_type": "execute_result"
    }
   ],
   "source": [
    "len(deg2)"
   ]
  },
  {
   "cell_type": "code",
   "execution_count": 38,
   "id": "8986ff7b-a3bb-45ce-a161-77298051d39a",
   "metadata": {},
   "outputs": [
    {
     "data": {
      "text/html": [
       "<div>\n",
       "<style scoped>\n",
       "    .dataframe tbody tr th:only-of-type {\n",
       "        vertical-align: middle;\n",
       "    }\n",
       "\n",
       "    .dataframe tbody tr th {\n",
       "        vertical-align: top;\n",
       "    }\n",
       "\n",
       "    .dataframe thead th {\n",
       "        text-align: right;\n",
       "    }\n",
       "</style>\n",
       "<table border=\"1\" class=\"dataframe\">\n",
       "  <thead>\n",
       "    <tr style=\"text-align: right;\">\n",
       "      <th></th>\n",
       "      <th>pluscode</th>\n",
       "      <th>geometry</th>\n",
       "    </tr>\n",
       "  </thead>\n",
       "  <tbody>\n",
       "    <tr>\n",
       "      <th>0</th>\n",
       "      <td>85642M00+</td>\n",
       "      <td>POLYGON ((-117.30000 34.00000, -117.30000 34.0...</td>\n",
       "    </tr>\n",
       "    <tr>\n",
       "      <th>1</th>\n",
       "      <td>85643V00+</td>\n",
       "      <td>POLYGON ((-117.10000 34.05000, -117.10000 34.1...</td>\n",
       "    </tr>\n",
       "    <tr>\n",
       "      <th>2</th>\n",
       "      <td>8554XR00+</td>\n",
       "      <td>POLYGON ((-117.15000 33.95000, -117.15000 34.0...</td>\n",
       "    </tr>\n",
       "    <tr>\n",
       "      <th>3</th>\n",
       "      <td>8554XV00+</td>\n",
       "      <td>POLYGON ((-117.10000 33.95000, -117.10000 34.0...</td>\n",
       "    </tr>\n",
       "    <tr>\n",
       "      <th>4</th>\n",
       "      <td>85643M00+</td>\n",
       "      <td>POLYGON ((-117.30000 34.05000, -117.30000 34.1...</td>\n",
       "    </tr>\n",
       "  </tbody>\n",
       "</table>\n",
       "</div>"
      ],
      "text/plain": [
       "    pluscode                                           geometry\n",
       "0  85642M00+  POLYGON ((-117.30000 34.00000, -117.30000 34.0...\n",
       "1  85643V00+  POLYGON ((-117.10000 34.05000, -117.10000 34.1...\n",
       "2  8554XR00+  POLYGON ((-117.15000 33.95000, -117.15000 34.0...\n",
       "3  8554XV00+  POLYGON ((-117.10000 33.95000, -117.10000 34.0...\n",
       "4  85643M00+  POLYGON ((-117.30000 34.05000, -117.30000 34.1..."
      ]
     },
     "execution_count": 38,
     "metadata": {},
     "output_type": "execute_result"
    }
   ],
   "source": [
    "deg2_geom = pluscodeplus.geometry.get_pluscode_geometry(list(deg2))\n",
    "deg2_geom.head()"
   ]
  },
  {
   "cell_type": "code",
   "execution_count": 39,
   "id": "a62d1f9f-6e0b-484e-be2f-de1dd15a6187",
   "metadata": {},
   "outputs": [
    {
     "data": {
      "text/html": [
       "<div style=\"width:100%;\"><div style=\"position:relative;width:100%;height:0;padding-bottom:60%;\"><span style=\"color:#565656\">Make this Notebook Trusted to load map: File -> Trust Notebook</span><iframe srcdoc=\"&lt;!DOCTYPE html&gt;\n",
       "&lt;html&gt;\n",
       "&lt;head&gt;\n",
       "    \n",
       "    &lt;meta http-equiv=&quot;content-type&quot; content=&quot;text/html; charset=UTF-8&quot; /&gt;\n",
       "    \n",
       "        &lt;script&gt;\n",
       "            L_NO_TOUCH = false;\n",
       "            L_DISABLE_3D = false;\n",
       "        &lt;/script&gt;\n",
       "    \n",
       "    &lt;style&gt;html, body {width: 100%;height: 100%;margin: 0;padding: 0;}&lt;/style&gt;\n",
       "    &lt;style&gt;#map {position:absolute;top:0;bottom:0;right:0;left:0;}&lt;/style&gt;\n",
       "    &lt;script src=&quot;https://cdn.jsdelivr.net/npm/leaflet@1.6.0/dist/leaflet.js&quot;&gt;&lt;/script&gt;\n",
       "    &lt;script src=&quot;https://code.jquery.com/jquery-1.12.4.min.js&quot;&gt;&lt;/script&gt;\n",
       "    &lt;script src=&quot;https://maxcdn.bootstrapcdn.com/bootstrap/3.2.0/js/bootstrap.min.js&quot;&gt;&lt;/script&gt;\n",
       "    &lt;script src=&quot;https://cdnjs.cloudflare.com/ajax/libs/Leaflet.awesome-markers/2.0.2/leaflet.awesome-markers.js&quot;&gt;&lt;/script&gt;\n",
       "    &lt;link rel=&quot;stylesheet&quot; href=&quot;https://cdn.jsdelivr.net/npm/leaflet@1.6.0/dist/leaflet.css&quot;/&gt;\n",
       "    &lt;link rel=&quot;stylesheet&quot; href=&quot;https://maxcdn.bootstrapcdn.com/bootstrap/3.2.0/css/bootstrap.min.css&quot;/&gt;\n",
       "    &lt;link rel=&quot;stylesheet&quot; href=&quot;https://maxcdn.bootstrapcdn.com/bootstrap/3.2.0/css/bootstrap-theme.min.css&quot;/&gt;\n",
       "    &lt;link rel=&quot;stylesheet&quot; href=&quot;https://maxcdn.bootstrapcdn.com/font-awesome/4.6.3/css/font-awesome.min.css&quot;/&gt;\n",
       "    &lt;link rel=&quot;stylesheet&quot; href=&quot;https://cdnjs.cloudflare.com/ajax/libs/Leaflet.awesome-markers/2.0.2/leaflet.awesome-markers.css&quot;/&gt;\n",
       "    &lt;link rel=&quot;stylesheet&quot; href=&quot;https://cdn.jsdelivr.net/gh/python-visualization/folium/folium/templates/leaflet.awesome.rotate.min.css&quot;/&gt;\n",
       "    \n",
       "            &lt;meta name=&quot;viewport&quot; content=&quot;width=device-width,\n",
       "                initial-scale=1.0, maximum-scale=1.0, user-scalable=no&quot; /&gt;\n",
       "            &lt;style&gt;\n",
       "                #map_b7c2948077b0be5c08330e81b68a9fce {\n",
       "                    position: relative;\n",
       "                    width: 100.0%;\n",
       "                    height: 100.0%;\n",
       "                    left: 0.0%;\n",
       "                    top: 0.0%;\n",
       "                }\n",
       "            &lt;/style&gt;\n",
       "        \n",
       "&lt;/head&gt;\n",
       "&lt;body&gt;\n",
       "    \n",
       "    \n",
       "            &lt;div class=&quot;folium-map&quot; id=&quot;map_b7c2948077b0be5c08330e81b68a9fce&quot; &gt;&lt;/div&gt;\n",
       "        \n",
       "&lt;/body&gt;\n",
       "&lt;script&gt;\n",
       "    \n",
       "    \n",
       "            var map_b7c2948077b0be5c08330e81b68a9fce = L.map(\n",
       "                &quot;map_b7c2948077b0be5c08330e81b68a9fce&quot;,\n",
       "                {\n",
       "                    center: [34.05501440288417, -117.23428106228769],\n",
       "                    crs: L.CRS.EPSG3857,\n",
       "                    zoom: 15,\n",
       "                    zoomControl: true,\n",
       "                    preferCanvas: false,\n",
       "                }\n",
       "            );\n",
       "\n",
       "            \n",
       "\n",
       "        \n",
       "    \n",
       "            var tile_layer_2150a737760e329b2856852e2fc2afaa = L.tileLayer(\n",
       "                &quot;https://{s}.tile.openstreetmap.org/{z}/{x}/{y}.png&quot;,\n",
       "                {&quot;attribution&quot;: &quot;Data by \\u0026copy; \\u003ca href=\\&quot;http://openstreetmap.org\\&quot;\\u003eOpenStreetMap\\u003c/a\\u003e, under \\u003ca href=\\&quot;http://www.openstreetmap.org/copyright\\&quot;\\u003eODbL\\u003c/a\\u003e.&quot;, &quot;detectRetina&quot;: false, &quot;maxNativeZoom&quot;: 18, &quot;maxZoom&quot;: 18, &quot;minZoom&quot;: 0, &quot;noWrap&quot;: false, &quot;opacity&quot;: 1, &quot;subdomains&quot;: &quot;abc&quot;, &quot;tms&quot;: false}\n",
       "            ).addTo(map_b7c2948077b0be5c08330e81b68a9fce);\n",
       "        \n",
       "    \n",
       "\n",
       "        function geo_json_a8edc474c54469fd3304d96a02b6e4a4_onEachFeature(feature, layer) {\n",
       "            layer.on({\n",
       "            });\n",
       "        };\n",
       "        var geo_json_a8edc474c54469fd3304d96a02b6e4a4 = L.geoJson(null, {\n",
       "                onEachFeature: geo_json_a8edc474c54469fd3304d96a02b6e4a4_onEachFeature,\n",
       "            \n",
       "        });\n",
       "\n",
       "        function geo_json_a8edc474c54469fd3304d96a02b6e4a4_add (data) {\n",
       "            geo_json_a8edc474c54469fd3304d96a02b6e4a4\n",
       "                .addData(data)\n",
       "                .addTo(map_b7c2948077b0be5c08330e81b68a9fce);\n",
       "        }\n",
       "            geo_json_a8edc474c54469fd3304d96a02b6e4a4_add({&quot;bbox&quot;: [-117.35, 33.95, -117.10000000000001, 34.2], &quot;features&quot;: [{&quot;bbox&quot;: [-117.35, 34.0, -117.3, 34.05], &quot;geometry&quot;: {&quot;coordinates&quot;: [[[-117.3, 34.0], [-117.3, 34.05], [-117.35, 34.05], [-117.35, 34.0], [-117.3, 34.0]]], &quot;type&quot;: &quot;Polygon&quot;}, &quot;id&quot;: &quot;0&quot;, &quot;properties&quot;: {&quot;pluscode&quot;: &quot;85642M00+&quot;}, &quot;type&quot;: &quot;Feature&quot;}, {&quot;bbox&quot;: [-117.15, 34.05, -117.10000000000001, 34.09999999999999], &quot;geometry&quot;: {&quot;coordinates&quot;: [[[-117.10000000000001, 34.05], [-117.10000000000001, 34.09999999999999], [-117.15, 34.09999999999999], [-117.15, 34.05], [-117.10000000000001, 34.05]]], &quot;type&quot;: &quot;Polygon&quot;}, &quot;id&quot;: &quot;1&quot;, &quot;properties&quot;: {&quot;pluscode&quot;: &quot;85643V00+&quot;}, &quot;type&quot;: &quot;Feature&quot;}, {&quot;bbox&quot;: [-117.2, 33.95, -117.15, 34.0], &quot;geometry&quot;: {&quot;coordinates&quot;: [[[-117.15, 33.95], [-117.15, 34.0], [-117.2, 34.0], [-117.2, 33.95], [-117.15, 33.95]]], &quot;type&quot;: &quot;Polygon&quot;}, &quot;id&quot;: &quot;2&quot;, &quot;properties&quot;: {&quot;pluscode&quot;: &quot;8554XR00+&quot;}, &quot;type&quot;: &quot;Feature&quot;}, {&quot;bbox&quot;: [-117.15, 33.95, -117.10000000000001, 34.0], &quot;geometry&quot;: {&quot;coordinates&quot;: [[[-117.10000000000001, 33.95], [-117.10000000000001, 34.0], [-117.15, 34.0], [-117.15, 33.95], [-117.10000000000001, 33.95]]], &quot;type&quot;: &quot;Polygon&quot;}, &quot;id&quot;: &quot;3&quot;, &quot;properties&quot;: {&quot;pluscode&quot;: &quot;8554XV00+&quot;}, &quot;type&quot;: &quot;Feature&quot;}, {&quot;bbox&quot;: [-117.35, 34.05, -117.3, 34.09999999999999], &quot;geometry&quot;: {&quot;coordinates&quot;: [[[-117.3, 34.05], [-117.3, 34.09999999999999], [-117.35, 34.09999999999999], [-117.35, 34.05], [-117.3, 34.05]]], &quot;type&quot;: &quot;Polygon&quot;}, &quot;id&quot;: &quot;4&quot;, &quot;properties&quot;: {&quot;pluscode&quot;: &quot;85643M00+&quot;}, &quot;type&quot;: &quot;Feature&quot;}, {&quot;bbox&quot;: [-117.15, 34.1, -117.10000000000001, 34.15], &quot;geometry&quot;: {&quot;coordinates&quot;: [[[-117.10000000000001, 34.1], [-117.10000000000001, 34.15], [-117.15, 34.15], [-117.15, 34.1], [-117.10000000000001, 34.1]]], &quot;type&quot;: &quot;Polygon&quot;}, &quot;id&quot;: &quot;5&quot;, &quot;properties&quot;: {&quot;pluscode&quot;: &quot;85644V00+&quot;}, &quot;type&quot;: &quot;Feature&quot;}, {&quot;bbox&quot;: [-117.3, 34.1, -117.25, 34.15], &quot;geometry&quot;: {&quot;coordinates&quot;: [[[-117.25, 34.1], [-117.25, 34.15], [-117.3, 34.15], [-117.3, 34.1], [-117.25, 34.1]]], &quot;type&quot;: &quot;Polygon&quot;}, &quot;id&quot;: &quot;6&quot;, &quot;properties&quot;: {&quot;pluscode&quot;: &quot;85644P00+&quot;}, &quot;type&quot;: &quot;Feature&quot;}, {&quot;bbox&quot;: [-117.3, 34.0, -117.25, 34.05], &quot;geometry&quot;: {&quot;coordinates&quot;: [[[-117.25, 34.0], [-117.25, 34.05], [-117.3, 34.05], [-117.3, 34.0], [-117.25, 34.0]]], &quot;type&quot;: &quot;Polygon&quot;}, &quot;id&quot;: &quot;7&quot;, &quot;properties&quot;: {&quot;pluscode&quot;: &quot;85642P00+&quot;}, &quot;type&quot;: &quot;Feature&quot;}, {&quot;bbox&quot;: [-117.15, 34.0, -117.10000000000001, 34.05], &quot;geometry&quot;: {&quot;coordinates&quot;: [[[-117.10000000000001, 34.0], [-117.10000000000001, 34.05], [-117.15, 34.05], [-117.15, 34.0], [-117.10000000000001, 34.0]]], &quot;type&quot;: &quot;Polygon&quot;}, &quot;id&quot;: &quot;8&quot;, &quot;properties&quot;: {&quot;pluscode&quot;: &quot;85642V00+&quot;}, &quot;type&quot;: &quot;Feature&quot;}, {&quot;bbox&quot;: [-117.35, 33.95, -117.3, 34.0], &quot;geometry&quot;: {&quot;coordinates&quot;: [[[-117.3, 33.95], [-117.3, 34.0], [-117.35, 34.0], [-117.35, 33.95], [-117.3, 33.95]]], &quot;type&quot;: &quot;Polygon&quot;}, &quot;id&quot;: &quot;9&quot;, &quot;properties&quot;: {&quot;pluscode&quot;: &quot;8554XM00+&quot;}, &quot;type&quot;: &quot;Feature&quot;}, {&quot;bbox&quot;: [-117.3, 34.05, -117.25, 34.09999999999999], &quot;geometry&quot;: {&quot;coordinates&quot;: [[[-117.25, 34.05], [-117.25, 34.09999999999999], [-117.3, 34.09999999999999], [-117.3, 34.05], [-117.25, 34.05]]], &quot;type&quot;: &quot;Polygon&quot;}, &quot;id&quot;: &quot;10&quot;, &quot;properties&quot;: {&quot;pluscode&quot;: &quot;85643P00+&quot;}, &quot;type&quot;: &quot;Feature&quot;}, {&quot;bbox&quot;: [-117.25, 33.95, -117.2, 34.0], &quot;geometry&quot;: {&quot;coordinates&quot;: [[[-117.2, 33.95], [-117.2, 34.0], [-117.25, 34.0], [-117.25, 33.95], [-117.2, 33.95]]], &quot;type&quot;: &quot;Polygon&quot;}, &quot;id&quot;: &quot;11&quot;, &quot;properties&quot;: {&quot;pluscode&quot;: &quot;8554XQ00+&quot;}, &quot;type&quot;: &quot;Feature&quot;}, {&quot;bbox&quot;: [-117.2, 34.0, -117.15, 34.05], &quot;geometry&quot;: {&quot;coordinates&quot;: [[[-117.15, 34.0], [-117.15, 34.05], [-117.2, 34.05], [-117.2, 34.0], [-117.15, 34.0]]], &quot;type&quot;: &quot;Polygon&quot;}, &quot;id&quot;: &quot;12&quot;, &quot;properties&quot;: {&quot;pluscode&quot;: &quot;85642R00+&quot;}, &quot;type&quot;: &quot;Feature&quot;}, {&quot;bbox&quot;: [-117.35, 34.1, -117.3, 34.15], &quot;geometry&quot;: {&quot;coordinates&quot;: [[[-117.3, 34.1], [-117.3, 34.15], [-117.35, 34.15], [-117.35, 34.1], [-117.3, 34.1]]], &quot;type&quot;: &quot;Polygon&quot;}, &quot;id&quot;: &quot;13&quot;, &quot;properties&quot;: {&quot;pluscode&quot;: &quot;85644M00+&quot;}, &quot;type&quot;: &quot;Feature&quot;}, {&quot;bbox&quot;: [-117.25, 34.15, -117.2, 34.2], &quot;geometry&quot;: {&quot;coordinates&quot;: [[[-117.2, 34.15], [-117.2, 34.2], [-117.25, 34.2], [-117.25, 34.15], [-117.2, 34.15]]], &quot;type&quot;: &quot;Polygon&quot;}, &quot;id&quot;: &quot;14&quot;, &quot;properties&quot;: {&quot;pluscode&quot;: &quot;85645Q00+&quot;}, &quot;type&quot;: &quot;Feature&quot;}, {&quot;bbox&quot;: [-117.25, 34.1, -117.2, 34.15], &quot;geometry&quot;: {&quot;coordinates&quot;: [[[-117.2, 34.1], [-117.2, 34.15], [-117.25, 34.15], [-117.25, 34.1], [-117.2, 34.1]]], &quot;type&quot;: &quot;Polygon&quot;}, &quot;id&quot;: &quot;15&quot;, &quot;properties&quot;: {&quot;pluscode&quot;: &quot;85644Q00+&quot;}, &quot;type&quot;: &quot;Feature&quot;}, {&quot;bbox&quot;: [-117.15, 34.15, -117.10000000000001, 34.2], &quot;geometry&quot;: {&quot;coordinates&quot;: [[[-117.10000000000001, 34.15], [-117.10000000000001, 34.2], [-117.15, 34.2], [-117.15, 34.15], [-117.10000000000001, 34.15]]], &quot;type&quot;: &quot;Polygon&quot;}, &quot;id&quot;: &quot;16&quot;, &quot;properties&quot;: {&quot;pluscode&quot;: &quot;85645V00+&quot;}, &quot;type&quot;: &quot;Feature&quot;}, {&quot;bbox&quot;: [-117.2, 34.15, -117.15, 34.2], &quot;geometry&quot;: {&quot;coordinates&quot;: [[[-117.15, 34.15], [-117.15, 34.2], [-117.2, 34.2], [-117.2, 34.15], [-117.15, 34.15]]], &quot;type&quot;: &quot;Polygon&quot;}, &quot;id&quot;: &quot;17&quot;, &quot;properties&quot;: {&quot;pluscode&quot;: &quot;85645R00+&quot;}, &quot;type&quot;: &quot;Feature&quot;}, {&quot;bbox&quot;: [-117.3, 33.95, -117.25, 34.0], &quot;geometry&quot;: {&quot;coordinates&quot;: [[[-117.25, 33.95], [-117.25, 34.0], [-117.3, 34.0], [-117.3, 33.95], [-117.25, 33.95]]], &quot;type&quot;: &quot;Polygon&quot;}, &quot;id&quot;: &quot;18&quot;, &quot;properties&quot;: {&quot;pluscode&quot;: &quot;8554XP00+&quot;}, &quot;type&quot;: &quot;Feature&quot;}, {&quot;bbox&quot;: [-117.25, 34.05, -117.2, 34.09999999999999], &quot;geometry&quot;: {&quot;coordinates&quot;: [[[-117.2, 34.05], [-117.2, 34.09999999999999], [-117.25, 34.09999999999999], [-117.25, 34.05], [-117.2, 34.05]]], &quot;type&quot;: &quot;Polygon&quot;}, &quot;id&quot;: &quot;19&quot;, &quot;properties&quot;: {&quot;pluscode&quot;: &quot;85643Q00+&quot;}, &quot;type&quot;: &quot;Feature&quot;}, {&quot;bbox&quot;: [-117.2, 34.05, -117.15, 34.09999999999999], &quot;geometry&quot;: {&quot;coordinates&quot;: [[[-117.15, 34.05], [-117.15, 34.09999999999999], [-117.2, 34.09999999999999], [-117.2, 34.05], [-117.15, 34.05]]], &quot;type&quot;: &quot;Polygon&quot;}, &quot;id&quot;: &quot;20&quot;, &quot;properties&quot;: {&quot;pluscode&quot;: &quot;85643R00+&quot;}, &quot;type&quot;: &quot;Feature&quot;}, {&quot;bbox&quot;: [-117.35, 34.15, -117.3, 34.2], &quot;geometry&quot;: {&quot;coordinates&quot;: [[[-117.3, 34.15], [-117.3, 34.2], [-117.35, 34.2], [-117.35, 34.15], [-117.3, 34.15]]], &quot;type&quot;: &quot;Polygon&quot;}, &quot;id&quot;: &quot;21&quot;, &quot;properties&quot;: {&quot;pluscode&quot;: &quot;85645M00+&quot;}, &quot;type&quot;: &quot;Feature&quot;}, {&quot;bbox&quot;: [-117.2, 34.1, -117.15, 34.15], &quot;geometry&quot;: {&quot;coordinates&quot;: [[[-117.15, 34.1], [-117.15, 34.15], [-117.2, 34.15], [-117.2, 34.1], [-117.15, 34.1]]], &quot;type&quot;: &quot;Polygon&quot;}, &quot;id&quot;: &quot;22&quot;, &quot;properties&quot;: {&quot;pluscode&quot;: &quot;85644R00+&quot;}, &quot;type&quot;: &quot;Feature&quot;}, {&quot;bbox&quot;: [-117.25, 34.0, -117.2, 34.05], &quot;geometry&quot;: {&quot;coordinates&quot;: [[[-117.2, 34.0], [-117.2, 34.05], [-117.25, 34.05], [-117.25, 34.0], [-117.2, 34.0]]], &quot;type&quot;: &quot;Polygon&quot;}, &quot;id&quot;: &quot;23&quot;, &quot;properties&quot;: {&quot;pluscode&quot;: &quot;85642Q00+&quot;}, &quot;type&quot;: &quot;Feature&quot;}, {&quot;bbox&quot;: [-117.3, 34.15, -117.25, 34.2], &quot;geometry&quot;: {&quot;coordinates&quot;: [[[-117.25, 34.15], [-117.25, 34.2], [-117.3, 34.2], [-117.3, 34.15], [-117.25, 34.15]]], &quot;type&quot;: &quot;Polygon&quot;}, &quot;id&quot;: &quot;24&quot;, &quot;properties&quot;: {&quot;pluscode&quot;: &quot;85645P00+&quot;}, &quot;type&quot;: &quot;Feature&quot;}], &quot;type&quot;: &quot;FeatureCollection&quot;});\n",
       "\n",
       "        \n",
       "&lt;/script&gt;\n",
       "&lt;/html&gt;\" style=\"position:absolute;width:100%;height:100%;left:0;top:0;border:none !important;\" allowfullscreen webkitallowfullscreen mozallowfullscreen></iframe></div></div>"
      ],
      "text/plain": [
       "<folium.folium.Map at 0x13fc082e0>"
      ]
     },
     "execution_count": 39,
     "metadata": {},
     "output_type": "execute_result"
    }
   ],
   "source": [
    "deg2_neigh_map = folium.Map(location=[34.05501440288417, -117.23428106228769], zoom_start=15)\n",
    "folium.GeoJson(data=deg2_geom).add_to(deg2_neigh_map)\n",
    "deg2_neigh_map"
   ]
  },
  {
   "cell_type": "markdown",
   "id": "7d9ed1b0-52ee-4124-b136-9442f1a890b5",
   "metadata": {},
   "source": [
    "## Plotting subgrids"
   ]
  },
  {
   "cell_type": "code",
   "execution_count": 11,
   "id": "4850a4d7-a15d-459c-b24f-84e83abcad01",
   "metadata": {},
   "outputs": [
    {
     "data": {
      "text/html": [
       "<div>\n",
       "<style scoped>\n",
       "    .dataframe tbody tr th:only-of-type {\n",
       "        vertical-align: middle;\n",
       "    }\n",
       "\n",
       "    .dataframe tbody tr th {\n",
       "        vertical-align: top;\n",
       "    }\n",
       "\n",
       "    .dataframe thead th {\n",
       "        text-align: right;\n",
       "    }\n",
       "</style>\n",
       "<table border=\"1\" class=\"dataframe\">\n",
       "  <thead>\n",
       "    <tr style=\"text-align: right;\">\n",
       "      <th></th>\n",
       "      <th>pluscode</th>\n",
       "      <th>geometry</th>\n",
       "    </tr>\n",
       "  </thead>\n",
       "  <tbody>\n",
       "    <tr>\n",
       "      <th>0</th>\n",
       "      <td>85643Q57+22</td>\n",
       "      <td>POLYGON ((-117.23738 34.05750, -117.23738 34.0...</td>\n",
       "    </tr>\n",
       "    <tr>\n",
       "      <th>1</th>\n",
       "      <td>85643Q57+23</td>\n",
       "      <td>POLYGON ((-117.23725 34.05750, -117.23725 34.0...</td>\n",
       "    </tr>\n",
       "    <tr>\n",
       "      <th>2</th>\n",
       "      <td>85643Q57+24</td>\n",
       "      <td>POLYGON ((-117.23713 34.05750, -117.23713 34.0...</td>\n",
       "    </tr>\n",
       "    <tr>\n",
       "      <th>3</th>\n",
       "      <td>85643Q57+25</td>\n",
       "      <td>POLYGON ((-117.23700 34.05750, -117.23700 34.0...</td>\n",
       "    </tr>\n",
       "    <tr>\n",
       "      <th>4</th>\n",
       "      <td>85643Q57+26</td>\n",
       "      <td>POLYGON ((-117.23687 34.05750, -117.23687 34.0...</td>\n",
       "    </tr>\n",
       "    <tr>\n",
       "      <th>...</th>\n",
       "      <td>...</td>\n",
       "      <td>...</td>\n",
       "    </tr>\n",
       "    <tr>\n",
       "      <th>395</th>\n",
       "      <td>85643Q57+XQ</td>\n",
       "      <td>POLYGON ((-117.23550 34.05987, -117.23550 34.0...</td>\n",
       "    </tr>\n",
       "    <tr>\n",
       "      <th>396</th>\n",
       "      <td>85643Q57+XR</td>\n",
       "      <td>POLYGON ((-117.23538 34.05987, -117.23538 34.0...</td>\n",
       "    </tr>\n",
       "    <tr>\n",
       "      <th>397</th>\n",
       "      <td>85643Q57+XV</td>\n",
       "      <td>POLYGON ((-117.23525 34.05987, -117.23525 34.0...</td>\n",
       "    </tr>\n",
       "    <tr>\n",
       "      <th>398</th>\n",
       "      <td>85643Q57+XW</td>\n",
       "      <td>POLYGON ((-117.23512 34.05987, -117.23512 34.0...</td>\n",
       "    </tr>\n",
       "    <tr>\n",
       "      <th>399</th>\n",
       "      <td>85643Q57+XX</td>\n",
       "      <td>POLYGON ((-117.23500 34.05987, -117.23500 34.0...</td>\n",
       "    </tr>\n",
       "  </tbody>\n",
       "</table>\n",
       "<p>400 rows × 2 columns</p>\n",
       "</div>"
      ],
      "text/plain": [
       "        pluscode                                           geometry\n",
       "0    85643Q57+22  POLYGON ((-117.23738 34.05750, -117.23738 34.0...\n",
       "1    85643Q57+23  POLYGON ((-117.23725 34.05750, -117.23725 34.0...\n",
       "2    85643Q57+24  POLYGON ((-117.23713 34.05750, -117.23713 34.0...\n",
       "3    85643Q57+25  POLYGON ((-117.23700 34.05750, -117.23700 34.0...\n",
       "4    85643Q57+26  POLYGON ((-117.23687 34.05750, -117.23687 34.0...\n",
       "..           ...                                                ...\n",
       "395  85643Q57+XQ  POLYGON ((-117.23550 34.05987, -117.23550 34.0...\n",
       "396  85643Q57+XR  POLYGON ((-117.23538 34.05987, -117.23538 34.0...\n",
       "397  85643Q57+XV  POLYGON ((-117.23525 34.05987, -117.23525 34.0...\n",
       "398  85643Q57+XW  POLYGON ((-117.23512 34.05987, -117.23512 34.0...\n",
       "399  85643Q57+XX  POLYGON ((-117.23500 34.05987, -117.23500 34.0...\n",
       "\n",
       "[400 rows x 2 columns]"
      ]
     },
     "execution_count": 11,
     "metadata": {},
     "output_type": "execute_result"
    }
   ],
   "source": [
    "s1 = pluscodeplus.get_pluscode_subgrids(\"85643Q57+\")\n",
    "s1_geoms = pluscodeplus.get_pluscode_geometry(s1)\n",
    "s1_geoms"
   ]
  },
  {
   "cell_type": "code",
   "execution_count": 12,
   "id": "e25384ec-3fba-4e43-a4bb-da8890c2f0f9",
   "metadata": {},
   "outputs": [
    {
     "data": {
      "text/html": [
       "<div style=\"width:100%;\"><div style=\"position:relative;width:100%;height:0;padding-bottom:60%;\"><span style=\"color:#565656\">Make this Notebook Trusted to load map: File -> Trust Notebook</span><iframe srcdoc=\"&lt;!DOCTYPE html&gt;\n",
       "&lt;html&gt;\n",
       "&lt;head&gt;\n",
       "    \n",
       "    &lt;meta http-equiv=&quot;content-type&quot; content=&quot;text/html; charset=UTF-8&quot; /&gt;\n",
       "    \n",
       "        &lt;script&gt;\n",
       "            L_NO_TOUCH = false;\n",
       "            L_DISABLE_3D = false;\n",
       "        &lt;/script&gt;\n",
       "    \n",
       "    &lt;style&gt;html, body {width: 100%;height: 100%;margin: 0;padding: 0;}&lt;/style&gt;\n",
       "    &lt;style&gt;#map {position:absolute;top:0;bottom:0;right:0;left:0;}&lt;/style&gt;\n",
       "    &lt;script src=&quot;https://cdn.jsdelivr.net/npm/leaflet@1.6.0/dist/leaflet.js&quot;&gt;&lt;/script&gt;\n",
       "    &lt;script src=&quot;https://code.jquery.com/jquery-1.12.4.min.js&quot;&gt;&lt;/script&gt;\n",
       "    &lt;script src=&quot;https://maxcdn.bootstrapcdn.com/bootstrap/3.2.0/js/bootstrap.min.js&quot;&gt;&lt;/script&gt;\n",
       "    &lt;script src=&quot;https://cdnjs.cloudflare.com/ajax/libs/Leaflet.awesome-markers/2.0.2/leaflet.awesome-markers.js&quot;&gt;&lt;/script&gt;\n",
       "    &lt;link rel=&quot;stylesheet&quot; href=&quot;https://cdn.jsdelivr.net/npm/leaflet@1.6.0/dist/leaflet.css&quot;/&gt;\n",
       "    &lt;link rel=&quot;stylesheet&quot; href=&quot;https://maxcdn.bootstrapcdn.com/bootstrap/3.2.0/css/bootstrap.min.css&quot;/&gt;\n",
       "    &lt;link rel=&quot;stylesheet&quot; href=&quot;https://maxcdn.bootstrapcdn.com/bootstrap/3.2.0/css/bootstrap-theme.min.css&quot;/&gt;\n",
       "    &lt;link rel=&quot;stylesheet&quot; href=&quot;https://maxcdn.bootstrapcdn.com/font-awesome/4.6.3/css/font-awesome.min.css&quot;/&gt;\n",
       "    &lt;link rel=&quot;stylesheet&quot; href=&quot;https://cdnjs.cloudflare.com/ajax/libs/Leaflet.awesome-markers/2.0.2/leaflet.awesome-markers.css&quot;/&gt;\n",
       "    &lt;link rel=&quot;stylesheet&quot; href=&quot;https://cdn.jsdelivr.net/gh/python-visualization/folium/folium/templates/leaflet.awesome.rotate.min.css&quot;/&gt;\n",
       "    \n",
       "            &lt;meta name=&quot;viewport&quot; content=&quot;width=device-width,\n",
       "                initial-scale=1.0, maximum-scale=1.0, user-scalable=no&quot; /&gt;\n",
       "            &lt;style&gt;\n",
       "                #map_3082145c5f2c87da581a32ac8ad521a3 {\n",
       "                    position: relative;\n",
       "                    width: 100.0%;\n",
       "                    height: 100.0%;\n",
       "                    left: 0.0%;\n",
       "                    top: 0.0%;\n",
       "                }\n",
       "            &lt;/style&gt;\n",
       "        \n",
       "&lt;/head&gt;\n",
       "&lt;body&gt;\n",
       "    \n",
       "    \n",
       "            &lt;div class=&quot;folium-map&quot; id=&quot;map_3082145c5f2c87da581a32ac8ad521a3&quot; &gt;&lt;/div&gt;\n",
       "        \n",
       "&lt;/body&gt;\n",
       "&lt;script&gt;\n",
       "    \n",
       "    \n",
       "            var map_3082145c5f2c87da581a32ac8ad521a3 = L.map(\n",
       "                &quot;map_3082145c5f2c87da581a32ac8ad521a3&quot;,\n",
       "                {\n",
       "                    center: [34.05501440288417, -117.23428106228769],\n",
       "                    crs: L.CRS.EPSG3857,\n",
       "                    zoom: 16,\n",
       "                    zoomControl: true,\n",
       "                    preferCanvas: false,\n",
       "                }\n",
       "            );\n",
       "\n",
       "            \n",
       "\n",
       "        \n",
       "    \n",
       "            var tile_layer_d9d78d3f7745ec487e7cd6403d292a70 = L.tileLayer(\n",
       "                &quot;https://{s}.tile.openstreetmap.org/{z}/{x}/{y}.png&quot;,\n",
       "                {&quot;attribution&quot;: &quot;Data by \\u0026copy; \\u003ca href=\\&quot;http://openstreetmap.org\\&quot;\\u003eOpenStreetMap\\u003c/a\\u003e, under \\u003ca href=\\&quot;http://www.openstreetmap.org/copyright\\&quot;\\u003eODbL\\u003c/a\\u003e.&quot;, &quot;detectRetina&quot;: false, &quot;maxNativeZoom&quot;: 18, &quot;maxZoom&quot;: 18, &quot;minZoom&quot;: 0, &quot;noWrap&quot;: false, &quot;opacity&quot;: 1, &quot;subdomains&quot;: &quot;abc&quot;, &quot;tms&quot;: false}\n",
       "            ).addTo(map_3082145c5f2c87da581a32ac8ad521a3);\n",
       "        \n",
       "    \n",
       "\n",
       "        function geo_json_8b353a2ee2308c8e2d2b46951fbeab4f_onEachFeature(feature, layer) {\n",
       "            layer.on({\n",
       "            });\n",
       "        };\n",
       "        var geo_json_8b353a2ee2308c8e2d2b46951fbeab4f = L.geoJson(null, {\n",
       "                onEachFeature: geo_json_8b353a2ee2308c8e2d2b46951fbeab4f_onEachFeature,\n",
       "            \n",
       "        });\n",
       "\n",
       "        function geo_json_8b353a2ee2308c8e2d2b46951fbeab4f_add (data) {\n",
       "            geo_json_8b353a2ee2308c8e2d2b46951fbeab4f\n",
       "                .addData(data)\n",
       "                .addTo(map_3082145c5f2c87da581a32ac8ad521a3);\n",
       "        }\n",
       "            geo_json_8b353a2ee2308c8e2d2b46951fbeab4f_add({&quot;bbox&quot;: [-117.2375, 34.0575, -117.235, 34.06], &quot;features&quot;: [{&quot;bbox&quot;: [-117.2375, 34.0575, -117.237375, 34.05762499999999], &quot;geometry&quot;: {&quot;coordinates&quot;: [[[-117.237375, 34.0575], [-117.237375, 34.05762499999999], [-117.2375, 34.05762499999999], [-117.2375, 34.0575], [-117.237375, 34.0575]]], &quot;type&quot;: &quot;Polygon&quot;}, &quot;id&quot;: &quot;0&quot;, &quot;properties&quot;: {&quot;pluscode&quot;: &quot;85643Q57+22&quot;}, &quot;type&quot;: &quot;Feature&quot;}, {&quot;bbox&quot;: [-117.237375, 34.0575, -117.23725, 34.05762499999999], &quot;geometry&quot;: {&quot;coordinates&quot;: [[[-117.23725, 34.0575], [-117.23725, 34.05762499999999], [-117.237375, 34.05762499999999], [-117.237375, 34.0575], [-117.23725, 34.0575]]], &quot;type&quot;: &quot;Polygon&quot;}, &quot;id&quot;: &quot;1&quot;, &quot;properties&quot;: {&quot;pluscode&quot;: &quot;85643Q57+23&quot;}, &quot;type&quot;: &quot;Feature&quot;}, {&quot;bbox&quot;: [-117.23725, 34.0575, -117.237125, 34.05762499999999], &quot;geometry&quot;: {&quot;coordinates&quot;: [[[-117.237125, 34.0575], [-117.237125, 34.05762499999999], [-117.23725, 34.05762499999999], [-117.23725, 34.0575], [-117.237125, 34.0575]]], &quot;type&quot;: &quot;Polygon&quot;}, &quot;id&quot;: &quot;2&quot;, &quot;properties&quot;: {&quot;pluscode&quot;: &quot;85643Q57+24&quot;}, &quot;type&quot;: &quot;Feature&quot;}, {&quot;bbox&quot;: [-117.237125, 34.0575, -117.23700000000001, 34.05762499999999], &quot;geometry&quot;: {&quot;coordinates&quot;: [[[-117.23700000000001, 34.0575], [-117.23700000000001, 34.05762499999999], [-117.237125, 34.05762499999999], [-117.237125, 34.0575], [-117.23700000000001, 34.0575]]], &quot;type&quot;: &quot;Polygon&quot;}, &quot;id&quot;: &quot;3&quot;, &quot;properties&quot;: {&quot;pluscode&quot;: &quot;85643Q57+25&quot;}, &quot;type&quot;: &quot;Feature&quot;}, {&quot;bbox&quot;: [-117.237, 34.0575, -117.236875, 34.05762499999999], &quot;geometry&quot;: {&quot;coordinates&quot;: [[[-117.236875, 34.0575], [-117.236875, 34.05762499999999], [-117.237, 34.05762499999999], [-117.237, 34.0575], [-117.236875, 34.0575]]], &quot;type&quot;: &quot;Polygon&quot;}, &quot;id&quot;: &quot;4&quot;, &quot;properties&quot;: {&quot;pluscode&quot;: &quot;85643Q57+26&quot;}, &quot;type&quot;: &quot;Feature&quot;}, {&quot;bbox&quot;: [-117.236875, 34.0575, -117.23675, 34.05762499999999], &quot;geometry&quot;: {&quot;coordinates&quot;: [[[-117.23675, 34.0575], [-117.23675, 34.05762499999999], [-117.236875, 34.05762499999999], [-117.236875, 34.0575], [-117.23675, 34.0575]]], &quot;type&quot;: &quot;Polygon&quot;}, &quot;id&quot;: &quot;5&quot;, &quot;properties&quot;: {&quot;pluscode&quot;: &quot;85643Q57+27&quot;}, &quot;type&quot;: &quot;Feature&quot;}, {&quot;bbox&quot;: [-117.23675, 34.0575, -117.236625, 34.05762499999999], &quot;geometry&quot;: {&quot;coordinates&quot;: [[[-117.236625, 34.0575], [-117.236625, 34.05762499999999], [-117.23675, 34.05762499999999], [-117.23675, 34.0575], [-117.236625, 34.0575]]], &quot;type&quot;: &quot;Polygon&quot;}, &quot;id&quot;: &quot;6&quot;, &quot;properties&quot;: {&quot;pluscode&quot;: &quot;85643Q57+28&quot;}, &quot;type&quot;: &quot;Feature&quot;}, {&quot;bbox&quot;: [-117.236625, 34.0575, -117.2365, 34.05762499999999], &quot;geometry&quot;: {&quot;coordinates&quot;: [[[-117.2365, 34.0575], [-117.2365, 34.05762499999999], [-117.236625, 34.05762499999999], [-117.236625, 34.0575], [-117.2365, 34.0575]]], &quot;type&quot;: &quot;Polygon&quot;}, &quot;id&quot;: &quot;7&quot;, &quot;properties&quot;: {&quot;pluscode&quot;: &quot;85643Q57+29&quot;}, &quot;type&quot;: &quot;Feature&quot;}, {&quot;bbox&quot;: [-117.2365, 34.0575, -117.23637500000001, 34.05762499999999], &quot;geometry&quot;: {&quot;coordinates&quot;: [[[-117.23637500000001, 34.0575], [-117.23637500000001, 34.05762499999999], [-117.2365, 34.05762499999999], [-117.2365, 34.0575], [-117.23637500000001, 34.0575]]], &quot;type&quot;: &quot;Polygon&quot;}, &quot;id&quot;: &quot;8&quot;, &quot;properties&quot;: {&quot;pluscode&quot;: &quot;85643Q57+2C&quot;}, &quot;type&quot;: &quot;Feature&quot;}, {&quot;bbox&quot;: [-117.236375, 34.0575, -117.23625, 34.05762499999999], &quot;geometry&quot;: {&quot;coordinates&quot;: [[[-117.23625, 34.0575], [-117.23625, 34.05762499999999], [-117.236375, 34.05762499999999], [-117.236375, 34.0575], [-117.23625, 34.0575]]], &quot;type&quot;: &quot;Polygon&quot;}, &quot;id&quot;: &quot;9&quot;, &quot;properties&quot;: {&quot;pluscode&quot;: &quot;85643Q57+2F&quot;}, &quot;type&quot;: &quot;Feature&quot;}, {&quot;bbox&quot;: [-117.23625, 34.0575, -117.236125, 34.05762499999999], &quot;geometry&quot;: {&quot;coordinates&quot;: [[[-117.236125, 34.0575], [-117.236125, 34.05762499999999], [-117.23625, 34.05762499999999], [-117.23625, 34.0575], [-117.236125, 34.0575]]], &quot;type&quot;: &quot;Polygon&quot;}, &quot;id&quot;: &quot;10&quot;, &quot;properties&quot;: {&quot;pluscode&quot;: &quot;85643Q57+2G&quot;}, &quot;type&quot;: &quot;Feature&quot;}, {&quot;bbox&quot;: [-117.236125, 34.0575, -117.236, 34.05762499999999], &quot;geometry&quot;: {&quot;coordinates&quot;: [[[-117.236, 34.0575], [-117.236, 34.05762499999999], [-117.236125, 34.05762499999999], [-117.236125, 34.0575], [-117.236, 34.0575]]], &quot;type&quot;: &quot;Polygon&quot;}, &quot;id&quot;: &quot;11&quot;, &quot;properties&quot;: {&quot;pluscode&quot;: &quot;85643Q57+2H&quot;}, &quot;type&quot;: &quot;Feature&quot;}, {&quot;bbox&quot;: [-117.236, 34.0575, -117.23587500000001, 34.05762499999999], &quot;geometry&quot;: {&quot;coordinates&quot;: [[[-117.23587500000001, 34.0575], [-117.23587500000001, 34.05762499999999], [-117.236, 34.05762499999999], [-117.236, 34.0575], [-117.23587500000001, 34.0575]]], &quot;type&quot;: &quot;Polygon&quot;}, &quot;id&quot;: &quot;12&quot;, &quot;properties&quot;: {&quot;pluscode&quot;: &quot;85643Q57+2J&quot;}, &quot;type&quot;: &quot;Feature&quot;}, {&quot;bbox&quot;: [-117.235875, 34.0575, -117.23575, 34.05762499999999], &quot;geometry&quot;: {&quot;coordinates&quot;: [[[-117.23575, 34.0575], [-117.23575, 34.05762499999999], [-117.235875, 34.05762499999999], [-117.235875, 34.0575], [-117.23575, 34.0575]]], &quot;type&quot;: &quot;Polygon&quot;}, &quot;id&quot;: &quot;13&quot;, &quot;properties&quot;: {&quot;pluscode&quot;: &quot;85643Q57+2M&quot;}, &quot;type&quot;: &quot;Feature&quot;}, {&quot;bbox&quot;: [-117.23575, 34.0575, -117.235625, 34.05762499999999], &quot;geometry&quot;: {&quot;coordinates&quot;: [[[-117.235625, 34.0575], [-117.235625, 34.05762499999999], [-117.23575, 34.05762499999999], [-117.23575, 34.0575], [-117.235625, 34.0575]]], &quot;type&quot;: &quot;Polygon&quot;}, &quot;id&quot;: &quot;14&quot;, &quot;properties&quot;: {&quot;pluscode&quot;: &quot;85643Q57+2P&quot;}, &quot;type&quot;: &quot;Feature&quot;}, {&quot;bbox&quot;: [-117.235625, 34.0575, -117.2355, 34.05762499999999], &quot;geometry&quot;: {&quot;coordinates&quot;: [[[-117.2355, 34.0575], [-117.2355, 34.05762499999999], [-117.235625, 34.05762499999999], [-117.235625, 34.0575], [-117.2355, 34.0575]]], &quot;type&quot;: &quot;Polygon&quot;}, &quot;id&quot;: &quot;15&quot;, &quot;properties&quot;: {&quot;pluscode&quot;: &quot;85643Q57+2Q&quot;}, &quot;type&quot;: &quot;Feature&quot;}, {&quot;bbox&quot;: [-117.2355, 34.0575, -117.235375, 34.05762499999999], &quot;geometry&quot;: {&quot;coordinates&quot;: [[[-117.235375, 34.0575], [-117.235375, 34.05762499999999], [-117.2355, 34.05762499999999], [-117.2355, 34.0575], [-117.235375, 34.0575]]], &quot;type&quot;: &quot;Polygon&quot;}, &quot;id&quot;: &quot;16&quot;, &quot;properties&quot;: {&quot;pluscode&quot;: &quot;85643Q57+2R&quot;}, &quot;type&quot;: &quot;Feature&quot;}, {&quot;bbox&quot;: [-117.235375, 34.0575, -117.23525000000001, 34.05762499999999], &quot;geometry&quot;: {&quot;coordinates&quot;: [[[-117.23525000000001, 34.0575], [-117.23525000000001, 34.05762499999999], [-117.235375, 34.05762499999999], [-117.235375, 34.0575], [-117.23525000000001, 34.0575]]], &quot;type&quot;: &quot;Polygon&quot;}, &quot;id&quot;: &quot;17&quot;, &quot;properties&quot;: {&quot;pluscode&quot;: &quot;85643Q57+2V&quot;}, &quot;type&quot;: &quot;Feature&quot;}, {&quot;bbox&quot;: [-117.23525, 34.0575, -117.235125, 34.05762499999999], &quot;geometry&quot;: {&quot;coordinates&quot;: [[[-117.235125, 34.0575], [-117.235125, 34.05762499999999], [-117.23525, 34.05762499999999], [-117.23525, 34.0575], [-117.235125, 34.0575]]], &quot;type&quot;: &quot;Polygon&quot;}, &quot;id&quot;: &quot;18&quot;, &quot;properties&quot;: {&quot;pluscode&quot;: &quot;85643Q57+2W&quot;}, &quot;type&quot;: &quot;Feature&quot;}, {&quot;bbox&quot;: [-117.235125, 34.0575, -117.235, 34.05762499999999], &quot;geometry&quot;: {&quot;coordinates&quot;: [[[-117.235, 34.0575], [-117.235, 34.05762499999999], [-117.235125, 34.05762499999999], [-117.235125, 34.0575], [-117.235, 34.0575]]], &quot;type&quot;: &quot;Polygon&quot;}, &quot;id&quot;: &quot;19&quot;, &quot;properties&quot;: {&quot;pluscode&quot;: &quot;85643Q57+2X&quot;}, &quot;type&quot;: &quot;Feature&quot;}, {&quot;bbox&quot;: [-117.2375, 34.057625, -117.237375, 34.05775], &quot;geometry&quot;: {&quot;coordinates&quot;: [[[-117.237375, 34.057625], [-117.237375, 34.05775], [-117.2375, 34.05775], [-117.2375, 34.057625], [-117.237375, 34.057625]]], &quot;type&quot;: &quot;Polygon&quot;}, &quot;id&quot;: &quot;20&quot;, &quot;properties&quot;: {&quot;pluscode&quot;: &quot;85643Q57+32&quot;}, &quot;type&quot;: &quot;Feature&quot;}, {&quot;bbox&quot;: [-117.237375, 34.057625, -117.23725, 34.05775], &quot;geometry&quot;: {&quot;coordinates&quot;: [[[-117.23725, 34.057625], [-117.23725, 34.05775], [-117.237375, 34.05775], [-117.237375, 34.057625], [-117.23725, 34.057625]]], &quot;type&quot;: &quot;Polygon&quot;}, &quot;id&quot;: &quot;21&quot;, &quot;properties&quot;: {&quot;pluscode&quot;: &quot;85643Q57+33&quot;}, &quot;type&quot;: &quot;Feature&quot;}, {&quot;bbox&quot;: [-117.23725, 34.057625, -117.237125, 34.05775], &quot;geometry&quot;: {&quot;coordinates&quot;: [[[-117.237125, 34.057625], [-117.237125, 34.05775], [-117.23725, 34.05775], [-117.23725, 34.057625], [-117.237125, 34.057625]]], &quot;type&quot;: &quot;Polygon&quot;}, &quot;id&quot;: &quot;22&quot;, &quot;properties&quot;: {&quot;pluscode&quot;: &quot;85643Q57+34&quot;}, &quot;type&quot;: &quot;Feature&quot;}, {&quot;bbox&quot;: [-117.237125, 34.057625, -117.23700000000001, 34.05775], &quot;geometry&quot;: {&quot;coordinates&quot;: [[[-117.23700000000001, 34.057625], [-117.23700000000001, 34.05775], [-117.237125, 34.05775], [-117.237125, 34.057625], [-117.23700000000001, 34.057625]]], &quot;type&quot;: &quot;Polygon&quot;}, &quot;id&quot;: &quot;23&quot;, &quot;properties&quot;: {&quot;pluscode&quot;: &quot;85643Q57+35&quot;}, &quot;type&quot;: &quot;Feature&quot;}, {&quot;bbox&quot;: [-117.237, 34.057625, -117.236875, 34.05775], &quot;geometry&quot;: {&quot;coordinates&quot;: [[[-117.236875, 34.057625], [-117.236875, 34.05775], [-117.237, 34.05775], [-117.237, 34.057625], [-117.236875, 34.057625]]], &quot;type&quot;: &quot;Polygon&quot;}, &quot;id&quot;: &quot;24&quot;, &quot;properties&quot;: {&quot;pluscode&quot;: &quot;85643Q57+36&quot;}, &quot;type&quot;: &quot;Feature&quot;}, {&quot;bbox&quot;: [-117.236875, 34.057625, -117.23675, 34.05775], &quot;geometry&quot;: {&quot;coordinates&quot;: [[[-117.23675, 34.057625], [-117.23675, 34.05775], [-117.236875, 34.05775], [-117.236875, 34.057625], [-117.23675, 34.057625]]], &quot;type&quot;: &quot;Polygon&quot;}, &quot;id&quot;: &quot;25&quot;, &quot;properties&quot;: {&quot;pluscode&quot;: &quot;85643Q57+37&quot;}, &quot;type&quot;: &quot;Feature&quot;}, {&quot;bbox&quot;: [-117.23675, 34.057625, -117.236625, 34.05775], &quot;geometry&quot;: {&quot;coordinates&quot;: [[[-117.236625, 34.057625], [-117.236625, 34.05775], [-117.23675, 34.05775], [-117.23675, 34.057625], [-117.236625, 34.057625]]], &quot;type&quot;: &quot;Polygon&quot;}, &quot;id&quot;: &quot;26&quot;, &quot;properties&quot;: {&quot;pluscode&quot;: &quot;85643Q57+38&quot;}, &quot;type&quot;: &quot;Feature&quot;}, {&quot;bbox&quot;: [-117.236625, 34.057625, -117.2365, 34.05775], &quot;geometry&quot;: {&quot;coordinates&quot;: [[[-117.2365, 34.057625], [-117.2365, 34.05775], [-117.236625, 34.05775], [-117.236625, 34.057625], [-117.2365, 34.057625]]], &quot;type&quot;: &quot;Polygon&quot;}, &quot;id&quot;: &quot;27&quot;, &quot;properties&quot;: {&quot;pluscode&quot;: &quot;85643Q57+39&quot;}, &quot;type&quot;: &quot;Feature&quot;}, {&quot;bbox&quot;: [-117.2365, 34.057625, -117.23637500000001, 34.05775], &quot;geometry&quot;: {&quot;coordinates&quot;: [[[-117.23637500000001, 34.057625], [-117.23637500000001, 34.05775], [-117.2365, 34.05775], [-117.2365, 34.057625], [-117.23637500000001, 34.057625]]], &quot;type&quot;: &quot;Polygon&quot;}, &quot;id&quot;: &quot;28&quot;, &quot;properties&quot;: {&quot;pluscode&quot;: &quot;85643Q57+3C&quot;}, &quot;type&quot;: &quot;Feature&quot;}, {&quot;bbox&quot;: [-117.236375, 34.057625, -117.23625, 34.05775], &quot;geometry&quot;: {&quot;coordinates&quot;: [[[-117.23625, 34.057625], [-117.23625, 34.05775], [-117.236375, 34.05775], [-117.236375, 34.057625], [-117.23625, 34.057625]]], &quot;type&quot;: &quot;Polygon&quot;}, &quot;id&quot;: &quot;29&quot;, &quot;properties&quot;: {&quot;pluscode&quot;: &quot;85643Q57+3F&quot;}, &quot;type&quot;: &quot;Feature&quot;}, {&quot;bbox&quot;: [-117.23625, 34.057625, -117.236125, 34.05775], &quot;geometry&quot;: {&quot;coordinates&quot;: [[[-117.236125, 34.057625], [-117.236125, 34.05775], [-117.23625, 34.05775], [-117.23625, 34.057625], [-117.236125, 34.057625]]], &quot;type&quot;: &quot;Polygon&quot;}, &quot;id&quot;: &quot;30&quot;, &quot;properties&quot;: {&quot;pluscode&quot;: &quot;85643Q57+3G&quot;}, &quot;type&quot;: &quot;Feature&quot;}, {&quot;bbox&quot;: [-117.236125, 34.057625, -117.236, 34.05775], &quot;geometry&quot;: {&quot;coordinates&quot;: [[[-117.236, 34.057625], [-117.236, 34.05775], [-117.236125, 34.05775], [-117.236125, 34.057625], [-117.236, 34.057625]]], &quot;type&quot;: &quot;Polygon&quot;}, &quot;id&quot;: &quot;31&quot;, &quot;properties&quot;: {&quot;pluscode&quot;: &quot;85643Q57+3H&quot;}, &quot;type&quot;: &quot;Feature&quot;}, {&quot;bbox&quot;: [-117.236, 34.057625, -117.23587500000001, 34.05775], &quot;geometry&quot;: {&quot;coordinates&quot;: [[[-117.23587500000001, 34.057625], [-117.23587500000001, 34.05775], [-117.236, 34.05775], [-117.236, 34.057625], [-117.23587500000001, 34.057625]]], &quot;type&quot;: &quot;Polygon&quot;}, &quot;id&quot;: &quot;32&quot;, &quot;properties&quot;: {&quot;pluscode&quot;: &quot;85643Q57+3J&quot;}, &quot;type&quot;: &quot;Feature&quot;}, {&quot;bbox&quot;: [-117.235875, 34.057625, -117.23575, 34.05775], &quot;geometry&quot;: {&quot;coordinates&quot;: [[[-117.23575, 34.057625], [-117.23575, 34.05775], [-117.235875, 34.05775], [-117.235875, 34.057625], [-117.23575, 34.057625]]], &quot;type&quot;: &quot;Polygon&quot;}, &quot;id&quot;: &quot;33&quot;, &quot;properties&quot;: {&quot;pluscode&quot;: &quot;85643Q57+3M&quot;}, &quot;type&quot;: &quot;Feature&quot;}, {&quot;bbox&quot;: [-117.23575, 34.057625, -117.235625, 34.05775], &quot;geometry&quot;: {&quot;coordinates&quot;: [[[-117.235625, 34.057625], [-117.235625, 34.05775], [-117.23575, 34.05775], [-117.23575, 34.057625], [-117.235625, 34.057625]]], &quot;type&quot;: &quot;Polygon&quot;}, &quot;id&quot;: &quot;34&quot;, &quot;properties&quot;: {&quot;pluscode&quot;: &quot;85643Q57+3P&quot;}, &quot;type&quot;: &quot;Feature&quot;}, {&quot;bbox&quot;: [-117.235625, 34.057625, -117.2355, 34.05775], &quot;geometry&quot;: {&quot;coordinates&quot;: [[[-117.2355, 34.057625], [-117.2355, 34.05775], [-117.235625, 34.05775], [-117.235625, 34.057625], [-117.2355, 34.057625]]], &quot;type&quot;: &quot;Polygon&quot;}, &quot;id&quot;: &quot;35&quot;, &quot;properties&quot;: {&quot;pluscode&quot;: &quot;85643Q57+3Q&quot;}, &quot;type&quot;: &quot;Feature&quot;}, {&quot;bbox&quot;: [-117.2355, 34.057625, -117.235375, 34.05775], &quot;geometry&quot;: {&quot;coordinates&quot;: [[[-117.235375, 34.057625], [-117.235375, 34.05775], [-117.2355, 34.05775], [-117.2355, 34.057625], [-117.235375, 34.057625]]], &quot;type&quot;: &quot;Polygon&quot;}, &quot;id&quot;: &quot;36&quot;, &quot;properties&quot;: {&quot;pluscode&quot;: &quot;85643Q57+3R&quot;}, &quot;type&quot;: &quot;Feature&quot;}, {&quot;bbox&quot;: [-117.235375, 34.057625, -117.23525000000001, 34.05775], &quot;geometry&quot;: {&quot;coordinates&quot;: [[[-117.23525000000001, 34.057625], [-117.23525000000001, 34.05775], [-117.235375, 34.05775], [-117.235375, 34.057625], [-117.23525000000001, 34.057625]]], &quot;type&quot;: &quot;Polygon&quot;}, &quot;id&quot;: &quot;37&quot;, &quot;properties&quot;: {&quot;pluscode&quot;: &quot;85643Q57+3V&quot;}, &quot;type&quot;: &quot;Feature&quot;}, {&quot;bbox&quot;: [-117.23525, 34.057625, -117.235125, 34.05775], &quot;geometry&quot;: {&quot;coordinates&quot;: [[[-117.235125, 34.057625], [-117.235125, 34.05775], [-117.23525, 34.05775], [-117.23525, 34.057625], [-117.235125, 34.057625]]], &quot;type&quot;: &quot;Polygon&quot;}, &quot;id&quot;: &quot;38&quot;, &quot;properties&quot;: {&quot;pluscode&quot;: &quot;85643Q57+3W&quot;}, &quot;type&quot;: &quot;Feature&quot;}, {&quot;bbox&quot;: [-117.235125, 34.057625, -117.235, 34.05775], &quot;geometry&quot;: {&quot;coordinates&quot;: [[[-117.235, 34.057625], [-117.235, 34.05775], [-117.235125, 34.05775], [-117.235125, 34.057625], [-117.235, 34.057625]]], &quot;type&quot;: &quot;Polygon&quot;}, &quot;id&quot;: &quot;39&quot;, &quot;properties&quot;: {&quot;pluscode&quot;: &quot;85643Q57+3X&quot;}, &quot;type&quot;: &quot;Feature&quot;}, {&quot;bbox&quot;: [-117.2375, 34.05775, -117.237375, 34.057875], &quot;geometry&quot;: {&quot;coordinates&quot;: [[[-117.237375, 34.05775], [-117.237375, 34.057875], [-117.2375, 34.057875], [-117.2375, 34.05775], [-117.237375, 34.05775]]], &quot;type&quot;: &quot;Polygon&quot;}, &quot;id&quot;: &quot;40&quot;, &quot;properties&quot;: {&quot;pluscode&quot;: &quot;85643Q57+42&quot;}, &quot;type&quot;: &quot;Feature&quot;}, {&quot;bbox&quot;: [-117.237375, 34.05775, -117.23725, 34.057875], &quot;geometry&quot;: {&quot;coordinates&quot;: [[[-117.23725, 34.05775], [-117.23725, 34.057875], [-117.237375, 34.057875], [-117.237375, 34.05775], [-117.23725, 34.05775]]], &quot;type&quot;: &quot;Polygon&quot;}, &quot;id&quot;: &quot;41&quot;, &quot;properties&quot;: {&quot;pluscode&quot;: &quot;85643Q57+43&quot;}, &quot;type&quot;: &quot;Feature&quot;}, {&quot;bbox&quot;: [-117.23725, 34.05775, -117.237125, 34.057875], &quot;geometry&quot;: {&quot;coordinates&quot;: [[[-117.237125, 34.05775], [-117.237125, 34.057875], [-117.23725, 34.057875], [-117.23725, 34.05775], [-117.237125, 34.05775]]], &quot;type&quot;: &quot;Polygon&quot;}, &quot;id&quot;: &quot;42&quot;, &quot;properties&quot;: {&quot;pluscode&quot;: &quot;85643Q57+44&quot;}, &quot;type&quot;: &quot;Feature&quot;}, {&quot;bbox&quot;: [-117.237125, 34.05775, -117.23700000000001, 34.057875], &quot;geometry&quot;: {&quot;coordinates&quot;: [[[-117.23700000000001, 34.05775], [-117.23700000000001, 34.057875], [-117.237125, 34.057875], [-117.237125, 34.05775], [-117.23700000000001, 34.05775]]], &quot;type&quot;: &quot;Polygon&quot;}, &quot;id&quot;: &quot;43&quot;, &quot;properties&quot;: {&quot;pluscode&quot;: &quot;85643Q57+45&quot;}, &quot;type&quot;: &quot;Feature&quot;}, {&quot;bbox&quot;: [-117.237, 34.05775, -117.236875, 34.057875], &quot;geometry&quot;: {&quot;coordinates&quot;: [[[-117.236875, 34.05775], [-117.236875, 34.057875], [-117.237, 34.057875], [-117.237, 34.05775], [-117.236875, 34.05775]]], &quot;type&quot;: &quot;Polygon&quot;}, &quot;id&quot;: &quot;44&quot;, &quot;properties&quot;: {&quot;pluscode&quot;: &quot;85643Q57+46&quot;}, &quot;type&quot;: &quot;Feature&quot;}, {&quot;bbox&quot;: [-117.236875, 34.05775, -117.23675, 34.057875], &quot;geometry&quot;: {&quot;coordinates&quot;: [[[-117.23675, 34.05775], [-117.23675, 34.057875], [-117.236875, 34.057875], [-117.236875, 34.05775], [-117.23675, 34.05775]]], &quot;type&quot;: &quot;Polygon&quot;}, &quot;id&quot;: &quot;45&quot;, &quot;properties&quot;: {&quot;pluscode&quot;: &quot;85643Q57+47&quot;}, &quot;type&quot;: &quot;Feature&quot;}, {&quot;bbox&quot;: [-117.23675, 34.05775, -117.236625, 34.057875], &quot;geometry&quot;: {&quot;coordinates&quot;: [[[-117.236625, 34.05775], [-117.236625, 34.057875], [-117.23675, 34.057875], [-117.23675, 34.05775], [-117.236625, 34.05775]]], &quot;type&quot;: &quot;Polygon&quot;}, &quot;id&quot;: &quot;46&quot;, &quot;properties&quot;: {&quot;pluscode&quot;: &quot;85643Q57+48&quot;}, &quot;type&quot;: &quot;Feature&quot;}, {&quot;bbox&quot;: [-117.236625, 34.05775, -117.2365, 34.057875], &quot;geometry&quot;: {&quot;coordinates&quot;: [[[-117.2365, 34.05775], [-117.2365, 34.057875], [-117.236625, 34.057875], [-117.236625, 34.05775], [-117.2365, 34.05775]]], &quot;type&quot;: &quot;Polygon&quot;}, &quot;id&quot;: &quot;47&quot;, &quot;properties&quot;: {&quot;pluscode&quot;: &quot;85643Q57+49&quot;}, &quot;type&quot;: &quot;Feature&quot;}, {&quot;bbox&quot;: [-117.2365, 34.05775, -117.23637500000001, 34.057875], &quot;geometry&quot;: {&quot;coordinates&quot;: [[[-117.23637500000001, 34.05775], [-117.23637500000001, 34.057875], [-117.2365, 34.057875], [-117.2365, 34.05775], [-117.23637500000001, 34.05775]]], &quot;type&quot;: &quot;Polygon&quot;}, &quot;id&quot;: &quot;48&quot;, &quot;properties&quot;: {&quot;pluscode&quot;: &quot;85643Q57+4C&quot;}, &quot;type&quot;: &quot;Feature&quot;}, {&quot;bbox&quot;: [-117.236375, 34.05775, -117.23625, 34.057875], &quot;geometry&quot;: {&quot;coordinates&quot;: [[[-117.23625, 34.05775], [-117.23625, 34.057875], [-117.236375, 34.057875], [-117.236375, 34.05775], [-117.23625, 34.05775]]], &quot;type&quot;: &quot;Polygon&quot;}, &quot;id&quot;: &quot;49&quot;, &quot;properties&quot;: {&quot;pluscode&quot;: &quot;85643Q57+4F&quot;}, &quot;type&quot;: &quot;Feature&quot;}, {&quot;bbox&quot;: [-117.23625, 34.05775, -117.236125, 34.057875], &quot;geometry&quot;: {&quot;coordinates&quot;: [[[-117.236125, 34.05775], [-117.236125, 34.057875], [-117.23625, 34.057875], [-117.23625, 34.05775], [-117.236125, 34.05775]]], &quot;type&quot;: &quot;Polygon&quot;}, &quot;id&quot;: &quot;50&quot;, &quot;properties&quot;: {&quot;pluscode&quot;: &quot;85643Q57+4G&quot;}, &quot;type&quot;: &quot;Feature&quot;}, {&quot;bbox&quot;: [-117.236125, 34.05775, -117.236, 34.057875], &quot;geometry&quot;: {&quot;coordinates&quot;: [[[-117.236, 34.05775], [-117.236, 34.057875], [-117.236125, 34.057875], [-117.236125, 34.05775], [-117.236, 34.05775]]], &quot;type&quot;: &quot;Polygon&quot;}, &quot;id&quot;: &quot;51&quot;, &quot;properties&quot;: {&quot;pluscode&quot;: &quot;85643Q57+4H&quot;}, &quot;type&quot;: &quot;Feature&quot;}, {&quot;bbox&quot;: [-117.236, 34.05775, -117.23587500000001, 34.057875], &quot;geometry&quot;: {&quot;coordinates&quot;: [[[-117.23587500000001, 34.05775], [-117.23587500000001, 34.057875], [-117.236, 34.057875], [-117.236, 34.05775], [-117.23587500000001, 34.05775]]], &quot;type&quot;: &quot;Polygon&quot;}, &quot;id&quot;: &quot;52&quot;, &quot;properties&quot;: {&quot;pluscode&quot;: &quot;85643Q57+4J&quot;}, &quot;type&quot;: &quot;Feature&quot;}, {&quot;bbox&quot;: [-117.235875, 34.05775, -117.23575, 34.057875], &quot;geometry&quot;: {&quot;coordinates&quot;: [[[-117.23575, 34.05775], [-117.23575, 34.057875], [-117.235875, 34.057875], [-117.235875, 34.05775], [-117.23575, 34.05775]]], &quot;type&quot;: &quot;Polygon&quot;}, &quot;id&quot;: &quot;53&quot;, &quot;properties&quot;: {&quot;pluscode&quot;: &quot;85643Q57+4M&quot;}, &quot;type&quot;: &quot;Feature&quot;}, {&quot;bbox&quot;: [-117.23575, 34.05775, -117.235625, 34.057875], &quot;geometry&quot;: {&quot;coordinates&quot;: [[[-117.235625, 34.05775], [-117.235625, 34.057875], [-117.23575, 34.057875], [-117.23575, 34.05775], [-117.235625, 34.05775]]], &quot;type&quot;: &quot;Polygon&quot;}, &quot;id&quot;: &quot;54&quot;, &quot;properties&quot;: {&quot;pluscode&quot;: &quot;85643Q57+4P&quot;}, &quot;type&quot;: &quot;Feature&quot;}, {&quot;bbox&quot;: [-117.235625, 34.05775, -117.2355, 34.057875], &quot;geometry&quot;: {&quot;coordinates&quot;: [[[-117.2355, 34.05775], [-117.2355, 34.057875], [-117.235625, 34.057875], [-117.235625, 34.05775], [-117.2355, 34.05775]]], &quot;type&quot;: &quot;Polygon&quot;}, &quot;id&quot;: &quot;55&quot;, &quot;properties&quot;: {&quot;pluscode&quot;: &quot;85643Q57+4Q&quot;}, &quot;type&quot;: &quot;Feature&quot;}, {&quot;bbox&quot;: [-117.2355, 34.05775, -117.235375, 34.057875], &quot;geometry&quot;: {&quot;coordinates&quot;: [[[-117.235375, 34.05775], [-117.235375, 34.057875], [-117.2355, 34.057875], [-117.2355, 34.05775], [-117.235375, 34.05775]]], &quot;type&quot;: &quot;Polygon&quot;}, &quot;id&quot;: &quot;56&quot;, &quot;properties&quot;: {&quot;pluscode&quot;: &quot;85643Q57+4R&quot;}, &quot;type&quot;: &quot;Feature&quot;}, {&quot;bbox&quot;: [-117.235375, 34.05775, -117.23525000000001, 34.057875], &quot;geometry&quot;: {&quot;coordinates&quot;: [[[-117.23525000000001, 34.05775], [-117.23525000000001, 34.057875], [-117.235375, 34.057875], [-117.235375, 34.05775], [-117.23525000000001, 34.05775]]], &quot;type&quot;: &quot;Polygon&quot;}, &quot;id&quot;: &quot;57&quot;, &quot;properties&quot;: {&quot;pluscode&quot;: &quot;85643Q57+4V&quot;}, &quot;type&quot;: &quot;Feature&quot;}, {&quot;bbox&quot;: [-117.23525, 34.05775, -117.235125, 34.057875], &quot;geometry&quot;: {&quot;coordinates&quot;: [[[-117.235125, 34.05775], [-117.235125, 34.057875], [-117.23525, 34.057875], [-117.23525, 34.05775], [-117.235125, 34.05775]]], &quot;type&quot;: &quot;Polygon&quot;}, &quot;id&quot;: &quot;58&quot;, &quot;properties&quot;: {&quot;pluscode&quot;: &quot;85643Q57+4W&quot;}, &quot;type&quot;: &quot;Feature&quot;}, {&quot;bbox&quot;: [-117.235125, 34.05775, -117.235, 34.057875], &quot;geometry&quot;: {&quot;coordinates&quot;: [[[-117.235, 34.05775], [-117.235, 34.057875], [-117.235125, 34.057875], [-117.235125, 34.05775], [-117.235, 34.05775]]], &quot;type&quot;: &quot;Polygon&quot;}, &quot;id&quot;: &quot;59&quot;, &quot;properties&quot;: {&quot;pluscode&quot;: &quot;85643Q57+4X&quot;}, &quot;type&quot;: &quot;Feature&quot;}, {&quot;bbox&quot;: [-117.2375, 34.057875, -117.237375, 34.058], &quot;geometry&quot;: {&quot;coordinates&quot;: [[[-117.237375, 34.057875], [-117.237375, 34.058], [-117.2375, 34.058], [-117.2375, 34.057875], [-117.237375, 34.057875]]], &quot;type&quot;: &quot;Polygon&quot;}, &quot;id&quot;: &quot;60&quot;, &quot;properties&quot;: {&quot;pluscode&quot;: &quot;85643Q57+52&quot;}, &quot;type&quot;: &quot;Feature&quot;}, {&quot;bbox&quot;: [-117.237375, 34.057875, -117.23725, 34.058], &quot;geometry&quot;: {&quot;coordinates&quot;: [[[-117.23725, 34.057875], [-117.23725, 34.058], [-117.237375, 34.058], [-117.237375, 34.057875], [-117.23725, 34.057875]]], &quot;type&quot;: &quot;Polygon&quot;}, &quot;id&quot;: &quot;61&quot;, &quot;properties&quot;: {&quot;pluscode&quot;: &quot;85643Q57+53&quot;}, &quot;type&quot;: &quot;Feature&quot;}, {&quot;bbox&quot;: [-117.23725, 34.057875, -117.237125, 34.058], &quot;geometry&quot;: {&quot;coordinates&quot;: [[[-117.237125, 34.057875], [-117.237125, 34.058], [-117.23725, 34.058], [-117.23725, 34.057875], [-117.237125, 34.057875]]], &quot;type&quot;: &quot;Polygon&quot;}, &quot;id&quot;: &quot;62&quot;, &quot;properties&quot;: {&quot;pluscode&quot;: &quot;85643Q57+54&quot;}, &quot;type&quot;: &quot;Feature&quot;}, {&quot;bbox&quot;: [-117.237125, 34.057875, -117.23700000000001, 34.058], &quot;geometry&quot;: {&quot;coordinates&quot;: [[[-117.23700000000001, 34.057875], [-117.23700000000001, 34.058], [-117.237125, 34.058], [-117.237125, 34.057875], [-117.23700000000001, 34.057875]]], &quot;type&quot;: &quot;Polygon&quot;}, &quot;id&quot;: &quot;63&quot;, &quot;properties&quot;: {&quot;pluscode&quot;: &quot;85643Q57+55&quot;}, &quot;type&quot;: &quot;Feature&quot;}, {&quot;bbox&quot;: [-117.237, 34.057875, -117.236875, 34.058], &quot;geometry&quot;: {&quot;coordinates&quot;: [[[-117.236875, 34.057875], [-117.236875, 34.058], [-117.237, 34.058], [-117.237, 34.057875], [-117.236875, 34.057875]]], &quot;type&quot;: &quot;Polygon&quot;}, &quot;id&quot;: &quot;64&quot;, &quot;properties&quot;: {&quot;pluscode&quot;: &quot;85643Q57+56&quot;}, &quot;type&quot;: &quot;Feature&quot;}, {&quot;bbox&quot;: [-117.236875, 34.057875, -117.23675, 34.058], &quot;geometry&quot;: {&quot;coordinates&quot;: [[[-117.23675, 34.057875], [-117.23675, 34.058], [-117.236875, 34.058], [-117.236875, 34.057875], [-117.23675, 34.057875]]], &quot;type&quot;: &quot;Polygon&quot;}, &quot;id&quot;: &quot;65&quot;, &quot;properties&quot;: {&quot;pluscode&quot;: &quot;85643Q57+57&quot;}, &quot;type&quot;: &quot;Feature&quot;}, {&quot;bbox&quot;: [-117.23675, 34.057875, -117.236625, 34.058], &quot;geometry&quot;: {&quot;coordinates&quot;: [[[-117.236625, 34.057875], [-117.236625, 34.058], [-117.23675, 34.058], [-117.23675, 34.057875], [-117.236625, 34.057875]]], &quot;type&quot;: &quot;Polygon&quot;}, &quot;id&quot;: &quot;66&quot;, &quot;properties&quot;: {&quot;pluscode&quot;: &quot;85643Q57+58&quot;}, &quot;type&quot;: &quot;Feature&quot;}, {&quot;bbox&quot;: [-117.236625, 34.057875, -117.2365, 34.058], &quot;geometry&quot;: {&quot;coordinates&quot;: [[[-117.2365, 34.057875], [-117.2365, 34.058], [-117.236625, 34.058], [-117.236625, 34.057875], [-117.2365, 34.057875]]], &quot;type&quot;: &quot;Polygon&quot;}, &quot;id&quot;: &quot;67&quot;, &quot;properties&quot;: {&quot;pluscode&quot;: &quot;85643Q57+59&quot;}, &quot;type&quot;: &quot;Feature&quot;}, {&quot;bbox&quot;: [-117.2365, 34.057875, -117.23637500000001, 34.058], &quot;geometry&quot;: {&quot;coordinates&quot;: [[[-117.23637500000001, 34.057875], [-117.23637500000001, 34.058], [-117.2365, 34.058], [-117.2365, 34.057875], [-117.23637500000001, 34.057875]]], &quot;type&quot;: &quot;Polygon&quot;}, &quot;id&quot;: &quot;68&quot;, &quot;properties&quot;: {&quot;pluscode&quot;: &quot;85643Q57+5C&quot;}, &quot;type&quot;: &quot;Feature&quot;}, {&quot;bbox&quot;: [-117.236375, 34.057875, -117.23625, 34.058], &quot;geometry&quot;: {&quot;coordinates&quot;: [[[-117.23625, 34.057875], [-117.23625, 34.058], [-117.236375, 34.058], [-117.236375, 34.057875], [-117.23625, 34.057875]]], &quot;type&quot;: &quot;Polygon&quot;}, &quot;id&quot;: &quot;69&quot;, &quot;properties&quot;: {&quot;pluscode&quot;: &quot;85643Q57+5F&quot;}, &quot;type&quot;: &quot;Feature&quot;}, {&quot;bbox&quot;: [-117.23625, 34.057875, -117.236125, 34.058], &quot;geometry&quot;: {&quot;coordinates&quot;: [[[-117.236125, 34.057875], [-117.236125, 34.058], [-117.23625, 34.058], [-117.23625, 34.057875], [-117.236125, 34.057875]]], &quot;type&quot;: &quot;Polygon&quot;}, &quot;id&quot;: &quot;70&quot;, &quot;properties&quot;: {&quot;pluscode&quot;: &quot;85643Q57+5G&quot;}, &quot;type&quot;: &quot;Feature&quot;}, {&quot;bbox&quot;: [-117.236125, 34.057875, -117.236, 34.058], &quot;geometry&quot;: {&quot;coordinates&quot;: [[[-117.236, 34.057875], [-117.236, 34.058], [-117.236125, 34.058], [-117.236125, 34.057875], [-117.236, 34.057875]]], &quot;type&quot;: &quot;Polygon&quot;}, &quot;id&quot;: &quot;71&quot;, &quot;properties&quot;: {&quot;pluscode&quot;: &quot;85643Q57+5H&quot;}, &quot;type&quot;: &quot;Feature&quot;}, {&quot;bbox&quot;: [-117.236, 34.057875, -117.23587500000001, 34.058], &quot;geometry&quot;: {&quot;coordinates&quot;: [[[-117.23587500000001, 34.057875], [-117.23587500000001, 34.058], [-117.236, 34.058], [-117.236, 34.057875], [-117.23587500000001, 34.057875]]], &quot;type&quot;: &quot;Polygon&quot;}, &quot;id&quot;: &quot;72&quot;, &quot;properties&quot;: {&quot;pluscode&quot;: &quot;85643Q57+5J&quot;}, &quot;type&quot;: &quot;Feature&quot;}, {&quot;bbox&quot;: [-117.235875, 34.057875, -117.23575, 34.058], &quot;geometry&quot;: {&quot;coordinates&quot;: [[[-117.23575, 34.057875], [-117.23575, 34.058], [-117.235875, 34.058], [-117.235875, 34.057875], [-117.23575, 34.057875]]], &quot;type&quot;: &quot;Polygon&quot;}, &quot;id&quot;: &quot;73&quot;, &quot;properties&quot;: {&quot;pluscode&quot;: &quot;85643Q57+5M&quot;}, &quot;type&quot;: &quot;Feature&quot;}, {&quot;bbox&quot;: [-117.23575, 34.057875, -117.235625, 34.058], &quot;geometry&quot;: {&quot;coordinates&quot;: [[[-117.235625, 34.057875], [-117.235625, 34.058], [-117.23575, 34.058], [-117.23575, 34.057875], [-117.235625, 34.057875]]], &quot;type&quot;: &quot;Polygon&quot;}, &quot;id&quot;: &quot;74&quot;, &quot;properties&quot;: {&quot;pluscode&quot;: &quot;85643Q57+5P&quot;}, &quot;type&quot;: &quot;Feature&quot;}, {&quot;bbox&quot;: [-117.235625, 34.057875, -117.2355, 34.058], &quot;geometry&quot;: {&quot;coordinates&quot;: [[[-117.2355, 34.057875], [-117.2355, 34.058], [-117.235625, 34.058], [-117.235625, 34.057875], [-117.2355, 34.057875]]], &quot;type&quot;: &quot;Polygon&quot;}, &quot;id&quot;: &quot;75&quot;, &quot;properties&quot;: {&quot;pluscode&quot;: &quot;85643Q57+5Q&quot;}, &quot;type&quot;: &quot;Feature&quot;}, {&quot;bbox&quot;: [-117.2355, 34.057875, -117.235375, 34.058], &quot;geometry&quot;: {&quot;coordinates&quot;: [[[-117.235375, 34.057875], [-117.235375, 34.058], [-117.2355, 34.058], [-117.2355, 34.057875], [-117.235375, 34.057875]]], &quot;type&quot;: &quot;Polygon&quot;}, &quot;id&quot;: &quot;76&quot;, &quot;properties&quot;: {&quot;pluscode&quot;: &quot;85643Q57+5R&quot;}, &quot;type&quot;: &quot;Feature&quot;}, {&quot;bbox&quot;: [-117.235375, 34.057875, -117.23525000000001, 34.058], &quot;geometry&quot;: {&quot;coordinates&quot;: [[[-117.23525000000001, 34.057875], [-117.23525000000001, 34.058], [-117.235375, 34.058], [-117.235375, 34.057875], [-117.23525000000001, 34.057875]]], &quot;type&quot;: &quot;Polygon&quot;}, &quot;id&quot;: &quot;77&quot;, &quot;properties&quot;: {&quot;pluscode&quot;: &quot;85643Q57+5V&quot;}, &quot;type&quot;: &quot;Feature&quot;}, {&quot;bbox&quot;: [-117.23525, 34.057875, -117.235125, 34.058], &quot;geometry&quot;: {&quot;coordinates&quot;: [[[-117.235125, 34.057875], [-117.235125, 34.058], [-117.23525, 34.058], [-117.23525, 34.057875], [-117.235125, 34.057875]]], &quot;type&quot;: &quot;Polygon&quot;}, &quot;id&quot;: &quot;78&quot;, &quot;properties&quot;: {&quot;pluscode&quot;: &quot;85643Q57+5W&quot;}, &quot;type&quot;: &quot;Feature&quot;}, {&quot;bbox&quot;: [-117.235125, 34.057875, -117.235, 34.058], &quot;geometry&quot;: {&quot;coordinates&quot;: [[[-117.235, 34.057875], [-117.235, 34.058], [-117.235125, 34.058], [-117.235125, 34.057875], [-117.235, 34.057875]]], &quot;type&quot;: &quot;Polygon&quot;}, &quot;id&quot;: &quot;79&quot;, &quot;properties&quot;: {&quot;pluscode&quot;: &quot;85643Q57+5X&quot;}, &quot;type&quot;: &quot;Feature&quot;}, {&quot;bbox&quot;: [-117.2375, 34.058, -117.237375, 34.058125], &quot;geometry&quot;: {&quot;coordinates&quot;: [[[-117.237375, 34.058], [-117.237375, 34.058125], [-117.2375, 34.058125], [-117.2375, 34.058], [-117.237375, 34.058]]], &quot;type&quot;: &quot;Polygon&quot;}, &quot;id&quot;: &quot;80&quot;, &quot;properties&quot;: {&quot;pluscode&quot;: &quot;85643Q57+62&quot;}, &quot;type&quot;: &quot;Feature&quot;}, {&quot;bbox&quot;: [-117.237375, 34.058, -117.23725, 34.058125], &quot;geometry&quot;: {&quot;coordinates&quot;: [[[-117.23725, 34.058], [-117.23725, 34.058125], [-117.237375, 34.058125], [-117.237375, 34.058], [-117.23725, 34.058]]], &quot;type&quot;: &quot;Polygon&quot;}, &quot;id&quot;: &quot;81&quot;, &quot;properties&quot;: {&quot;pluscode&quot;: &quot;85643Q57+63&quot;}, &quot;type&quot;: &quot;Feature&quot;}, {&quot;bbox&quot;: [-117.23725, 34.058, -117.237125, 34.058125], &quot;geometry&quot;: {&quot;coordinates&quot;: [[[-117.237125, 34.058], [-117.237125, 34.058125], [-117.23725, 34.058125], [-117.23725, 34.058], [-117.237125, 34.058]]], &quot;type&quot;: &quot;Polygon&quot;}, &quot;id&quot;: &quot;82&quot;, &quot;properties&quot;: {&quot;pluscode&quot;: &quot;85643Q57+64&quot;}, &quot;type&quot;: &quot;Feature&quot;}, {&quot;bbox&quot;: [-117.237125, 34.058, -117.23700000000001, 34.058125], &quot;geometry&quot;: {&quot;coordinates&quot;: [[[-117.23700000000001, 34.058], [-117.23700000000001, 34.058125], [-117.237125, 34.058125], [-117.237125, 34.058], [-117.23700000000001, 34.058]]], &quot;type&quot;: &quot;Polygon&quot;}, &quot;id&quot;: &quot;83&quot;, &quot;properties&quot;: {&quot;pluscode&quot;: &quot;85643Q57+65&quot;}, &quot;type&quot;: &quot;Feature&quot;}, {&quot;bbox&quot;: [-117.237, 34.058, -117.236875, 34.058125], &quot;geometry&quot;: {&quot;coordinates&quot;: [[[-117.236875, 34.058], [-117.236875, 34.058125], [-117.237, 34.058125], [-117.237, 34.058], [-117.236875, 34.058]]], &quot;type&quot;: &quot;Polygon&quot;}, &quot;id&quot;: &quot;84&quot;, &quot;properties&quot;: {&quot;pluscode&quot;: &quot;85643Q57+66&quot;}, &quot;type&quot;: &quot;Feature&quot;}, {&quot;bbox&quot;: [-117.236875, 34.058, -117.23675, 34.058125], &quot;geometry&quot;: {&quot;coordinates&quot;: [[[-117.23675, 34.058], [-117.23675, 34.058125], [-117.236875, 34.058125], [-117.236875, 34.058], [-117.23675, 34.058]]], &quot;type&quot;: &quot;Polygon&quot;}, &quot;id&quot;: &quot;85&quot;, &quot;properties&quot;: {&quot;pluscode&quot;: &quot;85643Q57+67&quot;}, &quot;type&quot;: &quot;Feature&quot;}, {&quot;bbox&quot;: [-117.23675, 34.058, -117.236625, 34.058125], &quot;geometry&quot;: {&quot;coordinates&quot;: [[[-117.236625, 34.058], [-117.236625, 34.058125], [-117.23675, 34.058125], [-117.23675, 34.058], [-117.236625, 34.058]]], &quot;type&quot;: &quot;Polygon&quot;}, &quot;id&quot;: &quot;86&quot;, &quot;properties&quot;: {&quot;pluscode&quot;: &quot;85643Q57+68&quot;}, &quot;type&quot;: &quot;Feature&quot;}, {&quot;bbox&quot;: [-117.236625, 34.058, -117.2365, 34.058125], &quot;geometry&quot;: {&quot;coordinates&quot;: [[[-117.2365, 34.058], [-117.2365, 34.058125], [-117.236625, 34.058125], [-117.236625, 34.058], [-117.2365, 34.058]]], &quot;type&quot;: &quot;Polygon&quot;}, &quot;id&quot;: &quot;87&quot;, &quot;properties&quot;: {&quot;pluscode&quot;: &quot;85643Q57+69&quot;}, &quot;type&quot;: &quot;Feature&quot;}, {&quot;bbox&quot;: [-117.2365, 34.058, -117.23637500000001, 34.058125], &quot;geometry&quot;: {&quot;coordinates&quot;: [[[-117.23637500000001, 34.058], [-117.23637500000001, 34.058125], [-117.2365, 34.058125], [-117.2365, 34.058], [-117.23637500000001, 34.058]]], &quot;type&quot;: &quot;Polygon&quot;}, &quot;id&quot;: &quot;88&quot;, &quot;properties&quot;: {&quot;pluscode&quot;: &quot;85643Q57+6C&quot;}, &quot;type&quot;: &quot;Feature&quot;}, {&quot;bbox&quot;: [-117.236375, 34.058, -117.23625, 34.058125], &quot;geometry&quot;: {&quot;coordinates&quot;: [[[-117.23625, 34.058], [-117.23625, 34.058125], [-117.236375, 34.058125], [-117.236375, 34.058], [-117.23625, 34.058]]], &quot;type&quot;: &quot;Polygon&quot;}, &quot;id&quot;: &quot;89&quot;, &quot;properties&quot;: {&quot;pluscode&quot;: &quot;85643Q57+6F&quot;}, &quot;type&quot;: &quot;Feature&quot;}, {&quot;bbox&quot;: [-117.23625, 34.058, -117.236125, 34.058125], &quot;geometry&quot;: {&quot;coordinates&quot;: [[[-117.236125, 34.058], [-117.236125, 34.058125], [-117.23625, 34.058125], [-117.23625, 34.058], [-117.236125, 34.058]]], &quot;type&quot;: &quot;Polygon&quot;}, &quot;id&quot;: &quot;90&quot;, &quot;properties&quot;: {&quot;pluscode&quot;: &quot;85643Q57+6G&quot;}, &quot;type&quot;: &quot;Feature&quot;}, {&quot;bbox&quot;: [-117.236125, 34.058, -117.236, 34.058125], &quot;geometry&quot;: {&quot;coordinates&quot;: [[[-117.236, 34.058], [-117.236, 34.058125], [-117.236125, 34.058125], [-117.236125, 34.058], [-117.236, 34.058]]], &quot;type&quot;: &quot;Polygon&quot;}, &quot;id&quot;: &quot;91&quot;, &quot;properties&quot;: {&quot;pluscode&quot;: &quot;85643Q57+6H&quot;}, &quot;type&quot;: &quot;Feature&quot;}, {&quot;bbox&quot;: [-117.236, 34.058, -117.23587500000001, 34.058125], &quot;geometry&quot;: {&quot;coordinates&quot;: [[[-117.23587500000001, 34.058], [-117.23587500000001, 34.058125], [-117.236, 34.058125], [-117.236, 34.058], [-117.23587500000001, 34.058]]], &quot;type&quot;: &quot;Polygon&quot;}, &quot;id&quot;: &quot;92&quot;, &quot;properties&quot;: {&quot;pluscode&quot;: &quot;85643Q57+6J&quot;}, &quot;type&quot;: &quot;Feature&quot;}, {&quot;bbox&quot;: [-117.235875, 34.058, -117.23575, 34.058125], &quot;geometry&quot;: {&quot;coordinates&quot;: [[[-117.23575, 34.058], [-117.23575, 34.058125], [-117.235875, 34.058125], [-117.235875, 34.058], [-117.23575, 34.058]]], &quot;type&quot;: &quot;Polygon&quot;}, &quot;id&quot;: &quot;93&quot;, &quot;properties&quot;: {&quot;pluscode&quot;: &quot;85643Q57+6M&quot;}, &quot;type&quot;: &quot;Feature&quot;}, {&quot;bbox&quot;: [-117.23575, 34.058, -117.235625, 34.058125], &quot;geometry&quot;: {&quot;coordinates&quot;: [[[-117.235625, 34.058], [-117.235625, 34.058125], [-117.23575, 34.058125], [-117.23575, 34.058], [-117.235625, 34.058]]], &quot;type&quot;: &quot;Polygon&quot;}, &quot;id&quot;: &quot;94&quot;, &quot;properties&quot;: {&quot;pluscode&quot;: &quot;85643Q57+6P&quot;}, &quot;type&quot;: &quot;Feature&quot;}, {&quot;bbox&quot;: [-117.235625, 34.058, -117.2355, 34.058125], &quot;geometry&quot;: {&quot;coordinates&quot;: [[[-117.2355, 34.058], [-117.2355, 34.058125], [-117.235625, 34.058125], [-117.235625, 34.058], [-117.2355, 34.058]]], &quot;type&quot;: &quot;Polygon&quot;}, &quot;id&quot;: &quot;95&quot;, &quot;properties&quot;: {&quot;pluscode&quot;: &quot;85643Q57+6Q&quot;}, &quot;type&quot;: &quot;Feature&quot;}, {&quot;bbox&quot;: [-117.2355, 34.058, -117.235375, 34.058125], &quot;geometry&quot;: {&quot;coordinates&quot;: [[[-117.235375, 34.058], [-117.235375, 34.058125], [-117.2355, 34.058125], [-117.2355, 34.058], [-117.235375, 34.058]]], &quot;type&quot;: &quot;Polygon&quot;}, &quot;id&quot;: &quot;96&quot;, &quot;properties&quot;: {&quot;pluscode&quot;: &quot;85643Q57+6R&quot;}, &quot;type&quot;: &quot;Feature&quot;}, {&quot;bbox&quot;: [-117.235375, 34.058, -117.23525000000001, 34.058125], &quot;geometry&quot;: {&quot;coordinates&quot;: [[[-117.23525000000001, 34.058], [-117.23525000000001, 34.058125], [-117.235375, 34.058125], [-117.235375, 34.058], [-117.23525000000001, 34.058]]], &quot;type&quot;: &quot;Polygon&quot;}, &quot;id&quot;: &quot;97&quot;, &quot;properties&quot;: {&quot;pluscode&quot;: &quot;85643Q57+6V&quot;}, &quot;type&quot;: &quot;Feature&quot;}, {&quot;bbox&quot;: [-117.23525, 34.058, -117.235125, 34.058125], &quot;geometry&quot;: {&quot;coordinates&quot;: [[[-117.235125, 34.058], [-117.235125, 34.058125], [-117.23525, 34.058125], [-117.23525, 34.058], [-117.235125, 34.058]]], &quot;type&quot;: &quot;Polygon&quot;}, &quot;id&quot;: &quot;98&quot;, &quot;properties&quot;: {&quot;pluscode&quot;: &quot;85643Q57+6W&quot;}, &quot;type&quot;: &quot;Feature&quot;}, {&quot;bbox&quot;: [-117.235125, 34.058, -117.235, 34.058125], &quot;geometry&quot;: {&quot;coordinates&quot;: [[[-117.235, 34.058], [-117.235, 34.058125], [-117.235125, 34.058125], [-117.235125, 34.058], [-117.235, 34.058]]], &quot;type&quot;: &quot;Polygon&quot;}, &quot;id&quot;: &quot;99&quot;, &quot;properties&quot;: {&quot;pluscode&quot;: &quot;85643Q57+6X&quot;}, &quot;type&quot;: &quot;Feature&quot;}, {&quot;bbox&quot;: [-117.2375, 34.058125, -117.237375, 34.05824999999999], &quot;geometry&quot;: {&quot;coordinates&quot;: [[[-117.237375, 34.058125], [-117.237375, 34.05824999999999], [-117.2375, 34.05824999999999], [-117.2375, 34.058125], [-117.237375, 34.058125]]], &quot;type&quot;: &quot;Polygon&quot;}, &quot;id&quot;: &quot;100&quot;, &quot;properties&quot;: {&quot;pluscode&quot;: &quot;85643Q57+72&quot;}, &quot;type&quot;: &quot;Feature&quot;}, {&quot;bbox&quot;: [-117.237375, 34.058125, -117.23725, 34.05824999999999], &quot;geometry&quot;: {&quot;coordinates&quot;: [[[-117.23725, 34.058125], [-117.23725, 34.05824999999999], [-117.237375, 34.05824999999999], [-117.237375, 34.058125], [-117.23725, 34.058125]]], &quot;type&quot;: &quot;Polygon&quot;}, &quot;id&quot;: &quot;101&quot;, &quot;properties&quot;: {&quot;pluscode&quot;: &quot;85643Q57+73&quot;}, &quot;type&quot;: &quot;Feature&quot;}, {&quot;bbox&quot;: [-117.23725, 34.058125, -117.237125, 34.05824999999999], &quot;geometry&quot;: {&quot;coordinates&quot;: [[[-117.237125, 34.058125], [-117.237125, 34.05824999999999], [-117.23725, 34.05824999999999], [-117.23725, 34.058125], [-117.237125, 34.058125]]], &quot;type&quot;: &quot;Polygon&quot;}, &quot;id&quot;: &quot;102&quot;, &quot;properties&quot;: {&quot;pluscode&quot;: &quot;85643Q57+74&quot;}, &quot;type&quot;: &quot;Feature&quot;}, {&quot;bbox&quot;: [-117.237125, 34.058125, -117.23700000000001, 34.05824999999999], &quot;geometry&quot;: {&quot;coordinates&quot;: [[[-117.23700000000001, 34.058125], [-117.23700000000001, 34.05824999999999], [-117.237125, 34.05824999999999], [-117.237125, 34.058125], [-117.23700000000001, 34.058125]]], &quot;type&quot;: &quot;Polygon&quot;}, &quot;id&quot;: &quot;103&quot;, &quot;properties&quot;: {&quot;pluscode&quot;: &quot;85643Q57+75&quot;}, &quot;type&quot;: &quot;Feature&quot;}, {&quot;bbox&quot;: [-117.237, 34.058125, -117.236875, 34.05824999999999], &quot;geometry&quot;: {&quot;coordinates&quot;: [[[-117.236875, 34.058125], [-117.236875, 34.05824999999999], [-117.237, 34.05824999999999], [-117.237, 34.058125], [-117.236875, 34.058125]]], &quot;type&quot;: &quot;Polygon&quot;}, &quot;id&quot;: &quot;104&quot;, &quot;properties&quot;: {&quot;pluscode&quot;: &quot;85643Q57+76&quot;}, &quot;type&quot;: &quot;Feature&quot;}, {&quot;bbox&quot;: [-117.236875, 34.058125, -117.23675, 34.05824999999999], &quot;geometry&quot;: {&quot;coordinates&quot;: [[[-117.23675, 34.058125], [-117.23675, 34.05824999999999], [-117.236875, 34.05824999999999], [-117.236875, 34.058125], [-117.23675, 34.058125]]], &quot;type&quot;: &quot;Polygon&quot;}, &quot;id&quot;: &quot;105&quot;, &quot;properties&quot;: {&quot;pluscode&quot;: &quot;85643Q57+77&quot;}, &quot;type&quot;: &quot;Feature&quot;}, {&quot;bbox&quot;: [-117.23675, 34.058125, -117.236625, 34.05824999999999], &quot;geometry&quot;: {&quot;coordinates&quot;: [[[-117.236625, 34.058125], [-117.236625, 34.05824999999999], [-117.23675, 34.05824999999999], [-117.23675, 34.058125], [-117.236625, 34.058125]]], &quot;type&quot;: &quot;Polygon&quot;}, &quot;id&quot;: &quot;106&quot;, &quot;properties&quot;: {&quot;pluscode&quot;: &quot;85643Q57+78&quot;}, &quot;type&quot;: &quot;Feature&quot;}, {&quot;bbox&quot;: [-117.236625, 34.058125, -117.2365, 34.05824999999999], &quot;geometry&quot;: {&quot;coordinates&quot;: [[[-117.2365, 34.058125], [-117.2365, 34.05824999999999], [-117.236625, 34.05824999999999], [-117.236625, 34.058125], [-117.2365, 34.058125]]], &quot;type&quot;: &quot;Polygon&quot;}, &quot;id&quot;: &quot;107&quot;, &quot;properties&quot;: {&quot;pluscode&quot;: &quot;85643Q57+79&quot;}, &quot;type&quot;: &quot;Feature&quot;}, {&quot;bbox&quot;: [-117.2365, 34.058125, -117.23637500000001, 34.05824999999999], &quot;geometry&quot;: {&quot;coordinates&quot;: [[[-117.23637500000001, 34.058125], [-117.23637500000001, 34.05824999999999], [-117.2365, 34.05824999999999], [-117.2365, 34.058125], [-117.23637500000001, 34.058125]]], &quot;type&quot;: &quot;Polygon&quot;}, &quot;id&quot;: &quot;108&quot;, &quot;properties&quot;: {&quot;pluscode&quot;: &quot;85643Q57+7C&quot;}, &quot;type&quot;: &quot;Feature&quot;}, {&quot;bbox&quot;: [-117.236375, 34.058125, -117.23625, 34.05824999999999], &quot;geometry&quot;: {&quot;coordinates&quot;: [[[-117.23625, 34.058125], [-117.23625, 34.05824999999999], [-117.236375, 34.05824999999999], [-117.236375, 34.058125], [-117.23625, 34.058125]]], &quot;type&quot;: &quot;Polygon&quot;}, &quot;id&quot;: &quot;109&quot;, &quot;properties&quot;: {&quot;pluscode&quot;: &quot;85643Q57+7F&quot;}, &quot;type&quot;: &quot;Feature&quot;}, {&quot;bbox&quot;: [-117.23625, 34.058125, -117.236125, 34.05824999999999], &quot;geometry&quot;: {&quot;coordinates&quot;: [[[-117.236125, 34.058125], [-117.236125, 34.05824999999999], [-117.23625, 34.05824999999999], [-117.23625, 34.058125], [-117.236125, 34.058125]]], &quot;type&quot;: &quot;Polygon&quot;}, &quot;id&quot;: &quot;110&quot;, &quot;properties&quot;: {&quot;pluscode&quot;: &quot;85643Q57+7G&quot;}, &quot;type&quot;: &quot;Feature&quot;}, {&quot;bbox&quot;: [-117.236125, 34.058125, -117.236, 34.05824999999999], &quot;geometry&quot;: {&quot;coordinates&quot;: [[[-117.236, 34.058125], [-117.236, 34.05824999999999], [-117.236125, 34.05824999999999], [-117.236125, 34.058125], [-117.236, 34.058125]]], &quot;type&quot;: &quot;Polygon&quot;}, &quot;id&quot;: &quot;111&quot;, &quot;properties&quot;: {&quot;pluscode&quot;: &quot;85643Q57+7H&quot;}, &quot;type&quot;: &quot;Feature&quot;}, {&quot;bbox&quot;: [-117.236, 34.058125, -117.23587500000001, 34.05824999999999], &quot;geometry&quot;: {&quot;coordinates&quot;: [[[-117.23587500000001, 34.058125], [-117.23587500000001, 34.05824999999999], [-117.236, 34.05824999999999], [-117.236, 34.058125], [-117.23587500000001, 34.058125]]], &quot;type&quot;: &quot;Polygon&quot;}, &quot;id&quot;: &quot;112&quot;, &quot;properties&quot;: {&quot;pluscode&quot;: &quot;85643Q57+7J&quot;}, &quot;type&quot;: &quot;Feature&quot;}, {&quot;bbox&quot;: [-117.235875, 34.058125, -117.23575, 34.05824999999999], &quot;geometry&quot;: {&quot;coordinates&quot;: [[[-117.23575, 34.058125], [-117.23575, 34.05824999999999], [-117.235875, 34.05824999999999], [-117.235875, 34.058125], [-117.23575, 34.058125]]], &quot;type&quot;: &quot;Polygon&quot;}, &quot;id&quot;: &quot;113&quot;, &quot;properties&quot;: {&quot;pluscode&quot;: &quot;85643Q57+7M&quot;}, &quot;type&quot;: &quot;Feature&quot;}, {&quot;bbox&quot;: [-117.23575, 34.058125, -117.235625, 34.05824999999999], &quot;geometry&quot;: {&quot;coordinates&quot;: [[[-117.235625, 34.058125], [-117.235625, 34.05824999999999], [-117.23575, 34.05824999999999], [-117.23575, 34.058125], [-117.235625, 34.058125]]], &quot;type&quot;: &quot;Polygon&quot;}, &quot;id&quot;: &quot;114&quot;, &quot;properties&quot;: {&quot;pluscode&quot;: &quot;85643Q57+7P&quot;}, &quot;type&quot;: &quot;Feature&quot;}, {&quot;bbox&quot;: [-117.235625, 34.058125, -117.2355, 34.05824999999999], &quot;geometry&quot;: {&quot;coordinates&quot;: [[[-117.2355, 34.058125], [-117.2355, 34.05824999999999], [-117.235625, 34.05824999999999], [-117.235625, 34.058125], [-117.2355, 34.058125]]], &quot;type&quot;: &quot;Polygon&quot;}, &quot;id&quot;: &quot;115&quot;, &quot;properties&quot;: {&quot;pluscode&quot;: &quot;85643Q57+7Q&quot;}, &quot;type&quot;: &quot;Feature&quot;}, {&quot;bbox&quot;: [-117.2355, 34.058125, -117.235375, 34.05824999999999], &quot;geometry&quot;: {&quot;coordinates&quot;: [[[-117.235375, 34.058125], [-117.235375, 34.05824999999999], [-117.2355, 34.05824999999999], [-117.2355, 34.058125], [-117.235375, 34.058125]]], &quot;type&quot;: &quot;Polygon&quot;}, &quot;id&quot;: &quot;116&quot;, &quot;properties&quot;: {&quot;pluscode&quot;: &quot;85643Q57+7R&quot;}, &quot;type&quot;: &quot;Feature&quot;}, {&quot;bbox&quot;: [-117.235375, 34.058125, -117.23525000000001, 34.05824999999999], &quot;geometry&quot;: {&quot;coordinates&quot;: [[[-117.23525000000001, 34.058125], [-117.23525000000001, 34.05824999999999], [-117.235375, 34.05824999999999], [-117.235375, 34.058125], [-117.23525000000001, 34.058125]]], &quot;type&quot;: &quot;Polygon&quot;}, &quot;id&quot;: &quot;117&quot;, &quot;properties&quot;: {&quot;pluscode&quot;: &quot;85643Q57+7V&quot;}, &quot;type&quot;: &quot;Feature&quot;}, {&quot;bbox&quot;: [-117.23525, 34.058125, -117.235125, 34.05824999999999], &quot;geometry&quot;: {&quot;coordinates&quot;: [[[-117.235125, 34.058125], [-117.235125, 34.05824999999999], [-117.23525, 34.05824999999999], [-117.23525, 34.058125], [-117.235125, 34.058125]]], &quot;type&quot;: &quot;Polygon&quot;}, &quot;id&quot;: &quot;118&quot;, &quot;properties&quot;: {&quot;pluscode&quot;: &quot;85643Q57+7W&quot;}, &quot;type&quot;: &quot;Feature&quot;}, {&quot;bbox&quot;: [-117.235125, 34.058125, -117.235, 34.05824999999999], &quot;geometry&quot;: {&quot;coordinates&quot;: [[[-117.235, 34.058125], [-117.235, 34.05824999999999], [-117.235125, 34.05824999999999], [-117.235125, 34.058125], [-117.235, 34.058125]]], &quot;type&quot;: &quot;Polygon&quot;}, &quot;id&quot;: &quot;119&quot;, &quot;properties&quot;: {&quot;pluscode&quot;: &quot;85643Q57+7X&quot;}, &quot;type&quot;: &quot;Feature&quot;}, {&quot;bbox&quot;: [-117.2375, 34.05825, -117.237375, 34.058375], &quot;geometry&quot;: {&quot;coordinates&quot;: [[[-117.237375, 34.05825], [-117.237375, 34.058375], [-117.2375, 34.058375], [-117.2375, 34.05825], [-117.237375, 34.05825]]], &quot;type&quot;: &quot;Polygon&quot;}, &quot;id&quot;: &quot;120&quot;, &quot;properties&quot;: {&quot;pluscode&quot;: &quot;85643Q57+82&quot;}, &quot;type&quot;: &quot;Feature&quot;}, {&quot;bbox&quot;: [-117.237375, 34.05825, -117.23725, 34.058375], &quot;geometry&quot;: {&quot;coordinates&quot;: [[[-117.23725, 34.05825], [-117.23725, 34.058375], [-117.237375, 34.058375], [-117.237375, 34.05825], [-117.23725, 34.05825]]], &quot;type&quot;: &quot;Polygon&quot;}, &quot;id&quot;: &quot;121&quot;, &quot;properties&quot;: {&quot;pluscode&quot;: &quot;85643Q57+83&quot;}, &quot;type&quot;: &quot;Feature&quot;}, {&quot;bbox&quot;: [-117.23725, 34.05825, -117.237125, 34.058375], &quot;geometry&quot;: {&quot;coordinates&quot;: [[[-117.237125, 34.05825], [-117.237125, 34.058375], [-117.23725, 34.058375], [-117.23725, 34.05825], [-117.237125, 34.05825]]], &quot;type&quot;: &quot;Polygon&quot;}, &quot;id&quot;: &quot;122&quot;, &quot;properties&quot;: {&quot;pluscode&quot;: &quot;85643Q57+84&quot;}, &quot;type&quot;: &quot;Feature&quot;}, {&quot;bbox&quot;: [-117.237125, 34.05825, -117.23700000000001, 34.058375], &quot;geometry&quot;: {&quot;coordinates&quot;: [[[-117.23700000000001, 34.05825], [-117.23700000000001, 34.058375], [-117.237125, 34.058375], [-117.237125, 34.05825], [-117.23700000000001, 34.05825]]], &quot;type&quot;: &quot;Polygon&quot;}, &quot;id&quot;: &quot;123&quot;, &quot;properties&quot;: {&quot;pluscode&quot;: &quot;85643Q57+85&quot;}, &quot;type&quot;: &quot;Feature&quot;}, {&quot;bbox&quot;: [-117.237, 34.05825, -117.236875, 34.058375], &quot;geometry&quot;: {&quot;coordinates&quot;: [[[-117.236875, 34.05825], [-117.236875, 34.058375], [-117.237, 34.058375], [-117.237, 34.05825], [-117.236875, 34.05825]]], &quot;type&quot;: &quot;Polygon&quot;}, &quot;id&quot;: &quot;124&quot;, &quot;properties&quot;: {&quot;pluscode&quot;: &quot;85643Q57+86&quot;}, &quot;type&quot;: &quot;Feature&quot;}, {&quot;bbox&quot;: [-117.236875, 34.05825, -117.23675, 34.058375], &quot;geometry&quot;: {&quot;coordinates&quot;: [[[-117.23675, 34.05825], [-117.23675, 34.058375], [-117.236875, 34.058375], [-117.236875, 34.05825], [-117.23675, 34.05825]]], &quot;type&quot;: &quot;Polygon&quot;}, &quot;id&quot;: &quot;125&quot;, &quot;properties&quot;: {&quot;pluscode&quot;: &quot;85643Q57+87&quot;}, &quot;type&quot;: &quot;Feature&quot;}, {&quot;bbox&quot;: [-117.23675, 34.05825, -117.236625, 34.058375], &quot;geometry&quot;: {&quot;coordinates&quot;: [[[-117.236625, 34.05825], [-117.236625, 34.058375], [-117.23675, 34.058375], [-117.23675, 34.05825], [-117.236625, 34.05825]]], &quot;type&quot;: &quot;Polygon&quot;}, &quot;id&quot;: &quot;126&quot;, &quot;properties&quot;: {&quot;pluscode&quot;: &quot;85643Q57+88&quot;}, &quot;type&quot;: &quot;Feature&quot;}, {&quot;bbox&quot;: [-117.236625, 34.05825, -117.2365, 34.058375], &quot;geometry&quot;: {&quot;coordinates&quot;: [[[-117.2365, 34.05825], [-117.2365, 34.058375], [-117.236625, 34.058375], [-117.236625, 34.05825], [-117.2365, 34.05825]]], &quot;type&quot;: &quot;Polygon&quot;}, &quot;id&quot;: &quot;127&quot;, &quot;properties&quot;: {&quot;pluscode&quot;: &quot;85643Q57+89&quot;}, &quot;type&quot;: &quot;Feature&quot;}, {&quot;bbox&quot;: [-117.2365, 34.05825, -117.23637500000001, 34.058375], &quot;geometry&quot;: {&quot;coordinates&quot;: [[[-117.23637500000001, 34.05825], [-117.23637500000001, 34.058375], [-117.2365, 34.058375], [-117.2365, 34.05825], [-117.23637500000001, 34.05825]]], &quot;type&quot;: &quot;Polygon&quot;}, &quot;id&quot;: &quot;128&quot;, &quot;properties&quot;: {&quot;pluscode&quot;: &quot;85643Q57+8C&quot;}, &quot;type&quot;: &quot;Feature&quot;}, {&quot;bbox&quot;: [-117.236375, 34.05825, -117.23625, 34.058375], &quot;geometry&quot;: {&quot;coordinates&quot;: [[[-117.23625, 34.05825], [-117.23625, 34.058375], [-117.236375, 34.058375], [-117.236375, 34.05825], [-117.23625, 34.05825]]], &quot;type&quot;: &quot;Polygon&quot;}, &quot;id&quot;: &quot;129&quot;, &quot;properties&quot;: {&quot;pluscode&quot;: &quot;85643Q57+8F&quot;}, &quot;type&quot;: &quot;Feature&quot;}, {&quot;bbox&quot;: [-117.23625, 34.05825, -117.236125, 34.058375], &quot;geometry&quot;: {&quot;coordinates&quot;: [[[-117.236125, 34.05825], [-117.236125, 34.058375], [-117.23625, 34.058375], [-117.23625, 34.05825], [-117.236125, 34.05825]]], &quot;type&quot;: &quot;Polygon&quot;}, &quot;id&quot;: &quot;130&quot;, &quot;properties&quot;: {&quot;pluscode&quot;: &quot;85643Q57+8G&quot;}, &quot;type&quot;: &quot;Feature&quot;}, {&quot;bbox&quot;: [-117.236125, 34.05825, -117.236, 34.058375], &quot;geometry&quot;: {&quot;coordinates&quot;: [[[-117.236, 34.05825], [-117.236, 34.058375], [-117.236125, 34.058375], [-117.236125, 34.05825], [-117.236, 34.05825]]], &quot;type&quot;: &quot;Polygon&quot;}, &quot;id&quot;: &quot;131&quot;, &quot;properties&quot;: {&quot;pluscode&quot;: &quot;85643Q57+8H&quot;}, &quot;type&quot;: &quot;Feature&quot;}, {&quot;bbox&quot;: [-117.236, 34.05825, -117.23587500000001, 34.058375], &quot;geometry&quot;: {&quot;coordinates&quot;: [[[-117.23587500000001, 34.05825], [-117.23587500000001, 34.058375], [-117.236, 34.058375], [-117.236, 34.05825], [-117.23587500000001, 34.05825]]], &quot;type&quot;: &quot;Polygon&quot;}, &quot;id&quot;: &quot;132&quot;, &quot;properties&quot;: {&quot;pluscode&quot;: &quot;85643Q57+8J&quot;}, &quot;type&quot;: &quot;Feature&quot;}, {&quot;bbox&quot;: [-117.235875, 34.05825, -117.23575, 34.058375], &quot;geometry&quot;: {&quot;coordinates&quot;: [[[-117.23575, 34.05825], [-117.23575, 34.058375], [-117.235875, 34.058375], [-117.235875, 34.05825], [-117.23575, 34.05825]]], &quot;type&quot;: &quot;Polygon&quot;}, &quot;id&quot;: &quot;133&quot;, &quot;properties&quot;: {&quot;pluscode&quot;: &quot;85643Q57+8M&quot;}, &quot;type&quot;: &quot;Feature&quot;}, {&quot;bbox&quot;: [-117.23575, 34.05825, -117.235625, 34.058375], &quot;geometry&quot;: {&quot;coordinates&quot;: [[[-117.235625, 34.05825], [-117.235625, 34.058375], [-117.23575, 34.058375], [-117.23575, 34.05825], [-117.235625, 34.05825]]], &quot;type&quot;: &quot;Polygon&quot;}, &quot;id&quot;: &quot;134&quot;, &quot;properties&quot;: {&quot;pluscode&quot;: &quot;85643Q57+8P&quot;}, &quot;type&quot;: &quot;Feature&quot;}, {&quot;bbox&quot;: [-117.235625, 34.05825, -117.2355, 34.058375], &quot;geometry&quot;: {&quot;coordinates&quot;: [[[-117.2355, 34.05825], [-117.2355, 34.058375], [-117.235625, 34.058375], [-117.235625, 34.05825], [-117.2355, 34.05825]]], &quot;type&quot;: &quot;Polygon&quot;}, &quot;id&quot;: &quot;135&quot;, &quot;properties&quot;: {&quot;pluscode&quot;: &quot;85643Q57+8Q&quot;}, &quot;type&quot;: &quot;Feature&quot;}, {&quot;bbox&quot;: [-117.2355, 34.05825, -117.235375, 34.058375], &quot;geometry&quot;: {&quot;coordinates&quot;: [[[-117.235375, 34.05825], [-117.235375, 34.058375], [-117.2355, 34.058375], [-117.2355, 34.05825], [-117.235375, 34.05825]]], &quot;type&quot;: &quot;Polygon&quot;}, &quot;id&quot;: &quot;136&quot;, &quot;properties&quot;: {&quot;pluscode&quot;: &quot;85643Q57+8R&quot;}, &quot;type&quot;: &quot;Feature&quot;}, {&quot;bbox&quot;: [-117.235375, 34.05825, -117.23525000000001, 34.058375], &quot;geometry&quot;: {&quot;coordinates&quot;: [[[-117.23525000000001, 34.05825], [-117.23525000000001, 34.058375], [-117.235375, 34.058375], [-117.235375, 34.05825], [-117.23525000000001, 34.05825]]], &quot;type&quot;: &quot;Polygon&quot;}, &quot;id&quot;: &quot;137&quot;, &quot;properties&quot;: {&quot;pluscode&quot;: &quot;85643Q57+8V&quot;}, &quot;type&quot;: &quot;Feature&quot;}, {&quot;bbox&quot;: [-117.23525, 34.05825, -117.235125, 34.058375], &quot;geometry&quot;: {&quot;coordinates&quot;: [[[-117.235125, 34.05825], [-117.235125, 34.058375], [-117.23525, 34.058375], [-117.23525, 34.05825], [-117.235125, 34.05825]]], &quot;type&quot;: &quot;Polygon&quot;}, &quot;id&quot;: &quot;138&quot;, &quot;properties&quot;: {&quot;pluscode&quot;: &quot;85643Q57+8W&quot;}, &quot;type&quot;: &quot;Feature&quot;}, {&quot;bbox&quot;: [-117.235125, 34.05825, -117.235, 34.058375], &quot;geometry&quot;: {&quot;coordinates&quot;: [[[-117.235, 34.05825], [-117.235, 34.058375], [-117.235125, 34.058375], [-117.235125, 34.05825], [-117.235, 34.05825]]], &quot;type&quot;: &quot;Polygon&quot;}, &quot;id&quot;: &quot;139&quot;, &quot;properties&quot;: {&quot;pluscode&quot;: &quot;85643Q57+8X&quot;}, &quot;type&quot;: &quot;Feature&quot;}, {&quot;bbox&quot;: [-117.2375, 34.058375, -117.237375, 34.0585], &quot;geometry&quot;: {&quot;coordinates&quot;: [[[-117.237375, 34.058375], [-117.237375, 34.0585], [-117.2375, 34.0585], [-117.2375, 34.058375], [-117.237375, 34.058375]]], &quot;type&quot;: &quot;Polygon&quot;}, &quot;id&quot;: &quot;140&quot;, &quot;properties&quot;: {&quot;pluscode&quot;: &quot;85643Q57+92&quot;}, &quot;type&quot;: &quot;Feature&quot;}, {&quot;bbox&quot;: [-117.237375, 34.058375, -117.23725, 34.0585], &quot;geometry&quot;: {&quot;coordinates&quot;: [[[-117.23725, 34.058375], [-117.23725, 34.0585], [-117.237375, 34.0585], [-117.237375, 34.058375], [-117.23725, 34.058375]]], &quot;type&quot;: &quot;Polygon&quot;}, &quot;id&quot;: &quot;141&quot;, &quot;properties&quot;: {&quot;pluscode&quot;: &quot;85643Q57+93&quot;}, &quot;type&quot;: &quot;Feature&quot;}, {&quot;bbox&quot;: [-117.23725, 34.058375, -117.237125, 34.0585], &quot;geometry&quot;: {&quot;coordinates&quot;: [[[-117.237125, 34.058375], [-117.237125, 34.0585], [-117.23725, 34.0585], [-117.23725, 34.058375], [-117.237125, 34.058375]]], &quot;type&quot;: &quot;Polygon&quot;}, &quot;id&quot;: &quot;142&quot;, &quot;properties&quot;: {&quot;pluscode&quot;: &quot;85643Q57+94&quot;}, &quot;type&quot;: &quot;Feature&quot;}, {&quot;bbox&quot;: [-117.237125, 34.058375, -117.23700000000001, 34.0585], &quot;geometry&quot;: {&quot;coordinates&quot;: [[[-117.23700000000001, 34.058375], [-117.23700000000001, 34.0585], [-117.237125, 34.0585], [-117.237125, 34.058375], [-117.23700000000001, 34.058375]]], &quot;type&quot;: &quot;Polygon&quot;}, &quot;id&quot;: &quot;143&quot;, &quot;properties&quot;: {&quot;pluscode&quot;: &quot;85643Q57+95&quot;}, &quot;type&quot;: &quot;Feature&quot;}, {&quot;bbox&quot;: [-117.237, 34.058375, -117.236875, 34.0585], &quot;geometry&quot;: {&quot;coordinates&quot;: [[[-117.236875, 34.058375], [-117.236875, 34.0585], [-117.237, 34.0585], [-117.237, 34.058375], [-117.236875, 34.058375]]], &quot;type&quot;: &quot;Polygon&quot;}, &quot;id&quot;: &quot;144&quot;, &quot;properties&quot;: {&quot;pluscode&quot;: &quot;85643Q57+96&quot;}, &quot;type&quot;: &quot;Feature&quot;}, {&quot;bbox&quot;: [-117.236875, 34.058375, -117.23675, 34.0585], &quot;geometry&quot;: {&quot;coordinates&quot;: [[[-117.23675, 34.058375], [-117.23675, 34.0585], [-117.236875, 34.0585], [-117.236875, 34.058375], [-117.23675, 34.058375]]], &quot;type&quot;: &quot;Polygon&quot;}, &quot;id&quot;: &quot;145&quot;, &quot;properties&quot;: {&quot;pluscode&quot;: &quot;85643Q57+97&quot;}, &quot;type&quot;: &quot;Feature&quot;}, {&quot;bbox&quot;: [-117.23675, 34.058375, -117.236625, 34.0585], &quot;geometry&quot;: {&quot;coordinates&quot;: [[[-117.236625, 34.058375], [-117.236625, 34.0585], [-117.23675, 34.0585], [-117.23675, 34.058375], [-117.236625, 34.058375]]], &quot;type&quot;: &quot;Polygon&quot;}, &quot;id&quot;: &quot;146&quot;, &quot;properties&quot;: {&quot;pluscode&quot;: &quot;85643Q57+98&quot;}, &quot;type&quot;: &quot;Feature&quot;}, {&quot;bbox&quot;: [-117.236625, 34.058375, -117.2365, 34.0585], &quot;geometry&quot;: {&quot;coordinates&quot;: [[[-117.2365, 34.058375], [-117.2365, 34.0585], [-117.236625, 34.0585], [-117.236625, 34.058375], [-117.2365, 34.058375]]], &quot;type&quot;: &quot;Polygon&quot;}, &quot;id&quot;: &quot;147&quot;, &quot;properties&quot;: {&quot;pluscode&quot;: &quot;85643Q57+99&quot;}, &quot;type&quot;: &quot;Feature&quot;}, {&quot;bbox&quot;: [-117.2365, 34.058375, -117.23637500000001, 34.0585], &quot;geometry&quot;: {&quot;coordinates&quot;: [[[-117.23637500000001, 34.058375], [-117.23637500000001, 34.0585], [-117.2365, 34.0585], [-117.2365, 34.058375], [-117.23637500000001, 34.058375]]], &quot;type&quot;: &quot;Polygon&quot;}, &quot;id&quot;: &quot;148&quot;, &quot;properties&quot;: {&quot;pluscode&quot;: &quot;85643Q57+9C&quot;}, &quot;type&quot;: &quot;Feature&quot;}, {&quot;bbox&quot;: [-117.236375, 34.058375, -117.23625, 34.0585], &quot;geometry&quot;: {&quot;coordinates&quot;: [[[-117.23625, 34.058375], [-117.23625, 34.0585], [-117.236375, 34.0585], [-117.236375, 34.058375], [-117.23625, 34.058375]]], &quot;type&quot;: &quot;Polygon&quot;}, &quot;id&quot;: &quot;149&quot;, &quot;properties&quot;: {&quot;pluscode&quot;: &quot;85643Q57+9F&quot;}, &quot;type&quot;: &quot;Feature&quot;}, {&quot;bbox&quot;: [-117.23625, 34.058375, -117.236125, 34.0585], &quot;geometry&quot;: {&quot;coordinates&quot;: [[[-117.236125, 34.058375], [-117.236125, 34.0585], [-117.23625, 34.0585], [-117.23625, 34.058375], [-117.236125, 34.058375]]], &quot;type&quot;: &quot;Polygon&quot;}, &quot;id&quot;: &quot;150&quot;, &quot;properties&quot;: {&quot;pluscode&quot;: &quot;85643Q57+9G&quot;}, &quot;type&quot;: &quot;Feature&quot;}, {&quot;bbox&quot;: [-117.236125, 34.058375, -117.236, 34.0585], &quot;geometry&quot;: {&quot;coordinates&quot;: [[[-117.236, 34.058375], [-117.236, 34.0585], [-117.236125, 34.0585], [-117.236125, 34.058375], [-117.236, 34.058375]]], &quot;type&quot;: &quot;Polygon&quot;}, &quot;id&quot;: &quot;151&quot;, &quot;properties&quot;: {&quot;pluscode&quot;: &quot;85643Q57+9H&quot;}, &quot;type&quot;: &quot;Feature&quot;}, {&quot;bbox&quot;: [-117.236, 34.058375, -117.23587500000001, 34.0585], &quot;geometry&quot;: {&quot;coordinates&quot;: [[[-117.23587500000001, 34.058375], [-117.23587500000001, 34.0585], [-117.236, 34.0585], [-117.236, 34.058375], [-117.23587500000001, 34.058375]]], &quot;type&quot;: &quot;Polygon&quot;}, &quot;id&quot;: &quot;152&quot;, &quot;properties&quot;: {&quot;pluscode&quot;: &quot;85643Q57+9J&quot;}, &quot;type&quot;: &quot;Feature&quot;}, {&quot;bbox&quot;: [-117.235875, 34.058375, -117.23575, 34.0585], &quot;geometry&quot;: {&quot;coordinates&quot;: [[[-117.23575, 34.058375], [-117.23575, 34.0585], [-117.235875, 34.0585], [-117.235875, 34.058375], [-117.23575, 34.058375]]], &quot;type&quot;: &quot;Polygon&quot;}, &quot;id&quot;: &quot;153&quot;, &quot;properties&quot;: {&quot;pluscode&quot;: &quot;85643Q57+9M&quot;}, &quot;type&quot;: &quot;Feature&quot;}, {&quot;bbox&quot;: [-117.23575, 34.058375, -117.235625, 34.0585], &quot;geometry&quot;: {&quot;coordinates&quot;: [[[-117.235625, 34.058375], [-117.235625, 34.0585], [-117.23575, 34.0585], [-117.23575, 34.058375], [-117.235625, 34.058375]]], &quot;type&quot;: &quot;Polygon&quot;}, &quot;id&quot;: &quot;154&quot;, &quot;properties&quot;: {&quot;pluscode&quot;: &quot;85643Q57+9P&quot;}, &quot;type&quot;: &quot;Feature&quot;}, {&quot;bbox&quot;: [-117.235625, 34.058375, -117.2355, 34.0585], &quot;geometry&quot;: {&quot;coordinates&quot;: [[[-117.2355, 34.058375], [-117.2355, 34.0585], [-117.235625, 34.0585], [-117.235625, 34.058375], [-117.2355, 34.058375]]], &quot;type&quot;: &quot;Polygon&quot;}, &quot;id&quot;: &quot;155&quot;, &quot;properties&quot;: {&quot;pluscode&quot;: &quot;85643Q57+9Q&quot;}, &quot;type&quot;: &quot;Feature&quot;}, {&quot;bbox&quot;: [-117.2355, 34.058375, -117.235375, 34.0585], &quot;geometry&quot;: {&quot;coordinates&quot;: [[[-117.235375, 34.058375], [-117.235375, 34.0585], [-117.2355, 34.0585], [-117.2355, 34.058375], [-117.235375, 34.058375]]], &quot;type&quot;: &quot;Polygon&quot;}, &quot;id&quot;: &quot;156&quot;, &quot;properties&quot;: {&quot;pluscode&quot;: &quot;85643Q57+9R&quot;}, &quot;type&quot;: &quot;Feature&quot;}, {&quot;bbox&quot;: [-117.235375, 34.058375, -117.23525000000001, 34.0585], &quot;geometry&quot;: {&quot;coordinates&quot;: [[[-117.23525000000001, 34.058375], [-117.23525000000001, 34.0585], [-117.235375, 34.0585], [-117.235375, 34.058375], [-117.23525000000001, 34.058375]]], &quot;type&quot;: &quot;Polygon&quot;}, &quot;id&quot;: &quot;157&quot;, &quot;properties&quot;: {&quot;pluscode&quot;: &quot;85643Q57+9V&quot;}, &quot;type&quot;: &quot;Feature&quot;}, {&quot;bbox&quot;: [-117.23525, 34.058375, -117.235125, 34.0585], &quot;geometry&quot;: {&quot;coordinates&quot;: [[[-117.235125, 34.058375], [-117.235125, 34.0585], [-117.23525, 34.0585], [-117.23525, 34.058375], [-117.235125, 34.058375]]], &quot;type&quot;: &quot;Polygon&quot;}, &quot;id&quot;: &quot;158&quot;, &quot;properties&quot;: {&quot;pluscode&quot;: &quot;85643Q57+9W&quot;}, &quot;type&quot;: &quot;Feature&quot;}, {&quot;bbox&quot;: [-117.235125, 34.058375, -117.235, 34.0585], &quot;geometry&quot;: {&quot;coordinates&quot;: [[[-117.235, 34.058375], [-117.235, 34.0585], [-117.235125, 34.0585], [-117.235125, 34.058375], [-117.235, 34.058375]]], &quot;type&quot;: &quot;Polygon&quot;}, &quot;id&quot;: &quot;159&quot;, &quot;properties&quot;: {&quot;pluscode&quot;: &quot;85643Q57+9X&quot;}, &quot;type&quot;: &quot;Feature&quot;}, {&quot;bbox&quot;: [-117.2375, 34.0585, -117.237375, 34.058625], &quot;geometry&quot;: {&quot;coordinates&quot;: [[[-117.237375, 34.0585], [-117.237375, 34.058625], [-117.2375, 34.058625], [-117.2375, 34.0585], [-117.237375, 34.0585]]], &quot;type&quot;: &quot;Polygon&quot;}, &quot;id&quot;: &quot;160&quot;, &quot;properties&quot;: {&quot;pluscode&quot;: &quot;85643Q57+C2&quot;}, &quot;type&quot;: &quot;Feature&quot;}, {&quot;bbox&quot;: [-117.237375, 34.0585, -117.23725, 34.058625], &quot;geometry&quot;: {&quot;coordinates&quot;: [[[-117.23725, 34.0585], [-117.23725, 34.058625], [-117.237375, 34.058625], [-117.237375, 34.0585], [-117.23725, 34.0585]]], &quot;type&quot;: &quot;Polygon&quot;}, &quot;id&quot;: &quot;161&quot;, &quot;properties&quot;: {&quot;pluscode&quot;: &quot;85643Q57+C3&quot;}, &quot;type&quot;: &quot;Feature&quot;}, {&quot;bbox&quot;: [-117.23725, 34.0585, -117.237125, 34.058625], &quot;geometry&quot;: {&quot;coordinates&quot;: [[[-117.237125, 34.0585], [-117.237125, 34.058625], [-117.23725, 34.058625], [-117.23725, 34.0585], [-117.237125, 34.0585]]], &quot;type&quot;: &quot;Polygon&quot;}, &quot;id&quot;: &quot;162&quot;, &quot;properties&quot;: {&quot;pluscode&quot;: &quot;85643Q57+C4&quot;}, &quot;type&quot;: &quot;Feature&quot;}, {&quot;bbox&quot;: [-117.237125, 34.0585, -117.23700000000001, 34.058625], &quot;geometry&quot;: {&quot;coordinates&quot;: [[[-117.23700000000001, 34.0585], [-117.23700000000001, 34.058625], [-117.237125, 34.058625], [-117.237125, 34.0585], [-117.23700000000001, 34.0585]]], &quot;type&quot;: &quot;Polygon&quot;}, &quot;id&quot;: &quot;163&quot;, &quot;properties&quot;: {&quot;pluscode&quot;: &quot;85643Q57+C5&quot;}, &quot;type&quot;: &quot;Feature&quot;}, {&quot;bbox&quot;: [-117.237, 34.0585, -117.236875, 34.058625], &quot;geometry&quot;: {&quot;coordinates&quot;: [[[-117.236875, 34.0585], [-117.236875, 34.058625], [-117.237, 34.058625], [-117.237, 34.0585], [-117.236875, 34.0585]]], &quot;type&quot;: &quot;Polygon&quot;}, &quot;id&quot;: &quot;164&quot;, &quot;properties&quot;: {&quot;pluscode&quot;: &quot;85643Q57+C6&quot;}, &quot;type&quot;: &quot;Feature&quot;}, {&quot;bbox&quot;: [-117.236875, 34.0585, -117.23675, 34.058625], &quot;geometry&quot;: {&quot;coordinates&quot;: [[[-117.23675, 34.0585], [-117.23675, 34.058625], [-117.236875, 34.058625], [-117.236875, 34.0585], [-117.23675, 34.0585]]], &quot;type&quot;: &quot;Polygon&quot;}, &quot;id&quot;: &quot;165&quot;, &quot;properties&quot;: {&quot;pluscode&quot;: &quot;85643Q57+C7&quot;}, &quot;type&quot;: &quot;Feature&quot;}, {&quot;bbox&quot;: [-117.23675, 34.0585, -117.236625, 34.058625], &quot;geometry&quot;: {&quot;coordinates&quot;: [[[-117.236625, 34.0585], [-117.236625, 34.058625], [-117.23675, 34.058625], [-117.23675, 34.0585], [-117.236625, 34.0585]]], &quot;type&quot;: &quot;Polygon&quot;}, &quot;id&quot;: &quot;166&quot;, &quot;properties&quot;: {&quot;pluscode&quot;: &quot;85643Q57+C8&quot;}, &quot;type&quot;: &quot;Feature&quot;}, {&quot;bbox&quot;: [-117.236625, 34.0585, -117.2365, 34.058625], &quot;geometry&quot;: {&quot;coordinates&quot;: [[[-117.2365, 34.0585], [-117.2365, 34.058625], [-117.236625, 34.058625], [-117.236625, 34.0585], [-117.2365, 34.0585]]], &quot;type&quot;: &quot;Polygon&quot;}, &quot;id&quot;: &quot;167&quot;, &quot;properties&quot;: {&quot;pluscode&quot;: &quot;85643Q57+C9&quot;}, &quot;type&quot;: &quot;Feature&quot;}, {&quot;bbox&quot;: [-117.2365, 34.0585, -117.23637500000001, 34.058625], &quot;geometry&quot;: {&quot;coordinates&quot;: [[[-117.23637500000001, 34.0585], [-117.23637500000001, 34.058625], [-117.2365, 34.058625], [-117.2365, 34.0585], [-117.23637500000001, 34.0585]]], &quot;type&quot;: &quot;Polygon&quot;}, &quot;id&quot;: &quot;168&quot;, &quot;properties&quot;: {&quot;pluscode&quot;: &quot;85643Q57+CC&quot;}, &quot;type&quot;: &quot;Feature&quot;}, {&quot;bbox&quot;: [-117.236375, 34.0585, -117.23625, 34.058625], &quot;geometry&quot;: {&quot;coordinates&quot;: [[[-117.23625, 34.0585], [-117.23625, 34.058625], [-117.236375, 34.058625], [-117.236375, 34.0585], [-117.23625, 34.0585]]], &quot;type&quot;: &quot;Polygon&quot;}, &quot;id&quot;: &quot;169&quot;, &quot;properties&quot;: {&quot;pluscode&quot;: &quot;85643Q57+CF&quot;}, &quot;type&quot;: &quot;Feature&quot;}, {&quot;bbox&quot;: [-117.23625, 34.0585, -117.236125, 34.058625], &quot;geometry&quot;: {&quot;coordinates&quot;: [[[-117.236125, 34.0585], [-117.236125, 34.058625], [-117.23625, 34.058625], [-117.23625, 34.0585], [-117.236125, 34.0585]]], &quot;type&quot;: &quot;Polygon&quot;}, &quot;id&quot;: &quot;170&quot;, &quot;properties&quot;: {&quot;pluscode&quot;: &quot;85643Q57+CG&quot;}, &quot;type&quot;: &quot;Feature&quot;}, {&quot;bbox&quot;: [-117.236125, 34.0585, -117.236, 34.058625], &quot;geometry&quot;: {&quot;coordinates&quot;: [[[-117.236, 34.0585], [-117.236, 34.058625], [-117.236125, 34.058625], [-117.236125, 34.0585], [-117.236, 34.0585]]], &quot;type&quot;: &quot;Polygon&quot;}, &quot;id&quot;: &quot;171&quot;, &quot;properties&quot;: {&quot;pluscode&quot;: &quot;85643Q57+CH&quot;}, &quot;type&quot;: &quot;Feature&quot;}, {&quot;bbox&quot;: [-117.236, 34.0585, -117.23587500000001, 34.058625], &quot;geometry&quot;: {&quot;coordinates&quot;: [[[-117.23587500000001, 34.0585], [-117.23587500000001, 34.058625], [-117.236, 34.058625], [-117.236, 34.0585], [-117.23587500000001, 34.0585]]], &quot;type&quot;: &quot;Polygon&quot;}, &quot;id&quot;: &quot;172&quot;, &quot;properties&quot;: {&quot;pluscode&quot;: &quot;85643Q57+CJ&quot;}, &quot;type&quot;: &quot;Feature&quot;}, {&quot;bbox&quot;: [-117.235875, 34.0585, -117.23575, 34.058625], &quot;geometry&quot;: {&quot;coordinates&quot;: [[[-117.23575, 34.0585], [-117.23575, 34.058625], [-117.235875, 34.058625], [-117.235875, 34.0585], [-117.23575, 34.0585]]], &quot;type&quot;: &quot;Polygon&quot;}, &quot;id&quot;: &quot;173&quot;, &quot;properties&quot;: {&quot;pluscode&quot;: &quot;85643Q57+CM&quot;}, &quot;type&quot;: &quot;Feature&quot;}, {&quot;bbox&quot;: [-117.23575, 34.0585, -117.235625, 34.058625], &quot;geometry&quot;: {&quot;coordinates&quot;: [[[-117.235625, 34.0585], [-117.235625, 34.058625], [-117.23575, 34.058625], [-117.23575, 34.0585], [-117.235625, 34.0585]]], &quot;type&quot;: &quot;Polygon&quot;}, &quot;id&quot;: &quot;174&quot;, &quot;properties&quot;: {&quot;pluscode&quot;: &quot;85643Q57+CP&quot;}, &quot;type&quot;: &quot;Feature&quot;}, {&quot;bbox&quot;: [-117.235625, 34.0585, -117.2355, 34.058625], &quot;geometry&quot;: {&quot;coordinates&quot;: [[[-117.2355, 34.0585], [-117.2355, 34.058625], [-117.235625, 34.058625], [-117.235625, 34.0585], [-117.2355, 34.0585]]], &quot;type&quot;: &quot;Polygon&quot;}, &quot;id&quot;: &quot;175&quot;, &quot;properties&quot;: {&quot;pluscode&quot;: &quot;85643Q57+CQ&quot;}, &quot;type&quot;: &quot;Feature&quot;}, {&quot;bbox&quot;: [-117.2355, 34.0585, -117.235375, 34.058625], &quot;geometry&quot;: {&quot;coordinates&quot;: [[[-117.235375, 34.0585], [-117.235375, 34.058625], [-117.2355, 34.058625], [-117.2355, 34.0585], [-117.235375, 34.0585]]], &quot;type&quot;: &quot;Polygon&quot;}, &quot;id&quot;: &quot;176&quot;, &quot;properties&quot;: {&quot;pluscode&quot;: &quot;85643Q57+CR&quot;}, &quot;type&quot;: &quot;Feature&quot;}, {&quot;bbox&quot;: [-117.235375, 34.0585, -117.23525000000001, 34.058625], &quot;geometry&quot;: {&quot;coordinates&quot;: [[[-117.23525000000001, 34.0585], [-117.23525000000001, 34.058625], [-117.235375, 34.058625], [-117.235375, 34.0585], [-117.23525000000001, 34.0585]]], &quot;type&quot;: &quot;Polygon&quot;}, &quot;id&quot;: &quot;177&quot;, &quot;properties&quot;: {&quot;pluscode&quot;: &quot;85643Q57+CV&quot;}, &quot;type&quot;: &quot;Feature&quot;}, {&quot;bbox&quot;: [-117.23525, 34.0585, -117.235125, 34.058625], &quot;geometry&quot;: {&quot;coordinates&quot;: [[[-117.235125, 34.0585], [-117.235125, 34.058625], [-117.23525, 34.058625], [-117.23525, 34.0585], [-117.235125, 34.0585]]], &quot;type&quot;: &quot;Polygon&quot;}, &quot;id&quot;: &quot;178&quot;, &quot;properties&quot;: {&quot;pluscode&quot;: &quot;85643Q57+CW&quot;}, &quot;type&quot;: &quot;Feature&quot;}, {&quot;bbox&quot;: [-117.235125, 34.0585, -117.235, 34.058625], &quot;geometry&quot;: {&quot;coordinates&quot;: [[[-117.235, 34.0585], [-117.235, 34.058625], [-117.235125, 34.058625], [-117.235125, 34.0585], [-117.235, 34.0585]]], &quot;type&quot;: &quot;Polygon&quot;}, &quot;id&quot;: &quot;179&quot;, &quot;properties&quot;: {&quot;pluscode&quot;: &quot;85643Q57+CX&quot;}, &quot;type&quot;: &quot;Feature&quot;}, {&quot;bbox&quot;: [-117.2375, 34.058625, -117.237375, 34.05875], &quot;geometry&quot;: {&quot;coordinates&quot;: [[[-117.237375, 34.058625], [-117.237375, 34.05875], [-117.2375, 34.05875], [-117.2375, 34.058625], [-117.237375, 34.058625]]], &quot;type&quot;: &quot;Polygon&quot;}, &quot;id&quot;: &quot;180&quot;, &quot;properties&quot;: {&quot;pluscode&quot;: &quot;85643Q57+F2&quot;}, &quot;type&quot;: &quot;Feature&quot;}, {&quot;bbox&quot;: [-117.237375, 34.058625, -117.23725, 34.05875], &quot;geometry&quot;: {&quot;coordinates&quot;: [[[-117.23725, 34.058625], [-117.23725, 34.05875], [-117.237375, 34.05875], [-117.237375, 34.058625], [-117.23725, 34.058625]]], &quot;type&quot;: &quot;Polygon&quot;}, &quot;id&quot;: &quot;181&quot;, &quot;properties&quot;: {&quot;pluscode&quot;: &quot;85643Q57+F3&quot;}, &quot;type&quot;: &quot;Feature&quot;}, {&quot;bbox&quot;: [-117.23725, 34.058625, -117.237125, 34.05875], &quot;geometry&quot;: {&quot;coordinates&quot;: [[[-117.237125, 34.058625], [-117.237125, 34.05875], [-117.23725, 34.05875], [-117.23725, 34.058625], [-117.237125, 34.058625]]], &quot;type&quot;: &quot;Polygon&quot;}, &quot;id&quot;: &quot;182&quot;, &quot;properties&quot;: {&quot;pluscode&quot;: &quot;85643Q57+F4&quot;}, &quot;type&quot;: &quot;Feature&quot;}, {&quot;bbox&quot;: [-117.237125, 34.058625, -117.23700000000001, 34.05875], &quot;geometry&quot;: {&quot;coordinates&quot;: [[[-117.23700000000001, 34.058625], [-117.23700000000001, 34.05875], [-117.237125, 34.05875], [-117.237125, 34.058625], [-117.23700000000001, 34.058625]]], &quot;type&quot;: &quot;Polygon&quot;}, &quot;id&quot;: &quot;183&quot;, &quot;properties&quot;: {&quot;pluscode&quot;: &quot;85643Q57+F5&quot;}, &quot;type&quot;: &quot;Feature&quot;}, {&quot;bbox&quot;: [-117.237, 34.058625, -117.236875, 34.05875], &quot;geometry&quot;: {&quot;coordinates&quot;: [[[-117.236875, 34.058625], [-117.236875, 34.05875], [-117.237, 34.05875], [-117.237, 34.058625], [-117.236875, 34.058625]]], &quot;type&quot;: &quot;Polygon&quot;}, &quot;id&quot;: &quot;184&quot;, &quot;properties&quot;: {&quot;pluscode&quot;: &quot;85643Q57+F6&quot;}, &quot;type&quot;: &quot;Feature&quot;}, {&quot;bbox&quot;: [-117.236875, 34.058625, -117.23675, 34.05875], &quot;geometry&quot;: {&quot;coordinates&quot;: [[[-117.23675, 34.058625], [-117.23675, 34.05875], [-117.236875, 34.05875], [-117.236875, 34.058625], [-117.23675, 34.058625]]], &quot;type&quot;: &quot;Polygon&quot;}, &quot;id&quot;: &quot;185&quot;, &quot;properties&quot;: {&quot;pluscode&quot;: &quot;85643Q57+F7&quot;}, &quot;type&quot;: &quot;Feature&quot;}, {&quot;bbox&quot;: [-117.23675, 34.058625, -117.236625, 34.05875], &quot;geometry&quot;: {&quot;coordinates&quot;: [[[-117.236625, 34.058625], [-117.236625, 34.05875], [-117.23675, 34.05875], [-117.23675, 34.058625], [-117.236625, 34.058625]]], &quot;type&quot;: &quot;Polygon&quot;}, &quot;id&quot;: &quot;186&quot;, &quot;properties&quot;: {&quot;pluscode&quot;: &quot;85643Q57+F8&quot;}, &quot;type&quot;: &quot;Feature&quot;}, {&quot;bbox&quot;: [-117.236625, 34.058625, -117.2365, 34.05875], &quot;geometry&quot;: {&quot;coordinates&quot;: [[[-117.2365, 34.058625], [-117.2365, 34.05875], [-117.236625, 34.05875], [-117.236625, 34.058625], [-117.2365, 34.058625]]], &quot;type&quot;: &quot;Polygon&quot;}, &quot;id&quot;: &quot;187&quot;, &quot;properties&quot;: {&quot;pluscode&quot;: &quot;85643Q57+F9&quot;}, &quot;type&quot;: &quot;Feature&quot;}, {&quot;bbox&quot;: [-117.2365, 34.058625, -117.23637500000001, 34.05875], &quot;geometry&quot;: {&quot;coordinates&quot;: [[[-117.23637500000001, 34.058625], [-117.23637500000001, 34.05875], [-117.2365, 34.05875], [-117.2365, 34.058625], [-117.23637500000001, 34.058625]]], &quot;type&quot;: &quot;Polygon&quot;}, &quot;id&quot;: &quot;188&quot;, &quot;properties&quot;: {&quot;pluscode&quot;: &quot;85643Q57+FC&quot;}, &quot;type&quot;: &quot;Feature&quot;}, {&quot;bbox&quot;: [-117.236375, 34.058625, -117.23625, 34.05875], &quot;geometry&quot;: {&quot;coordinates&quot;: [[[-117.23625, 34.058625], [-117.23625, 34.05875], [-117.236375, 34.05875], [-117.236375, 34.058625], [-117.23625, 34.058625]]], &quot;type&quot;: &quot;Polygon&quot;}, &quot;id&quot;: &quot;189&quot;, &quot;properties&quot;: {&quot;pluscode&quot;: &quot;85643Q57+FF&quot;}, &quot;type&quot;: &quot;Feature&quot;}, {&quot;bbox&quot;: [-117.23625, 34.058625, -117.236125, 34.05875], &quot;geometry&quot;: {&quot;coordinates&quot;: [[[-117.236125, 34.058625], [-117.236125, 34.05875], [-117.23625, 34.05875], [-117.23625, 34.058625], [-117.236125, 34.058625]]], &quot;type&quot;: &quot;Polygon&quot;}, &quot;id&quot;: &quot;190&quot;, &quot;properties&quot;: {&quot;pluscode&quot;: &quot;85643Q57+FG&quot;}, &quot;type&quot;: &quot;Feature&quot;}, {&quot;bbox&quot;: [-117.236125, 34.058625, -117.236, 34.05875], &quot;geometry&quot;: {&quot;coordinates&quot;: [[[-117.236, 34.058625], [-117.236, 34.05875], [-117.236125, 34.05875], [-117.236125, 34.058625], [-117.236, 34.058625]]], &quot;type&quot;: &quot;Polygon&quot;}, &quot;id&quot;: &quot;191&quot;, &quot;properties&quot;: {&quot;pluscode&quot;: &quot;85643Q57+FH&quot;}, &quot;type&quot;: &quot;Feature&quot;}, {&quot;bbox&quot;: [-117.236, 34.058625, -117.23587500000001, 34.05875], &quot;geometry&quot;: {&quot;coordinates&quot;: [[[-117.23587500000001, 34.058625], [-117.23587500000001, 34.05875], [-117.236, 34.05875], [-117.236, 34.058625], [-117.23587500000001, 34.058625]]], &quot;type&quot;: &quot;Polygon&quot;}, &quot;id&quot;: &quot;192&quot;, &quot;properties&quot;: {&quot;pluscode&quot;: &quot;85643Q57+FJ&quot;}, &quot;type&quot;: &quot;Feature&quot;}, {&quot;bbox&quot;: [-117.235875, 34.058625, -117.23575, 34.05875], &quot;geometry&quot;: {&quot;coordinates&quot;: [[[-117.23575, 34.058625], [-117.23575, 34.05875], [-117.235875, 34.05875], [-117.235875, 34.058625], [-117.23575, 34.058625]]], &quot;type&quot;: &quot;Polygon&quot;}, &quot;id&quot;: &quot;193&quot;, &quot;properties&quot;: {&quot;pluscode&quot;: &quot;85643Q57+FM&quot;}, &quot;type&quot;: &quot;Feature&quot;}, {&quot;bbox&quot;: [-117.23575, 34.058625, -117.235625, 34.05875], &quot;geometry&quot;: {&quot;coordinates&quot;: [[[-117.235625, 34.058625], [-117.235625, 34.05875], [-117.23575, 34.05875], [-117.23575, 34.058625], [-117.235625, 34.058625]]], &quot;type&quot;: &quot;Polygon&quot;}, &quot;id&quot;: &quot;194&quot;, &quot;properties&quot;: {&quot;pluscode&quot;: &quot;85643Q57+FP&quot;}, &quot;type&quot;: &quot;Feature&quot;}, {&quot;bbox&quot;: [-117.235625, 34.058625, -117.2355, 34.05875], &quot;geometry&quot;: {&quot;coordinates&quot;: [[[-117.2355, 34.058625], [-117.2355, 34.05875], [-117.235625, 34.05875], [-117.235625, 34.058625], [-117.2355, 34.058625]]], &quot;type&quot;: &quot;Polygon&quot;}, &quot;id&quot;: &quot;195&quot;, &quot;properties&quot;: {&quot;pluscode&quot;: &quot;85643Q57+FQ&quot;}, &quot;type&quot;: &quot;Feature&quot;}, {&quot;bbox&quot;: [-117.2355, 34.058625, -117.235375, 34.05875], &quot;geometry&quot;: {&quot;coordinates&quot;: [[[-117.235375, 34.058625], [-117.235375, 34.05875], [-117.2355, 34.05875], [-117.2355, 34.058625], [-117.235375, 34.058625]]], &quot;type&quot;: &quot;Polygon&quot;}, &quot;id&quot;: &quot;196&quot;, &quot;properties&quot;: {&quot;pluscode&quot;: &quot;85643Q57+FR&quot;}, &quot;type&quot;: &quot;Feature&quot;}, {&quot;bbox&quot;: [-117.235375, 34.058625, -117.23525000000001, 34.05875], &quot;geometry&quot;: {&quot;coordinates&quot;: [[[-117.23525000000001, 34.058625], [-117.23525000000001, 34.05875], [-117.235375, 34.05875], [-117.235375, 34.058625], [-117.23525000000001, 34.058625]]], &quot;type&quot;: &quot;Polygon&quot;}, &quot;id&quot;: &quot;197&quot;, &quot;properties&quot;: {&quot;pluscode&quot;: &quot;85643Q57+FV&quot;}, &quot;type&quot;: &quot;Feature&quot;}, {&quot;bbox&quot;: [-117.23525, 34.058625, -117.235125, 34.05875], &quot;geometry&quot;: {&quot;coordinates&quot;: [[[-117.235125, 34.058625], [-117.235125, 34.05875], [-117.23525, 34.05875], [-117.23525, 34.058625], [-117.235125, 34.058625]]], &quot;type&quot;: &quot;Polygon&quot;}, &quot;id&quot;: &quot;198&quot;, &quot;properties&quot;: {&quot;pluscode&quot;: &quot;85643Q57+FW&quot;}, &quot;type&quot;: &quot;Feature&quot;}, {&quot;bbox&quot;: [-117.235125, 34.058625, -117.235, 34.05875], &quot;geometry&quot;: {&quot;coordinates&quot;: [[[-117.235, 34.058625], [-117.235, 34.05875], [-117.235125, 34.05875], [-117.235125, 34.058625], [-117.235, 34.058625]]], &quot;type&quot;: &quot;Polygon&quot;}, &quot;id&quot;: &quot;199&quot;, &quot;properties&quot;: {&quot;pluscode&quot;: &quot;85643Q57+FX&quot;}, &quot;type&quot;: &quot;Feature&quot;}, {&quot;bbox&quot;: [-117.2375, 34.05875, -117.237375, 34.058875], &quot;geometry&quot;: {&quot;coordinates&quot;: [[[-117.237375, 34.05875], [-117.237375, 34.058875], [-117.2375, 34.058875], [-117.2375, 34.05875], [-117.237375, 34.05875]]], &quot;type&quot;: &quot;Polygon&quot;}, &quot;id&quot;: &quot;200&quot;, &quot;properties&quot;: {&quot;pluscode&quot;: &quot;85643Q57+G2&quot;}, &quot;type&quot;: &quot;Feature&quot;}, {&quot;bbox&quot;: [-117.237375, 34.05875, -117.23725, 34.058875], &quot;geometry&quot;: {&quot;coordinates&quot;: [[[-117.23725, 34.05875], [-117.23725, 34.058875], [-117.237375, 34.058875], [-117.237375, 34.05875], [-117.23725, 34.05875]]], &quot;type&quot;: &quot;Polygon&quot;}, &quot;id&quot;: &quot;201&quot;, &quot;properties&quot;: {&quot;pluscode&quot;: &quot;85643Q57+G3&quot;}, &quot;type&quot;: &quot;Feature&quot;}, {&quot;bbox&quot;: [-117.23725, 34.05875, -117.237125, 34.058875], &quot;geometry&quot;: {&quot;coordinates&quot;: [[[-117.237125, 34.05875], [-117.237125, 34.058875], [-117.23725, 34.058875], [-117.23725, 34.05875], [-117.237125, 34.05875]]], &quot;type&quot;: &quot;Polygon&quot;}, &quot;id&quot;: &quot;202&quot;, &quot;properties&quot;: {&quot;pluscode&quot;: &quot;85643Q57+G4&quot;}, &quot;type&quot;: &quot;Feature&quot;}, {&quot;bbox&quot;: [-117.237125, 34.05875, -117.23700000000001, 34.058875], &quot;geometry&quot;: {&quot;coordinates&quot;: [[[-117.23700000000001, 34.05875], [-117.23700000000001, 34.058875], [-117.237125, 34.058875], [-117.237125, 34.05875], [-117.23700000000001, 34.05875]]], &quot;type&quot;: &quot;Polygon&quot;}, &quot;id&quot;: &quot;203&quot;, &quot;properties&quot;: {&quot;pluscode&quot;: &quot;85643Q57+G5&quot;}, &quot;type&quot;: &quot;Feature&quot;}, {&quot;bbox&quot;: [-117.237, 34.05875, -117.236875, 34.058875], &quot;geometry&quot;: {&quot;coordinates&quot;: [[[-117.236875, 34.05875], [-117.236875, 34.058875], [-117.237, 34.058875], [-117.237, 34.05875], [-117.236875, 34.05875]]], &quot;type&quot;: &quot;Polygon&quot;}, &quot;id&quot;: &quot;204&quot;, &quot;properties&quot;: {&quot;pluscode&quot;: &quot;85643Q57+G6&quot;}, &quot;type&quot;: &quot;Feature&quot;}, {&quot;bbox&quot;: [-117.236875, 34.05875, -117.23675, 34.058875], &quot;geometry&quot;: {&quot;coordinates&quot;: [[[-117.23675, 34.05875], [-117.23675, 34.058875], [-117.236875, 34.058875], [-117.236875, 34.05875], [-117.23675, 34.05875]]], &quot;type&quot;: &quot;Polygon&quot;}, &quot;id&quot;: &quot;205&quot;, &quot;properties&quot;: {&quot;pluscode&quot;: &quot;85643Q57+G7&quot;}, &quot;type&quot;: &quot;Feature&quot;}, {&quot;bbox&quot;: [-117.23675, 34.05875, -117.236625, 34.058875], &quot;geometry&quot;: {&quot;coordinates&quot;: [[[-117.236625, 34.05875], [-117.236625, 34.058875], [-117.23675, 34.058875], [-117.23675, 34.05875], [-117.236625, 34.05875]]], &quot;type&quot;: &quot;Polygon&quot;}, &quot;id&quot;: &quot;206&quot;, &quot;properties&quot;: {&quot;pluscode&quot;: &quot;85643Q57+G8&quot;}, &quot;type&quot;: &quot;Feature&quot;}, {&quot;bbox&quot;: [-117.236625, 34.05875, -117.2365, 34.058875], &quot;geometry&quot;: {&quot;coordinates&quot;: [[[-117.2365, 34.05875], [-117.2365, 34.058875], [-117.236625, 34.058875], [-117.236625, 34.05875], [-117.2365, 34.05875]]], &quot;type&quot;: &quot;Polygon&quot;}, &quot;id&quot;: &quot;207&quot;, &quot;properties&quot;: {&quot;pluscode&quot;: &quot;85643Q57+G9&quot;}, &quot;type&quot;: &quot;Feature&quot;}, {&quot;bbox&quot;: [-117.2365, 34.05875, -117.23637500000001, 34.058875], &quot;geometry&quot;: {&quot;coordinates&quot;: [[[-117.23637500000001, 34.05875], [-117.23637500000001, 34.058875], [-117.2365, 34.058875], [-117.2365, 34.05875], [-117.23637500000001, 34.05875]]], &quot;type&quot;: &quot;Polygon&quot;}, &quot;id&quot;: &quot;208&quot;, &quot;properties&quot;: {&quot;pluscode&quot;: &quot;85643Q57+GC&quot;}, &quot;type&quot;: &quot;Feature&quot;}, {&quot;bbox&quot;: [-117.236375, 34.05875, -117.23625, 34.058875], &quot;geometry&quot;: {&quot;coordinates&quot;: [[[-117.23625, 34.05875], [-117.23625, 34.058875], [-117.236375, 34.058875], [-117.236375, 34.05875], [-117.23625, 34.05875]]], &quot;type&quot;: &quot;Polygon&quot;}, &quot;id&quot;: &quot;209&quot;, &quot;properties&quot;: {&quot;pluscode&quot;: &quot;85643Q57+GF&quot;}, &quot;type&quot;: &quot;Feature&quot;}, {&quot;bbox&quot;: [-117.23625, 34.05875, -117.236125, 34.058875], &quot;geometry&quot;: {&quot;coordinates&quot;: [[[-117.236125, 34.05875], [-117.236125, 34.058875], [-117.23625, 34.058875], [-117.23625, 34.05875], [-117.236125, 34.05875]]], &quot;type&quot;: &quot;Polygon&quot;}, &quot;id&quot;: &quot;210&quot;, &quot;properties&quot;: {&quot;pluscode&quot;: &quot;85643Q57+GG&quot;}, &quot;type&quot;: &quot;Feature&quot;}, {&quot;bbox&quot;: [-117.236125, 34.05875, -117.236, 34.058875], &quot;geometry&quot;: {&quot;coordinates&quot;: [[[-117.236, 34.05875], [-117.236, 34.058875], [-117.236125, 34.058875], [-117.236125, 34.05875], [-117.236, 34.05875]]], &quot;type&quot;: &quot;Polygon&quot;}, &quot;id&quot;: &quot;211&quot;, &quot;properties&quot;: {&quot;pluscode&quot;: &quot;85643Q57+GH&quot;}, &quot;type&quot;: &quot;Feature&quot;}, {&quot;bbox&quot;: [-117.236, 34.05875, -117.23587500000001, 34.058875], &quot;geometry&quot;: {&quot;coordinates&quot;: [[[-117.23587500000001, 34.05875], [-117.23587500000001, 34.058875], [-117.236, 34.058875], [-117.236, 34.05875], [-117.23587500000001, 34.05875]]], &quot;type&quot;: &quot;Polygon&quot;}, &quot;id&quot;: &quot;212&quot;, &quot;properties&quot;: {&quot;pluscode&quot;: &quot;85643Q57+GJ&quot;}, &quot;type&quot;: &quot;Feature&quot;}, {&quot;bbox&quot;: [-117.235875, 34.05875, -117.23575, 34.058875], &quot;geometry&quot;: {&quot;coordinates&quot;: [[[-117.23575, 34.05875], [-117.23575, 34.058875], [-117.235875, 34.058875], [-117.235875, 34.05875], [-117.23575, 34.05875]]], &quot;type&quot;: &quot;Polygon&quot;}, &quot;id&quot;: &quot;213&quot;, &quot;properties&quot;: {&quot;pluscode&quot;: &quot;85643Q57+GM&quot;}, &quot;type&quot;: &quot;Feature&quot;}, {&quot;bbox&quot;: [-117.23575, 34.05875, -117.235625, 34.058875], &quot;geometry&quot;: {&quot;coordinates&quot;: [[[-117.235625, 34.05875], [-117.235625, 34.058875], [-117.23575, 34.058875], [-117.23575, 34.05875], [-117.235625, 34.05875]]], &quot;type&quot;: &quot;Polygon&quot;}, &quot;id&quot;: &quot;214&quot;, &quot;properties&quot;: {&quot;pluscode&quot;: &quot;85643Q57+GP&quot;}, &quot;type&quot;: &quot;Feature&quot;}, {&quot;bbox&quot;: [-117.235625, 34.05875, -117.2355, 34.058875], &quot;geometry&quot;: {&quot;coordinates&quot;: [[[-117.2355, 34.05875], [-117.2355, 34.058875], [-117.235625, 34.058875], [-117.235625, 34.05875], [-117.2355, 34.05875]]], &quot;type&quot;: &quot;Polygon&quot;}, &quot;id&quot;: &quot;215&quot;, &quot;properties&quot;: {&quot;pluscode&quot;: &quot;85643Q57+GQ&quot;}, &quot;type&quot;: &quot;Feature&quot;}, {&quot;bbox&quot;: [-117.2355, 34.05875, -117.235375, 34.058875], &quot;geometry&quot;: {&quot;coordinates&quot;: [[[-117.235375, 34.05875], [-117.235375, 34.058875], [-117.2355, 34.058875], [-117.2355, 34.05875], [-117.235375, 34.05875]]], &quot;type&quot;: &quot;Polygon&quot;}, &quot;id&quot;: &quot;216&quot;, &quot;properties&quot;: {&quot;pluscode&quot;: &quot;85643Q57+GR&quot;}, &quot;type&quot;: &quot;Feature&quot;}, {&quot;bbox&quot;: [-117.235375, 34.05875, -117.23525000000001, 34.058875], &quot;geometry&quot;: {&quot;coordinates&quot;: [[[-117.23525000000001, 34.05875], [-117.23525000000001, 34.058875], [-117.235375, 34.058875], [-117.235375, 34.05875], [-117.23525000000001, 34.05875]]], &quot;type&quot;: &quot;Polygon&quot;}, &quot;id&quot;: &quot;217&quot;, &quot;properties&quot;: {&quot;pluscode&quot;: &quot;85643Q57+GV&quot;}, &quot;type&quot;: &quot;Feature&quot;}, {&quot;bbox&quot;: [-117.23525, 34.05875, -117.235125, 34.058875], &quot;geometry&quot;: {&quot;coordinates&quot;: [[[-117.235125, 34.05875], [-117.235125, 34.058875], [-117.23525, 34.058875], [-117.23525, 34.05875], [-117.235125, 34.05875]]], &quot;type&quot;: &quot;Polygon&quot;}, &quot;id&quot;: &quot;218&quot;, &quot;properties&quot;: {&quot;pluscode&quot;: &quot;85643Q57+GW&quot;}, &quot;type&quot;: &quot;Feature&quot;}, {&quot;bbox&quot;: [-117.235125, 34.05875, -117.235, 34.058875], &quot;geometry&quot;: {&quot;coordinates&quot;: [[[-117.235, 34.05875], [-117.235, 34.058875], [-117.235125, 34.058875], [-117.235125, 34.05875], [-117.235, 34.05875]]], &quot;type&quot;: &quot;Polygon&quot;}, &quot;id&quot;: &quot;219&quot;, &quot;properties&quot;: {&quot;pluscode&quot;: &quot;85643Q57+GX&quot;}, &quot;type&quot;: &quot;Feature&quot;}, {&quot;bbox&quot;: [-117.2375, 34.058875, -117.237375, 34.059], &quot;geometry&quot;: {&quot;coordinates&quot;: [[[-117.237375, 34.058875], [-117.237375, 34.059], [-117.2375, 34.059], [-117.2375, 34.058875], [-117.237375, 34.058875]]], &quot;type&quot;: &quot;Polygon&quot;}, &quot;id&quot;: &quot;220&quot;, &quot;properties&quot;: {&quot;pluscode&quot;: &quot;85643Q57+H2&quot;}, &quot;type&quot;: &quot;Feature&quot;}, {&quot;bbox&quot;: [-117.237375, 34.058875, -117.23725, 34.059], &quot;geometry&quot;: {&quot;coordinates&quot;: [[[-117.23725, 34.058875], [-117.23725, 34.059], [-117.237375, 34.059], [-117.237375, 34.058875], [-117.23725, 34.058875]]], &quot;type&quot;: &quot;Polygon&quot;}, &quot;id&quot;: &quot;221&quot;, &quot;properties&quot;: {&quot;pluscode&quot;: &quot;85643Q57+H3&quot;}, &quot;type&quot;: &quot;Feature&quot;}, {&quot;bbox&quot;: [-117.23725, 34.058875, -117.237125, 34.059], &quot;geometry&quot;: {&quot;coordinates&quot;: [[[-117.237125, 34.058875], [-117.237125, 34.059], [-117.23725, 34.059], [-117.23725, 34.058875], [-117.237125, 34.058875]]], &quot;type&quot;: &quot;Polygon&quot;}, &quot;id&quot;: &quot;222&quot;, &quot;properties&quot;: {&quot;pluscode&quot;: &quot;85643Q57+H4&quot;}, &quot;type&quot;: &quot;Feature&quot;}, {&quot;bbox&quot;: [-117.237125, 34.058875, -117.23700000000001, 34.059], &quot;geometry&quot;: {&quot;coordinates&quot;: [[[-117.23700000000001, 34.058875], [-117.23700000000001, 34.059], [-117.237125, 34.059], [-117.237125, 34.058875], [-117.23700000000001, 34.058875]]], &quot;type&quot;: &quot;Polygon&quot;}, &quot;id&quot;: &quot;223&quot;, &quot;properties&quot;: {&quot;pluscode&quot;: &quot;85643Q57+H5&quot;}, &quot;type&quot;: &quot;Feature&quot;}, {&quot;bbox&quot;: [-117.237, 34.058875, -117.236875, 34.059], &quot;geometry&quot;: {&quot;coordinates&quot;: [[[-117.236875, 34.058875], [-117.236875, 34.059], [-117.237, 34.059], [-117.237, 34.058875], [-117.236875, 34.058875]]], &quot;type&quot;: &quot;Polygon&quot;}, &quot;id&quot;: &quot;224&quot;, &quot;properties&quot;: {&quot;pluscode&quot;: &quot;85643Q57+H6&quot;}, &quot;type&quot;: &quot;Feature&quot;}, {&quot;bbox&quot;: [-117.236875, 34.058875, -117.23675, 34.059], &quot;geometry&quot;: {&quot;coordinates&quot;: [[[-117.23675, 34.058875], [-117.23675, 34.059], [-117.236875, 34.059], [-117.236875, 34.058875], [-117.23675, 34.058875]]], &quot;type&quot;: &quot;Polygon&quot;}, &quot;id&quot;: &quot;225&quot;, &quot;properties&quot;: {&quot;pluscode&quot;: &quot;85643Q57+H7&quot;}, &quot;type&quot;: &quot;Feature&quot;}, {&quot;bbox&quot;: [-117.23675, 34.058875, -117.236625, 34.059], &quot;geometry&quot;: {&quot;coordinates&quot;: [[[-117.236625, 34.058875], [-117.236625, 34.059], [-117.23675, 34.059], [-117.23675, 34.058875], [-117.236625, 34.058875]]], &quot;type&quot;: &quot;Polygon&quot;}, &quot;id&quot;: &quot;226&quot;, &quot;properties&quot;: {&quot;pluscode&quot;: &quot;85643Q57+H8&quot;}, &quot;type&quot;: &quot;Feature&quot;}, {&quot;bbox&quot;: [-117.236625, 34.058875, -117.2365, 34.059], &quot;geometry&quot;: {&quot;coordinates&quot;: [[[-117.2365, 34.058875], [-117.2365, 34.059], [-117.236625, 34.059], [-117.236625, 34.058875], [-117.2365, 34.058875]]], &quot;type&quot;: &quot;Polygon&quot;}, &quot;id&quot;: &quot;227&quot;, &quot;properties&quot;: {&quot;pluscode&quot;: &quot;85643Q57+H9&quot;}, &quot;type&quot;: &quot;Feature&quot;}, {&quot;bbox&quot;: [-117.2365, 34.058875, -117.23637500000001, 34.059], &quot;geometry&quot;: {&quot;coordinates&quot;: [[[-117.23637500000001, 34.058875], [-117.23637500000001, 34.059], [-117.2365, 34.059], [-117.2365, 34.058875], [-117.23637500000001, 34.058875]]], &quot;type&quot;: &quot;Polygon&quot;}, &quot;id&quot;: &quot;228&quot;, &quot;properties&quot;: {&quot;pluscode&quot;: &quot;85643Q57+HC&quot;}, &quot;type&quot;: &quot;Feature&quot;}, {&quot;bbox&quot;: [-117.236375, 34.058875, -117.23625, 34.059], &quot;geometry&quot;: {&quot;coordinates&quot;: [[[-117.23625, 34.058875], [-117.23625, 34.059], [-117.236375, 34.059], [-117.236375, 34.058875], [-117.23625, 34.058875]]], &quot;type&quot;: &quot;Polygon&quot;}, &quot;id&quot;: &quot;229&quot;, &quot;properties&quot;: {&quot;pluscode&quot;: &quot;85643Q57+HF&quot;}, &quot;type&quot;: &quot;Feature&quot;}, {&quot;bbox&quot;: [-117.23625, 34.058875, -117.236125, 34.059], &quot;geometry&quot;: {&quot;coordinates&quot;: [[[-117.236125, 34.058875], [-117.236125, 34.059], [-117.23625, 34.059], [-117.23625, 34.058875], [-117.236125, 34.058875]]], &quot;type&quot;: &quot;Polygon&quot;}, &quot;id&quot;: &quot;230&quot;, &quot;properties&quot;: {&quot;pluscode&quot;: &quot;85643Q57+HG&quot;}, &quot;type&quot;: &quot;Feature&quot;}, {&quot;bbox&quot;: [-117.236125, 34.058875, -117.236, 34.059], &quot;geometry&quot;: {&quot;coordinates&quot;: [[[-117.236, 34.058875], [-117.236, 34.059], [-117.236125, 34.059], [-117.236125, 34.058875], [-117.236, 34.058875]]], &quot;type&quot;: &quot;Polygon&quot;}, &quot;id&quot;: &quot;231&quot;, &quot;properties&quot;: {&quot;pluscode&quot;: &quot;85643Q57+HH&quot;}, &quot;type&quot;: &quot;Feature&quot;}, {&quot;bbox&quot;: [-117.236, 34.058875, -117.23587500000001, 34.059], &quot;geometry&quot;: {&quot;coordinates&quot;: [[[-117.23587500000001, 34.058875], [-117.23587500000001, 34.059], [-117.236, 34.059], [-117.236, 34.058875], [-117.23587500000001, 34.058875]]], &quot;type&quot;: &quot;Polygon&quot;}, &quot;id&quot;: &quot;232&quot;, &quot;properties&quot;: {&quot;pluscode&quot;: &quot;85643Q57+HJ&quot;}, &quot;type&quot;: &quot;Feature&quot;}, {&quot;bbox&quot;: [-117.235875, 34.058875, -117.23575, 34.059], &quot;geometry&quot;: {&quot;coordinates&quot;: [[[-117.23575, 34.058875], [-117.23575, 34.059], [-117.235875, 34.059], [-117.235875, 34.058875], [-117.23575, 34.058875]]], &quot;type&quot;: &quot;Polygon&quot;}, &quot;id&quot;: &quot;233&quot;, &quot;properties&quot;: {&quot;pluscode&quot;: &quot;85643Q57+HM&quot;}, &quot;type&quot;: &quot;Feature&quot;}, {&quot;bbox&quot;: [-117.23575, 34.058875, -117.235625, 34.059], &quot;geometry&quot;: {&quot;coordinates&quot;: [[[-117.235625, 34.058875], [-117.235625, 34.059], [-117.23575, 34.059], [-117.23575, 34.058875], [-117.235625, 34.058875]]], &quot;type&quot;: &quot;Polygon&quot;}, &quot;id&quot;: &quot;234&quot;, &quot;properties&quot;: {&quot;pluscode&quot;: &quot;85643Q57+HP&quot;}, &quot;type&quot;: &quot;Feature&quot;}, {&quot;bbox&quot;: [-117.235625, 34.058875, -117.2355, 34.059], &quot;geometry&quot;: {&quot;coordinates&quot;: [[[-117.2355, 34.058875], [-117.2355, 34.059], [-117.235625, 34.059], [-117.235625, 34.058875], [-117.2355, 34.058875]]], &quot;type&quot;: &quot;Polygon&quot;}, &quot;id&quot;: &quot;235&quot;, &quot;properties&quot;: {&quot;pluscode&quot;: &quot;85643Q57+HQ&quot;}, &quot;type&quot;: &quot;Feature&quot;}, {&quot;bbox&quot;: [-117.2355, 34.058875, -117.235375, 34.059], &quot;geometry&quot;: {&quot;coordinates&quot;: [[[-117.235375, 34.058875], [-117.235375, 34.059], [-117.2355, 34.059], [-117.2355, 34.058875], [-117.235375, 34.058875]]], &quot;type&quot;: &quot;Polygon&quot;}, &quot;id&quot;: &quot;236&quot;, &quot;properties&quot;: {&quot;pluscode&quot;: &quot;85643Q57+HR&quot;}, &quot;type&quot;: &quot;Feature&quot;}, {&quot;bbox&quot;: [-117.235375, 34.058875, -117.23525000000001, 34.059], &quot;geometry&quot;: {&quot;coordinates&quot;: [[[-117.23525000000001, 34.058875], [-117.23525000000001, 34.059], [-117.235375, 34.059], [-117.235375, 34.058875], [-117.23525000000001, 34.058875]]], &quot;type&quot;: &quot;Polygon&quot;}, &quot;id&quot;: &quot;237&quot;, &quot;properties&quot;: {&quot;pluscode&quot;: &quot;85643Q57+HV&quot;}, &quot;type&quot;: &quot;Feature&quot;}, {&quot;bbox&quot;: [-117.23525, 34.058875, -117.235125, 34.059], &quot;geometry&quot;: {&quot;coordinates&quot;: [[[-117.235125, 34.058875], [-117.235125, 34.059], [-117.23525, 34.059], [-117.23525, 34.058875], [-117.235125, 34.058875]]], &quot;type&quot;: &quot;Polygon&quot;}, &quot;id&quot;: &quot;238&quot;, &quot;properties&quot;: {&quot;pluscode&quot;: &quot;85643Q57+HW&quot;}, &quot;type&quot;: &quot;Feature&quot;}, {&quot;bbox&quot;: [-117.235125, 34.058875, -117.235, 34.059], &quot;geometry&quot;: {&quot;coordinates&quot;: [[[-117.235, 34.058875], [-117.235, 34.059], [-117.235125, 34.059], [-117.235125, 34.058875], [-117.235, 34.058875]]], &quot;type&quot;: &quot;Polygon&quot;}, &quot;id&quot;: &quot;239&quot;, &quot;properties&quot;: {&quot;pluscode&quot;: &quot;85643Q57+HX&quot;}, &quot;type&quot;: &quot;Feature&quot;}, {&quot;bbox&quot;: [-117.2375, 34.059, -117.237375, 34.05912499999999], &quot;geometry&quot;: {&quot;coordinates&quot;: [[[-117.237375, 34.059], [-117.237375, 34.05912499999999], [-117.2375, 34.05912499999999], [-117.2375, 34.059], [-117.237375, 34.059]]], &quot;type&quot;: &quot;Polygon&quot;}, &quot;id&quot;: &quot;240&quot;, &quot;properties&quot;: {&quot;pluscode&quot;: &quot;85643Q57+J2&quot;}, &quot;type&quot;: &quot;Feature&quot;}, {&quot;bbox&quot;: [-117.237375, 34.059, -117.23725, 34.05912499999999], &quot;geometry&quot;: {&quot;coordinates&quot;: [[[-117.23725, 34.059], [-117.23725, 34.05912499999999], [-117.237375, 34.05912499999999], [-117.237375, 34.059], [-117.23725, 34.059]]], &quot;type&quot;: &quot;Polygon&quot;}, &quot;id&quot;: &quot;241&quot;, &quot;properties&quot;: {&quot;pluscode&quot;: &quot;85643Q57+J3&quot;}, &quot;type&quot;: &quot;Feature&quot;}, {&quot;bbox&quot;: [-117.23725, 34.059, -117.237125, 34.05912499999999], &quot;geometry&quot;: {&quot;coordinates&quot;: [[[-117.237125, 34.059], [-117.237125, 34.05912499999999], [-117.23725, 34.05912499999999], [-117.23725, 34.059], [-117.237125, 34.059]]], &quot;type&quot;: &quot;Polygon&quot;}, &quot;id&quot;: &quot;242&quot;, &quot;properties&quot;: {&quot;pluscode&quot;: &quot;85643Q57+J4&quot;}, &quot;type&quot;: &quot;Feature&quot;}, {&quot;bbox&quot;: [-117.237125, 34.059, -117.23700000000001, 34.05912499999999], &quot;geometry&quot;: {&quot;coordinates&quot;: [[[-117.23700000000001, 34.059], [-117.23700000000001, 34.05912499999999], [-117.237125, 34.05912499999999], [-117.237125, 34.059], [-117.23700000000001, 34.059]]], &quot;type&quot;: &quot;Polygon&quot;}, &quot;id&quot;: &quot;243&quot;, &quot;properties&quot;: {&quot;pluscode&quot;: &quot;85643Q57+J5&quot;}, &quot;type&quot;: &quot;Feature&quot;}, {&quot;bbox&quot;: [-117.237, 34.059, -117.236875, 34.05912499999999], &quot;geometry&quot;: {&quot;coordinates&quot;: [[[-117.236875, 34.059], [-117.236875, 34.05912499999999], [-117.237, 34.05912499999999], [-117.237, 34.059], [-117.236875, 34.059]]], &quot;type&quot;: &quot;Polygon&quot;}, &quot;id&quot;: &quot;244&quot;, &quot;properties&quot;: {&quot;pluscode&quot;: &quot;85643Q57+J6&quot;}, &quot;type&quot;: &quot;Feature&quot;}, {&quot;bbox&quot;: [-117.236875, 34.059, -117.23675, 34.05912499999999], &quot;geometry&quot;: {&quot;coordinates&quot;: [[[-117.23675, 34.059], [-117.23675, 34.05912499999999], [-117.236875, 34.05912499999999], [-117.236875, 34.059], [-117.23675, 34.059]]], &quot;type&quot;: &quot;Polygon&quot;}, &quot;id&quot;: &quot;245&quot;, &quot;properties&quot;: {&quot;pluscode&quot;: &quot;85643Q57+J7&quot;}, &quot;type&quot;: &quot;Feature&quot;}, {&quot;bbox&quot;: [-117.23675, 34.059, -117.236625, 34.05912499999999], &quot;geometry&quot;: {&quot;coordinates&quot;: [[[-117.236625, 34.059], [-117.236625, 34.05912499999999], [-117.23675, 34.05912499999999], [-117.23675, 34.059], [-117.236625, 34.059]]], &quot;type&quot;: &quot;Polygon&quot;}, &quot;id&quot;: &quot;246&quot;, &quot;properties&quot;: {&quot;pluscode&quot;: &quot;85643Q57+J8&quot;}, &quot;type&quot;: &quot;Feature&quot;}, {&quot;bbox&quot;: [-117.236625, 34.059, -117.2365, 34.05912499999999], &quot;geometry&quot;: {&quot;coordinates&quot;: [[[-117.2365, 34.059], [-117.2365, 34.05912499999999], [-117.236625, 34.05912499999999], [-117.236625, 34.059], [-117.2365, 34.059]]], &quot;type&quot;: &quot;Polygon&quot;}, &quot;id&quot;: &quot;247&quot;, &quot;properties&quot;: {&quot;pluscode&quot;: &quot;85643Q57+J9&quot;}, &quot;type&quot;: &quot;Feature&quot;}, {&quot;bbox&quot;: [-117.2365, 34.059, -117.23637500000001, 34.05912499999999], &quot;geometry&quot;: {&quot;coordinates&quot;: [[[-117.23637500000001, 34.059], [-117.23637500000001, 34.05912499999999], [-117.2365, 34.05912499999999], [-117.2365, 34.059], [-117.23637500000001, 34.059]]], &quot;type&quot;: &quot;Polygon&quot;}, &quot;id&quot;: &quot;248&quot;, &quot;properties&quot;: {&quot;pluscode&quot;: &quot;85643Q57+JC&quot;}, &quot;type&quot;: &quot;Feature&quot;}, {&quot;bbox&quot;: [-117.236375, 34.059, -117.23625, 34.05912499999999], &quot;geometry&quot;: {&quot;coordinates&quot;: [[[-117.23625, 34.059], [-117.23625, 34.05912499999999], [-117.236375, 34.05912499999999], [-117.236375, 34.059], [-117.23625, 34.059]]], &quot;type&quot;: &quot;Polygon&quot;}, &quot;id&quot;: &quot;249&quot;, &quot;properties&quot;: {&quot;pluscode&quot;: &quot;85643Q57+JF&quot;}, &quot;type&quot;: &quot;Feature&quot;}, {&quot;bbox&quot;: [-117.23625, 34.059, -117.236125, 34.05912499999999], &quot;geometry&quot;: {&quot;coordinates&quot;: [[[-117.236125, 34.059], [-117.236125, 34.05912499999999], [-117.23625, 34.05912499999999], [-117.23625, 34.059], [-117.236125, 34.059]]], &quot;type&quot;: &quot;Polygon&quot;}, &quot;id&quot;: &quot;250&quot;, &quot;properties&quot;: {&quot;pluscode&quot;: &quot;85643Q57+JG&quot;}, &quot;type&quot;: &quot;Feature&quot;}, {&quot;bbox&quot;: [-117.236125, 34.059, -117.236, 34.05912499999999], &quot;geometry&quot;: {&quot;coordinates&quot;: [[[-117.236, 34.059], [-117.236, 34.05912499999999], [-117.236125, 34.05912499999999], [-117.236125, 34.059], [-117.236, 34.059]]], &quot;type&quot;: &quot;Polygon&quot;}, &quot;id&quot;: &quot;251&quot;, &quot;properties&quot;: {&quot;pluscode&quot;: &quot;85643Q57+JH&quot;}, &quot;type&quot;: &quot;Feature&quot;}, {&quot;bbox&quot;: [-117.236, 34.059, -117.23587500000001, 34.05912499999999], &quot;geometry&quot;: {&quot;coordinates&quot;: [[[-117.23587500000001, 34.059], [-117.23587500000001, 34.05912499999999], [-117.236, 34.05912499999999], [-117.236, 34.059], [-117.23587500000001, 34.059]]], &quot;type&quot;: &quot;Polygon&quot;}, &quot;id&quot;: &quot;252&quot;, &quot;properties&quot;: {&quot;pluscode&quot;: &quot;85643Q57+JJ&quot;}, &quot;type&quot;: &quot;Feature&quot;}, {&quot;bbox&quot;: [-117.235875, 34.059, -117.23575, 34.05912499999999], &quot;geometry&quot;: {&quot;coordinates&quot;: [[[-117.23575, 34.059], [-117.23575, 34.05912499999999], [-117.235875, 34.05912499999999], [-117.235875, 34.059], [-117.23575, 34.059]]], &quot;type&quot;: &quot;Polygon&quot;}, &quot;id&quot;: &quot;253&quot;, &quot;properties&quot;: {&quot;pluscode&quot;: &quot;85643Q57+JM&quot;}, &quot;type&quot;: &quot;Feature&quot;}, {&quot;bbox&quot;: [-117.23575, 34.059, -117.235625, 34.05912499999999], &quot;geometry&quot;: {&quot;coordinates&quot;: [[[-117.235625, 34.059], [-117.235625, 34.05912499999999], [-117.23575, 34.05912499999999], [-117.23575, 34.059], [-117.235625, 34.059]]], &quot;type&quot;: &quot;Polygon&quot;}, &quot;id&quot;: &quot;254&quot;, &quot;properties&quot;: {&quot;pluscode&quot;: &quot;85643Q57+JP&quot;}, &quot;type&quot;: &quot;Feature&quot;}, {&quot;bbox&quot;: [-117.235625, 34.059, -117.2355, 34.05912499999999], &quot;geometry&quot;: {&quot;coordinates&quot;: [[[-117.2355, 34.059], [-117.2355, 34.05912499999999], [-117.235625, 34.05912499999999], [-117.235625, 34.059], [-117.2355, 34.059]]], &quot;type&quot;: &quot;Polygon&quot;}, &quot;id&quot;: &quot;255&quot;, &quot;properties&quot;: {&quot;pluscode&quot;: &quot;85643Q57+JQ&quot;}, &quot;type&quot;: &quot;Feature&quot;}, {&quot;bbox&quot;: [-117.2355, 34.059, -117.235375, 34.05912499999999], &quot;geometry&quot;: {&quot;coordinates&quot;: [[[-117.235375, 34.059], [-117.235375, 34.05912499999999], [-117.2355, 34.05912499999999], [-117.2355, 34.059], [-117.235375, 34.059]]], &quot;type&quot;: &quot;Polygon&quot;}, &quot;id&quot;: &quot;256&quot;, &quot;properties&quot;: {&quot;pluscode&quot;: &quot;85643Q57+JR&quot;}, &quot;type&quot;: &quot;Feature&quot;}, {&quot;bbox&quot;: [-117.235375, 34.059, -117.23525000000001, 34.05912499999999], &quot;geometry&quot;: {&quot;coordinates&quot;: [[[-117.23525000000001, 34.059], [-117.23525000000001, 34.05912499999999], [-117.235375, 34.05912499999999], [-117.235375, 34.059], [-117.23525000000001, 34.059]]], &quot;type&quot;: &quot;Polygon&quot;}, &quot;id&quot;: &quot;257&quot;, &quot;properties&quot;: {&quot;pluscode&quot;: &quot;85643Q57+JV&quot;}, &quot;type&quot;: &quot;Feature&quot;}, {&quot;bbox&quot;: [-117.23525, 34.059, -117.235125, 34.05912499999999], &quot;geometry&quot;: {&quot;coordinates&quot;: [[[-117.235125, 34.059], [-117.235125, 34.05912499999999], [-117.23525, 34.05912499999999], [-117.23525, 34.059], [-117.235125, 34.059]]], &quot;type&quot;: &quot;Polygon&quot;}, &quot;id&quot;: &quot;258&quot;, &quot;properties&quot;: {&quot;pluscode&quot;: &quot;85643Q57+JW&quot;}, &quot;type&quot;: &quot;Feature&quot;}, {&quot;bbox&quot;: [-117.235125, 34.059, -117.235, 34.05912499999999], &quot;geometry&quot;: {&quot;coordinates&quot;: [[[-117.235, 34.059], [-117.235, 34.05912499999999], [-117.235125, 34.05912499999999], [-117.235125, 34.059], [-117.235, 34.059]]], &quot;type&quot;: &quot;Polygon&quot;}, &quot;id&quot;: &quot;259&quot;, &quot;properties&quot;: {&quot;pluscode&quot;: &quot;85643Q57+JX&quot;}, &quot;type&quot;: &quot;Feature&quot;}, {&quot;bbox&quot;: [-117.2375, 34.059125, -117.237375, 34.05925], &quot;geometry&quot;: {&quot;coordinates&quot;: [[[-117.237375, 34.059125], [-117.237375, 34.05925], [-117.2375, 34.05925], [-117.2375, 34.059125], [-117.237375, 34.059125]]], &quot;type&quot;: &quot;Polygon&quot;}, &quot;id&quot;: &quot;260&quot;, &quot;properties&quot;: {&quot;pluscode&quot;: &quot;85643Q57+M2&quot;}, &quot;type&quot;: &quot;Feature&quot;}, {&quot;bbox&quot;: [-117.237375, 34.059125, -117.23725, 34.05925], &quot;geometry&quot;: {&quot;coordinates&quot;: [[[-117.23725, 34.059125], [-117.23725, 34.05925], [-117.237375, 34.05925], [-117.237375, 34.059125], [-117.23725, 34.059125]]], &quot;type&quot;: &quot;Polygon&quot;}, &quot;id&quot;: &quot;261&quot;, &quot;properties&quot;: {&quot;pluscode&quot;: &quot;85643Q57+M3&quot;}, &quot;type&quot;: &quot;Feature&quot;}, {&quot;bbox&quot;: [-117.23725, 34.059125, -117.237125, 34.05925], &quot;geometry&quot;: {&quot;coordinates&quot;: [[[-117.237125, 34.059125], [-117.237125, 34.05925], [-117.23725, 34.05925], [-117.23725, 34.059125], [-117.237125, 34.059125]]], &quot;type&quot;: &quot;Polygon&quot;}, &quot;id&quot;: &quot;262&quot;, &quot;properties&quot;: {&quot;pluscode&quot;: &quot;85643Q57+M4&quot;}, &quot;type&quot;: &quot;Feature&quot;}, {&quot;bbox&quot;: [-117.237125, 34.059125, -117.23700000000001, 34.05925], &quot;geometry&quot;: {&quot;coordinates&quot;: [[[-117.23700000000001, 34.059125], [-117.23700000000001, 34.05925], [-117.237125, 34.05925], [-117.237125, 34.059125], [-117.23700000000001, 34.059125]]], &quot;type&quot;: &quot;Polygon&quot;}, &quot;id&quot;: &quot;263&quot;, &quot;properties&quot;: {&quot;pluscode&quot;: &quot;85643Q57+M5&quot;}, &quot;type&quot;: &quot;Feature&quot;}, {&quot;bbox&quot;: [-117.237, 34.059125, -117.236875, 34.05925], &quot;geometry&quot;: {&quot;coordinates&quot;: [[[-117.236875, 34.059125], [-117.236875, 34.05925], [-117.237, 34.05925], [-117.237, 34.059125], [-117.236875, 34.059125]]], &quot;type&quot;: &quot;Polygon&quot;}, &quot;id&quot;: &quot;264&quot;, &quot;properties&quot;: {&quot;pluscode&quot;: &quot;85643Q57+M6&quot;}, &quot;type&quot;: &quot;Feature&quot;}, {&quot;bbox&quot;: [-117.236875, 34.059125, -117.23675, 34.05925], &quot;geometry&quot;: {&quot;coordinates&quot;: [[[-117.23675, 34.059125], [-117.23675, 34.05925], [-117.236875, 34.05925], [-117.236875, 34.059125], [-117.23675, 34.059125]]], &quot;type&quot;: &quot;Polygon&quot;}, &quot;id&quot;: &quot;265&quot;, &quot;properties&quot;: {&quot;pluscode&quot;: &quot;85643Q57+M7&quot;}, &quot;type&quot;: &quot;Feature&quot;}, {&quot;bbox&quot;: [-117.23675, 34.059125, -117.236625, 34.05925], &quot;geometry&quot;: {&quot;coordinates&quot;: [[[-117.236625, 34.059125], [-117.236625, 34.05925], [-117.23675, 34.05925], [-117.23675, 34.059125], [-117.236625, 34.059125]]], &quot;type&quot;: &quot;Polygon&quot;}, &quot;id&quot;: &quot;266&quot;, &quot;properties&quot;: {&quot;pluscode&quot;: &quot;85643Q57+M8&quot;}, &quot;type&quot;: &quot;Feature&quot;}, {&quot;bbox&quot;: [-117.236625, 34.059125, -117.2365, 34.05925], &quot;geometry&quot;: {&quot;coordinates&quot;: [[[-117.2365, 34.059125], [-117.2365, 34.05925], [-117.236625, 34.05925], [-117.236625, 34.059125], [-117.2365, 34.059125]]], &quot;type&quot;: &quot;Polygon&quot;}, &quot;id&quot;: &quot;267&quot;, &quot;properties&quot;: {&quot;pluscode&quot;: &quot;85643Q57+M9&quot;}, &quot;type&quot;: &quot;Feature&quot;}, {&quot;bbox&quot;: [-117.2365, 34.059125, -117.23637500000001, 34.05925], &quot;geometry&quot;: {&quot;coordinates&quot;: [[[-117.23637500000001, 34.059125], [-117.23637500000001, 34.05925], [-117.2365, 34.05925], [-117.2365, 34.059125], [-117.23637500000001, 34.059125]]], &quot;type&quot;: &quot;Polygon&quot;}, &quot;id&quot;: &quot;268&quot;, &quot;properties&quot;: {&quot;pluscode&quot;: &quot;85643Q57+MC&quot;}, &quot;type&quot;: &quot;Feature&quot;}, {&quot;bbox&quot;: [-117.236375, 34.059125, -117.23625, 34.05925], &quot;geometry&quot;: {&quot;coordinates&quot;: [[[-117.23625, 34.059125], [-117.23625, 34.05925], [-117.236375, 34.05925], [-117.236375, 34.059125], [-117.23625, 34.059125]]], &quot;type&quot;: &quot;Polygon&quot;}, &quot;id&quot;: &quot;269&quot;, &quot;properties&quot;: {&quot;pluscode&quot;: &quot;85643Q57+MF&quot;}, &quot;type&quot;: &quot;Feature&quot;}, {&quot;bbox&quot;: [-117.23625, 34.059125, -117.236125, 34.05925], &quot;geometry&quot;: {&quot;coordinates&quot;: [[[-117.236125, 34.059125], [-117.236125, 34.05925], [-117.23625, 34.05925], [-117.23625, 34.059125], [-117.236125, 34.059125]]], &quot;type&quot;: &quot;Polygon&quot;}, &quot;id&quot;: &quot;270&quot;, &quot;properties&quot;: {&quot;pluscode&quot;: &quot;85643Q57+MG&quot;}, &quot;type&quot;: &quot;Feature&quot;}, {&quot;bbox&quot;: [-117.236125, 34.059125, -117.236, 34.05925], &quot;geometry&quot;: {&quot;coordinates&quot;: [[[-117.236, 34.059125], [-117.236, 34.05925], [-117.236125, 34.05925], [-117.236125, 34.059125], [-117.236, 34.059125]]], &quot;type&quot;: &quot;Polygon&quot;}, &quot;id&quot;: &quot;271&quot;, &quot;properties&quot;: {&quot;pluscode&quot;: &quot;85643Q57+MH&quot;}, &quot;type&quot;: &quot;Feature&quot;}, {&quot;bbox&quot;: [-117.236, 34.059125, -117.23587500000001, 34.05925], &quot;geometry&quot;: {&quot;coordinates&quot;: [[[-117.23587500000001, 34.059125], [-117.23587500000001, 34.05925], [-117.236, 34.05925], [-117.236, 34.059125], [-117.23587500000001, 34.059125]]], &quot;type&quot;: &quot;Polygon&quot;}, &quot;id&quot;: &quot;272&quot;, &quot;properties&quot;: {&quot;pluscode&quot;: &quot;85643Q57+MJ&quot;}, &quot;type&quot;: &quot;Feature&quot;}, {&quot;bbox&quot;: [-117.235875, 34.059125, -117.23575, 34.05925], &quot;geometry&quot;: {&quot;coordinates&quot;: [[[-117.23575, 34.059125], [-117.23575, 34.05925], [-117.235875, 34.05925], [-117.235875, 34.059125], [-117.23575, 34.059125]]], &quot;type&quot;: &quot;Polygon&quot;}, &quot;id&quot;: &quot;273&quot;, &quot;properties&quot;: {&quot;pluscode&quot;: &quot;85643Q57+MM&quot;}, &quot;type&quot;: &quot;Feature&quot;}, {&quot;bbox&quot;: [-117.23575, 34.059125, -117.235625, 34.05925], &quot;geometry&quot;: {&quot;coordinates&quot;: [[[-117.235625, 34.059125], [-117.235625, 34.05925], [-117.23575, 34.05925], [-117.23575, 34.059125], [-117.235625, 34.059125]]], &quot;type&quot;: &quot;Polygon&quot;}, &quot;id&quot;: &quot;274&quot;, &quot;properties&quot;: {&quot;pluscode&quot;: &quot;85643Q57+MP&quot;}, &quot;type&quot;: &quot;Feature&quot;}, {&quot;bbox&quot;: [-117.235625, 34.059125, -117.2355, 34.05925], &quot;geometry&quot;: {&quot;coordinates&quot;: [[[-117.2355, 34.059125], [-117.2355, 34.05925], [-117.235625, 34.05925], [-117.235625, 34.059125], [-117.2355, 34.059125]]], &quot;type&quot;: &quot;Polygon&quot;}, &quot;id&quot;: &quot;275&quot;, &quot;properties&quot;: {&quot;pluscode&quot;: &quot;85643Q57+MQ&quot;}, &quot;type&quot;: &quot;Feature&quot;}, {&quot;bbox&quot;: [-117.2355, 34.059125, -117.235375, 34.05925], &quot;geometry&quot;: {&quot;coordinates&quot;: [[[-117.235375, 34.059125], [-117.235375, 34.05925], [-117.2355, 34.05925], [-117.2355, 34.059125], [-117.235375, 34.059125]]], &quot;type&quot;: &quot;Polygon&quot;}, &quot;id&quot;: &quot;276&quot;, &quot;properties&quot;: {&quot;pluscode&quot;: &quot;85643Q57+MR&quot;}, &quot;type&quot;: &quot;Feature&quot;}, {&quot;bbox&quot;: [-117.235375, 34.059125, -117.23525000000001, 34.05925], &quot;geometry&quot;: {&quot;coordinates&quot;: [[[-117.23525000000001, 34.059125], [-117.23525000000001, 34.05925], [-117.235375, 34.05925], [-117.235375, 34.059125], [-117.23525000000001, 34.059125]]], &quot;type&quot;: &quot;Polygon&quot;}, &quot;id&quot;: &quot;277&quot;, &quot;properties&quot;: {&quot;pluscode&quot;: &quot;85643Q57+MV&quot;}, &quot;type&quot;: &quot;Feature&quot;}, {&quot;bbox&quot;: [-117.23525, 34.059125, -117.235125, 34.05925], &quot;geometry&quot;: {&quot;coordinates&quot;: [[[-117.235125, 34.059125], [-117.235125, 34.05925], [-117.23525, 34.05925], [-117.23525, 34.059125], [-117.235125, 34.059125]]], &quot;type&quot;: &quot;Polygon&quot;}, &quot;id&quot;: &quot;278&quot;, &quot;properties&quot;: {&quot;pluscode&quot;: &quot;85643Q57+MW&quot;}, &quot;type&quot;: &quot;Feature&quot;}, {&quot;bbox&quot;: [-117.235125, 34.059125, -117.235, 34.05925], &quot;geometry&quot;: {&quot;coordinates&quot;: [[[-117.235, 34.059125], [-117.235, 34.05925], [-117.235125, 34.05925], [-117.235125, 34.059125], [-117.235, 34.059125]]], &quot;type&quot;: &quot;Polygon&quot;}, &quot;id&quot;: &quot;279&quot;, &quot;properties&quot;: {&quot;pluscode&quot;: &quot;85643Q57+MX&quot;}, &quot;type&quot;: &quot;Feature&quot;}, {&quot;bbox&quot;: [-117.2375, 34.05925, -117.237375, 34.059375], &quot;geometry&quot;: {&quot;coordinates&quot;: [[[-117.237375, 34.05925], [-117.237375, 34.059375], [-117.2375, 34.059375], [-117.2375, 34.05925], [-117.237375, 34.05925]]], &quot;type&quot;: &quot;Polygon&quot;}, &quot;id&quot;: &quot;280&quot;, &quot;properties&quot;: {&quot;pluscode&quot;: &quot;85643Q57+P2&quot;}, &quot;type&quot;: &quot;Feature&quot;}, {&quot;bbox&quot;: [-117.237375, 34.05925, -117.23725, 34.059375], &quot;geometry&quot;: {&quot;coordinates&quot;: [[[-117.23725, 34.05925], [-117.23725, 34.059375], [-117.237375, 34.059375], [-117.237375, 34.05925], [-117.23725, 34.05925]]], &quot;type&quot;: &quot;Polygon&quot;}, &quot;id&quot;: &quot;281&quot;, &quot;properties&quot;: {&quot;pluscode&quot;: &quot;85643Q57+P3&quot;}, &quot;type&quot;: &quot;Feature&quot;}, {&quot;bbox&quot;: [-117.23725, 34.05925, -117.237125, 34.059375], &quot;geometry&quot;: {&quot;coordinates&quot;: [[[-117.237125, 34.05925], [-117.237125, 34.059375], [-117.23725, 34.059375], [-117.23725, 34.05925], [-117.237125, 34.05925]]], &quot;type&quot;: &quot;Polygon&quot;}, &quot;id&quot;: &quot;282&quot;, &quot;properties&quot;: {&quot;pluscode&quot;: &quot;85643Q57+P4&quot;}, &quot;type&quot;: &quot;Feature&quot;}, {&quot;bbox&quot;: [-117.237125, 34.05925, -117.23700000000001, 34.059375], &quot;geometry&quot;: {&quot;coordinates&quot;: [[[-117.23700000000001, 34.05925], [-117.23700000000001, 34.059375], [-117.237125, 34.059375], [-117.237125, 34.05925], [-117.23700000000001, 34.05925]]], &quot;type&quot;: &quot;Polygon&quot;}, &quot;id&quot;: &quot;283&quot;, &quot;properties&quot;: {&quot;pluscode&quot;: &quot;85643Q57+P5&quot;}, &quot;type&quot;: &quot;Feature&quot;}, {&quot;bbox&quot;: [-117.237, 34.05925, -117.236875, 34.059375], &quot;geometry&quot;: {&quot;coordinates&quot;: [[[-117.236875, 34.05925], [-117.236875, 34.059375], [-117.237, 34.059375], [-117.237, 34.05925], [-117.236875, 34.05925]]], &quot;type&quot;: &quot;Polygon&quot;}, &quot;id&quot;: &quot;284&quot;, &quot;properties&quot;: {&quot;pluscode&quot;: &quot;85643Q57+P6&quot;}, &quot;type&quot;: &quot;Feature&quot;}, {&quot;bbox&quot;: [-117.236875, 34.05925, -117.23675, 34.059375], &quot;geometry&quot;: {&quot;coordinates&quot;: [[[-117.23675, 34.05925], [-117.23675, 34.059375], [-117.236875, 34.059375], [-117.236875, 34.05925], [-117.23675, 34.05925]]], &quot;type&quot;: &quot;Polygon&quot;}, &quot;id&quot;: &quot;285&quot;, &quot;properties&quot;: {&quot;pluscode&quot;: &quot;85643Q57+P7&quot;}, &quot;type&quot;: &quot;Feature&quot;}, {&quot;bbox&quot;: [-117.23675, 34.05925, -117.236625, 34.059375], &quot;geometry&quot;: {&quot;coordinates&quot;: [[[-117.236625, 34.05925], [-117.236625, 34.059375], [-117.23675, 34.059375], [-117.23675, 34.05925], [-117.236625, 34.05925]]], &quot;type&quot;: &quot;Polygon&quot;}, &quot;id&quot;: &quot;286&quot;, &quot;properties&quot;: {&quot;pluscode&quot;: &quot;85643Q57+P8&quot;}, &quot;type&quot;: &quot;Feature&quot;}, {&quot;bbox&quot;: [-117.236625, 34.05925, -117.2365, 34.059375], &quot;geometry&quot;: {&quot;coordinates&quot;: [[[-117.2365, 34.05925], [-117.2365, 34.059375], [-117.236625, 34.059375], [-117.236625, 34.05925], [-117.2365, 34.05925]]], &quot;type&quot;: &quot;Polygon&quot;}, &quot;id&quot;: &quot;287&quot;, &quot;properties&quot;: {&quot;pluscode&quot;: &quot;85643Q57+P9&quot;}, &quot;type&quot;: &quot;Feature&quot;}, {&quot;bbox&quot;: [-117.2365, 34.05925, -117.23637500000001, 34.059375], &quot;geometry&quot;: {&quot;coordinates&quot;: [[[-117.23637500000001, 34.05925], [-117.23637500000001, 34.059375], [-117.2365, 34.059375], [-117.2365, 34.05925], [-117.23637500000001, 34.05925]]], &quot;type&quot;: &quot;Polygon&quot;}, &quot;id&quot;: &quot;288&quot;, &quot;properties&quot;: {&quot;pluscode&quot;: &quot;85643Q57+PC&quot;}, &quot;type&quot;: &quot;Feature&quot;}, {&quot;bbox&quot;: [-117.236375, 34.05925, -117.23625, 34.059375], &quot;geometry&quot;: {&quot;coordinates&quot;: [[[-117.23625, 34.05925], [-117.23625, 34.059375], [-117.236375, 34.059375], [-117.236375, 34.05925], [-117.23625, 34.05925]]], &quot;type&quot;: &quot;Polygon&quot;}, &quot;id&quot;: &quot;289&quot;, &quot;properties&quot;: {&quot;pluscode&quot;: &quot;85643Q57+PF&quot;}, &quot;type&quot;: &quot;Feature&quot;}, {&quot;bbox&quot;: [-117.23625, 34.05925, -117.236125, 34.059375], &quot;geometry&quot;: {&quot;coordinates&quot;: [[[-117.236125, 34.05925], [-117.236125, 34.059375], [-117.23625, 34.059375], [-117.23625, 34.05925], [-117.236125, 34.05925]]], &quot;type&quot;: &quot;Polygon&quot;}, &quot;id&quot;: &quot;290&quot;, &quot;properties&quot;: {&quot;pluscode&quot;: &quot;85643Q57+PG&quot;}, &quot;type&quot;: &quot;Feature&quot;}, {&quot;bbox&quot;: [-117.236125, 34.05925, -117.236, 34.059375], &quot;geometry&quot;: {&quot;coordinates&quot;: [[[-117.236, 34.05925], [-117.236, 34.059375], [-117.236125, 34.059375], [-117.236125, 34.05925], [-117.236, 34.05925]]], &quot;type&quot;: &quot;Polygon&quot;}, &quot;id&quot;: &quot;291&quot;, &quot;properties&quot;: {&quot;pluscode&quot;: &quot;85643Q57+PH&quot;}, &quot;type&quot;: &quot;Feature&quot;}, {&quot;bbox&quot;: [-117.236, 34.05925, -117.23587500000001, 34.059375], &quot;geometry&quot;: {&quot;coordinates&quot;: [[[-117.23587500000001, 34.05925], [-117.23587500000001, 34.059375], [-117.236, 34.059375], [-117.236, 34.05925], [-117.23587500000001, 34.05925]]], &quot;type&quot;: &quot;Polygon&quot;}, &quot;id&quot;: &quot;292&quot;, &quot;properties&quot;: {&quot;pluscode&quot;: &quot;85643Q57+PJ&quot;}, &quot;type&quot;: &quot;Feature&quot;}, {&quot;bbox&quot;: [-117.235875, 34.05925, -117.23575, 34.059375], &quot;geometry&quot;: {&quot;coordinates&quot;: [[[-117.23575, 34.05925], [-117.23575, 34.059375], [-117.235875, 34.059375], [-117.235875, 34.05925], [-117.23575, 34.05925]]], &quot;type&quot;: &quot;Polygon&quot;}, &quot;id&quot;: &quot;293&quot;, &quot;properties&quot;: {&quot;pluscode&quot;: &quot;85643Q57+PM&quot;}, &quot;type&quot;: &quot;Feature&quot;}, {&quot;bbox&quot;: [-117.23575, 34.05925, -117.235625, 34.059375], &quot;geometry&quot;: {&quot;coordinates&quot;: [[[-117.235625, 34.05925], [-117.235625, 34.059375], [-117.23575, 34.059375], [-117.23575, 34.05925], [-117.235625, 34.05925]]], &quot;type&quot;: &quot;Polygon&quot;}, &quot;id&quot;: &quot;294&quot;, &quot;properties&quot;: {&quot;pluscode&quot;: &quot;85643Q57+PP&quot;}, &quot;type&quot;: &quot;Feature&quot;}, {&quot;bbox&quot;: [-117.235625, 34.05925, -117.2355, 34.059375], &quot;geometry&quot;: {&quot;coordinates&quot;: [[[-117.2355, 34.05925], [-117.2355, 34.059375], [-117.235625, 34.059375], [-117.235625, 34.05925], [-117.2355, 34.05925]]], &quot;type&quot;: &quot;Polygon&quot;}, &quot;id&quot;: &quot;295&quot;, &quot;properties&quot;: {&quot;pluscode&quot;: &quot;85643Q57+PQ&quot;}, &quot;type&quot;: &quot;Feature&quot;}, {&quot;bbox&quot;: [-117.2355, 34.05925, -117.235375, 34.059375], &quot;geometry&quot;: {&quot;coordinates&quot;: [[[-117.235375, 34.05925], [-117.235375, 34.059375], [-117.2355, 34.059375], [-117.2355, 34.05925], [-117.235375, 34.05925]]], &quot;type&quot;: &quot;Polygon&quot;}, &quot;id&quot;: &quot;296&quot;, &quot;properties&quot;: {&quot;pluscode&quot;: &quot;85643Q57+PR&quot;}, &quot;type&quot;: &quot;Feature&quot;}, {&quot;bbox&quot;: [-117.235375, 34.05925, -117.23525000000001, 34.059375], &quot;geometry&quot;: {&quot;coordinates&quot;: [[[-117.23525000000001, 34.05925], [-117.23525000000001, 34.059375], [-117.235375, 34.059375], [-117.235375, 34.05925], [-117.23525000000001, 34.05925]]], &quot;type&quot;: &quot;Polygon&quot;}, &quot;id&quot;: &quot;297&quot;, &quot;properties&quot;: {&quot;pluscode&quot;: &quot;85643Q57+PV&quot;}, &quot;type&quot;: &quot;Feature&quot;}, {&quot;bbox&quot;: [-117.23525, 34.05925, -117.235125, 34.059375], &quot;geometry&quot;: {&quot;coordinates&quot;: [[[-117.235125, 34.05925], [-117.235125, 34.059375], [-117.23525, 34.059375], [-117.23525, 34.05925], [-117.235125, 34.05925]]], &quot;type&quot;: &quot;Polygon&quot;}, &quot;id&quot;: &quot;298&quot;, &quot;properties&quot;: {&quot;pluscode&quot;: &quot;85643Q57+PW&quot;}, &quot;type&quot;: &quot;Feature&quot;}, {&quot;bbox&quot;: [-117.235125, 34.05925, -117.235, 34.059375], &quot;geometry&quot;: {&quot;coordinates&quot;: [[[-117.235, 34.05925], [-117.235, 34.059375], [-117.235125, 34.059375], [-117.235125, 34.05925], [-117.235, 34.05925]]], &quot;type&quot;: &quot;Polygon&quot;}, &quot;id&quot;: &quot;299&quot;, &quot;properties&quot;: {&quot;pluscode&quot;: &quot;85643Q57+PX&quot;}, &quot;type&quot;: &quot;Feature&quot;}, {&quot;bbox&quot;: [-117.2375, 34.059375, -117.237375, 34.0595], &quot;geometry&quot;: {&quot;coordinates&quot;: [[[-117.237375, 34.059375], [-117.237375, 34.0595], [-117.2375, 34.0595], [-117.2375, 34.059375], [-117.237375, 34.059375]]], &quot;type&quot;: &quot;Polygon&quot;}, &quot;id&quot;: &quot;300&quot;, &quot;properties&quot;: {&quot;pluscode&quot;: &quot;85643Q57+Q2&quot;}, &quot;type&quot;: &quot;Feature&quot;}, {&quot;bbox&quot;: [-117.237375, 34.059375, -117.23725, 34.0595], &quot;geometry&quot;: {&quot;coordinates&quot;: [[[-117.23725, 34.059375], [-117.23725, 34.0595], [-117.237375, 34.0595], [-117.237375, 34.059375], [-117.23725, 34.059375]]], &quot;type&quot;: &quot;Polygon&quot;}, &quot;id&quot;: &quot;301&quot;, &quot;properties&quot;: {&quot;pluscode&quot;: &quot;85643Q57+Q3&quot;}, &quot;type&quot;: &quot;Feature&quot;}, {&quot;bbox&quot;: [-117.23725, 34.059375, -117.237125, 34.0595], &quot;geometry&quot;: {&quot;coordinates&quot;: [[[-117.237125, 34.059375], [-117.237125, 34.0595], [-117.23725, 34.0595], [-117.23725, 34.059375], [-117.237125, 34.059375]]], &quot;type&quot;: &quot;Polygon&quot;}, &quot;id&quot;: &quot;302&quot;, &quot;properties&quot;: {&quot;pluscode&quot;: &quot;85643Q57+Q4&quot;}, &quot;type&quot;: &quot;Feature&quot;}, {&quot;bbox&quot;: [-117.237125, 34.059375, -117.23700000000001, 34.0595], &quot;geometry&quot;: {&quot;coordinates&quot;: [[[-117.23700000000001, 34.059375], [-117.23700000000001, 34.0595], [-117.237125, 34.0595], [-117.237125, 34.059375], [-117.23700000000001, 34.059375]]], &quot;type&quot;: &quot;Polygon&quot;}, &quot;id&quot;: &quot;303&quot;, &quot;properties&quot;: {&quot;pluscode&quot;: &quot;85643Q57+Q5&quot;}, &quot;type&quot;: &quot;Feature&quot;}, {&quot;bbox&quot;: [-117.237, 34.059375, -117.236875, 34.0595], &quot;geometry&quot;: {&quot;coordinates&quot;: [[[-117.236875, 34.059375], [-117.236875, 34.0595], [-117.237, 34.0595], [-117.237, 34.059375], [-117.236875, 34.059375]]], &quot;type&quot;: &quot;Polygon&quot;}, &quot;id&quot;: &quot;304&quot;, &quot;properties&quot;: {&quot;pluscode&quot;: &quot;85643Q57+Q6&quot;}, &quot;type&quot;: &quot;Feature&quot;}, {&quot;bbox&quot;: [-117.236875, 34.059375, -117.23675, 34.0595], &quot;geometry&quot;: {&quot;coordinates&quot;: [[[-117.23675, 34.059375], [-117.23675, 34.0595], [-117.236875, 34.0595], [-117.236875, 34.059375], [-117.23675, 34.059375]]], &quot;type&quot;: &quot;Polygon&quot;}, &quot;id&quot;: &quot;305&quot;, &quot;properties&quot;: {&quot;pluscode&quot;: &quot;85643Q57+Q7&quot;}, &quot;type&quot;: &quot;Feature&quot;}, {&quot;bbox&quot;: [-117.23675, 34.059375, -117.236625, 34.0595], &quot;geometry&quot;: {&quot;coordinates&quot;: [[[-117.236625, 34.059375], [-117.236625, 34.0595], [-117.23675, 34.0595], [-117.23675, 34.059375], [-117.236625, 34.059375]]], &quot;type&quot;: &quot;Polygon&quot;}, &quot;id&quot;: &quot;306&quot;, &quot;properties&quot;: {&quot;pluscode&quot;: &quot;85643Q57+Q8&quot;}, &quot;type&quot;: &quot;Feature&quot;}, {&quot;bbox&quot;: [-117.236625, 34.059375, -117.2365, 34.0595], &quot;geometry&quot;: {&quot;coordinates&quot;: [[[-117.2365, 34.059375], [-117.2365, 34.0595], [-117.236625, 34.0595], [-117.236625, 34.059375], [-117.2365, 34.059375]]], &quot;type&quot;: &quot;Polygon&quot;}, &quot;id&quot;: &quot;307&quot;, &quot;properties&quot;: {&quot;pluscode&quot;: &quot;85643Q57+Q9&quot;}, &quot;type&quot;: &quot;Feature&quot;}, {&quot;bbox&quot;: [-117.2365, 34.059375, -117.23637500000001, 34.0595], &quot;geometry&quot;: {&quot;coordinates&quot;: [[[-117.23637500000001, 34.059375], [-117.23637500000001, 34.0595], [-117.2365, 34.0595], [-117.2365, 34.059375], [-117.23637500000001, 34.059375]]], &quot;type&quot;: &quot;Polygon&quot;}, &quot;id&quot;: &quot;308&quot;, &quot;properties&quot;: {&quot;pluscode&quot;: &quot;85643Q57+QC&quot;}, &quot;type&quot;: &quot;Feature&quot;}, {&quot;bbox&quot;: [-117.236375, 34.059375, -117.23625, 34.0595], &quot;geometry&quot;: {&quot;coordinates&quot;: [[[-117.23625, 34.059375], [-117.23625, 34.0595], [-117.236375, 34.0595], [-117.236375, 34.059375], [-117.23625, 34.059375]]], &quot;type&quot;: &quot;Polygon&quot;}, &quot;id&quot;: &quot;309&quot;, &quot;properties&quot;: {&quot;pluscode&quot;: &quot;85643Q57+QF&quot;}, &quot;type&quot;: &quot;Feature&quot;}, {&quot;bbox&quot;: [-117.23625, 34.059375, -117.236125, 34.0595], &quot;geometry&quot;: {&quot;coordinates&quot;: [[[-117.236125, 34.059375], [-117.236125, 34.0595], [-117.23625, 34.0595], [-117.23625, 34.059375], [-117.236125, 34.059375]]], &quot;type&quot;: &quot;Polygon&quot;}, &quot;id&quot;: &quot;310&quot;, &quot;properties&quot;: {&quot;pluscode&quot;: &quot;85643Q57+QG&quot;}, &quot;type&quot;: &quot;Feature&quot;}, {&quot;bbox&quot;: [-117.236125, 34.059375, -117.236, 34.0595], &quot;geometry&quot;: {&quot;coordinates&quot;: [[[-117.236, 34.059375], [-117.236, 34.0595], [-117.236125, 34.0595], [-117.236125, 34.059375], [-117.236, 34.059375]]], &quot;type&quot;: &quot;Polygon&quot;}, &quot;id&quot;: &quot;311&quot;, &quot;properties&quot;: {&quot;pluscode&quot;: &quot;85643Q57+QH&quot;}, &quot;type&quot;: &quot;Feature&quot;}, {&quot;bbox&quot;: [-117.236, 34.059375, -117.23587500000001, 34.0595], &quot;geometry&quot;: {&quot;coordinates&quot;: [[[-117.23587500000001, 34.059375], [-117.23587500000001, 34.0595], [-117.236, 34.0595], [-117.236, 34.059375], [-117.23587500000001, 34.059375]]], &quot;type&quot;: &quot;Polygon&quot;}, &quot;id&quot;: &quot;312&quot;, &quot;properties&quot;: {&quot;pluscode&quot;: &quot;85643Q57+QJ&quot;}, &quot;type&quot;: &quot;Feature&quot;}, {&quot;bbox&quot;: [-117.235875, 34.059375, -117.23575, 34.0595], &quot;geometry&quot;: {&quot;coordinates&quot;: [[[-117.23575, 34.059375], [-117.23575, 34.0595], [-117.235875, 34.0595], [-117.235875, 34.059375], [-117.23575, 34.059375]]], &quot;type&quot;: &quot;Polygon&quot;}, &quot;id&quot;: &quot;313&quot;, &quot;properties&quot;: {&quot;pluscode&quot;: &quot;85643Q57+QM&quot;}, &quot;type&quot;: &quot;Feature&quot;}, {&quot;bbox&quot;: [-117.23575, 34.059375, -117.235625, 34.0595], &quot;geometry&quot;: {&quot;coordinates&quot;: [[[-117.235625, 34.059375], [-117.235625, 34.0595], [-117.23575, 34.0595], [-117.23575, 34.059375], [-117.235625, 34.059375]]], &quot;type&quot;: &quot;Polygon&quot;}, &quot;id&quot;: &quot;314&quot;, &quot;properties&quot;: {&quot;pluscode&quot;: &quot;85643Q57+QP&quot;}, &quot;type&quot;: &quot;Feature&quot;}, {&quot;bbox&quot;: [-117.235625, 34.059375, -117.2355, 34.0595], &quot;geometry&quot;: {&quot;coordinates&quot;: [[[-117.2355, 34.059375], [-117.2355, 34.0595], [-117.235625, 34.0595], [-117.235625, 34.059375], [-117.2355, 34.059375]]], &quot;type&quot;: &quot;Polygon&quot;}, &quot;id&quot;: &quot;315&quot;, &quot;properties&quot;: {&quot;pluscode&quot;: &quot;85643Q57+QQ&quot;}, &quot;type&quot;: &quot;Feature&quot;}, {&quot;bbox&quot;: [-117.2355, 34.059375, -117.235375, 34.0595], &quot;geometry&quot;: {&quot;coordinates&quot;: [[[-117.235375, 34.059375], [-117.235375, 34.0595], [-117.2355, 34.0595], [-117.2355, 34.059375], [-117.235375, 34.059375]]], &quot;type&quot;: &quot;Polygon&quot;}, &quot;id&quot;: &quot;316&quot;, &quot;properties&quot;: {&quot;pluscode&quot;: &quot;85643Q57+QR&quot;}, &quot;type&quot;: &quot;Feature&quot;}, {&quot;bbox&quot;: [-117.235375, 34.059375, -117.23525000000001, 34.0595], &quot;geometry&quot;: {&quot;coordinates&quot;: [[[-117.23525000000001, 34.059375], [-117.23525000000001, 34.0595], [-117.235375, 34.0595], [-117.235375, 34.059375], [-117.23525000000001, 34.059375]]], &quot;type&quot;: &quot;Polygon&quot;}, &quot;id&quot;: &quot;317&quot;, &quot;properties&quot;: {&quot;pluscode&quot;: &quot;85643Q57+QV&quot;}, &quot;type&quot;: &quot;Feature&quot;}, {&quot;bbox&quot;: [-117.23525, 34.059375, -117.235125, 34.0595], &quot;geometry&quot;: {&quot;coordinates&quot;: [[[-117.235125, 34.059375], [-117.235125, 34.0595], [-117.23525, 34.0595], [-117.23525, 34.059375], [-117.235125, 34.059375]]], &quot;type&quot;: &quot;Polygon&quot;}, &quot;id&quot;: &quot;318&quot;, &quot;properties&quot;: {&quot;pluscode&quot;: &quot;85643Q57+QW&quot;}, &quot;type&quot;: &quot;Feature&quot;}, {&quot;bbox&quot;: [-117.235125, 34.059375, -117.235, 34.0595], &quot;geometry&quot;: {&quot;coordinates&quot;: [[[-117.235, 34.059375], [-117.235, 34.0595], [-117.235125, 34.0595], [-117.235125, 34.059375], [-117.235, 34.059375]]], &quot;type&quot;: &quot;Polygon&quot;}, &quot;id&quot;: &quot;319&quot;, &quot;properties&quot;: {&quot;pluscode&quot;: &quot;85643Q57+QX&quot;}, &quot;type&quot;: &quot;Feature&quot;}, {&quot;bbox&quot;: [-117.2375, 34.0595, -117.237375, 34.059625], &quot;geometry&quot;: {&quot;coordinates&quot;: [[[-117.237375, 34.0595], [-117.237375, 34.059625], [-117.2375, 34.059625], [-117.2375, 34.0595], [-117.237375, 34.0595]]], &quot;type&quot;: &quot;Polygon&quot;}, &quot;id&quot;: &quot;320&quot;, &quot;properties&quot;: {&quot;pluscode&quot;: &quot;85643Q57+R2&quot;}, &quot;type&quot;: &quot;Feature&quot;}, {&quot;bbox&quot;: [-117.237375, 34.0595, -117.23725, 34.059625], &quot;geometry&quot;: {&quot;coordinates&quot;: [[[-117.23725, 34.0595], [-117.23725, 34.059625], [-117.237375, 34.059625], [-117.237375, 34.0595], [-117.23725, 34.0595]]], &quot;type&quot;: &quot;Polygon&quot;}, &quot;id&quot;: &quot;321&quot;, &quot;properties&quot;: {&quot;pluscode&quot;: &quot;85643Q57+R3&quot;}, &quot;type&quot;: &quot;Feature&quot;}, {&quot;bbox&quot;: [-117.23725, 34.0595, -117.237125, 34.059625], &quot;geometry&quot;: {&quot;coordinates&quot;: [[[-117.237125, 34.0595], [-117.237125, 34.059625], [-117.23725, 34.059625], [-117.23725, 34.0595], [-117.237125, 34.0595]]], &quot;type&quot;: &quot;Polygon&quot;}, &quot;id&quot;: &quot;322&quot;, &quot;properties&quot;: {&quot;pluscode&quot;: &quot;85643Q57+R4&quot;}, &quot;type&quot;: &quot;Feature&quot;}, {&quot;bbox&quot;: [-117.237125, 34.0595, -117.23700000000001, 34.059625], &quot;geometry&quot;: {&quot;coordinates&quot;: [[[-117.23700000000001, 34.0595], [-117.23700000000001, 34.059625], [-117.237125, 34.059625], [-117.237125, 34.0595], [-117.23700000000001, 34.0595]]], &quot;type&quot;: &quot;Polygon&quot;}, &quot;id&quot;: &quot;323&quot;, &quot;properties&quot;: {&quot;pluscode&quot;: &quot;85643Q57+R5&quot;}, &quot;type&quot;: &quot;Feature&quot;}, {&quot;bbox&quot;: [-117.237, 34.0595, -117.236875, 34.059625], &quot;geometry&quot;: {&quot;coordinates&quot;: [[[-117.236875, 34.0595], [-117.236875, 34.059625], [-117.237, 34.059625], [-117.237, 34.0595], [-117.236875, 34.0595]]], &quot;type&quot;: &quot;Polygon&quot;}, &quot;id&quot;: &quot;324&quot;, &quot;properties&quot;: {&quot;pluscode&quot;: &quot;85643Q57+R6&quot;}, &quot;type&quot;: &quot;Feature&quot;}, {&quot;bbox&quot;: [-117.236875, 34.0595, -117.23675, 34.059625], &quot;geometry&quot;: {&quot;coordinates&quot;: [[[-117.23675, 34.0595], [-117.23675, 34.059625], [-117.236875, 34.059625], [-117.236875, 34.0595], [-117.23675, 34.0595]]], &quot;type&quot;: &quot;Polygon&quot;}, &quot;id&quot;: &quot;325&quot;, &quot;properties&quot;: {&quot;pluscode&quot;: &quot;85643Q57+R7&quot;}, &quot;type&quot;: &quot;Feature&quot;}, {&quot;bbox&quot;: [-117.23675, 34.0595, -117.236625, 34.059625], &quot;geometry&quot;: {&quot;coordinates&quot;: [[[-117.236625, 34.0595], [-117.236625, 34.059625], [-117.23675, 34.059625], [-117.23675, 34.0595], [-117.236625, 34.0595]]], &quot;type&quot;: &quot;Polygon&quot;}, &quot;id&quot;: &quot;326&quot;, &quot;properties&quot;: {&quot;pluscode&quot;: &quot;85643Q57+R8&quot;}, &quot;type&quot;: &quot;Feature&quot;}, {&quot;bbox&quot;: [-117.236625, 34.0595, -117.2365, 34.059625], &quot;geometry&quot;: {&quot;coordinates&quot;: [[[-117.2365, 34.0595], [-117.2365, 34.059625], [-117.236625, 34.059625], [-117.236625, 34.0595], [-117.2365, 34.0595]]], &quot;type&quot;: &quot;Polygon&quot;}, &quot;id&quot;: &quot;327&quot;, &quot;properties&quot;: {&quot;pluscode&quot;: &quot;85643Q57+R9&quot;}, &quot;type&quot;: &quot;Feature&quot;}, {&quot;bbox&quot;: [-117.2365, 34.0595, -117.23637500000001, 34.059625], &quot;geometry&quot;: {&quot;coordinates&quot;: [[[-117.23637500000001, 34.0595], [-117.23637500000001, 34.059625], [-117.2365, 34.059625], [-117.2365, 34.0595], [-117.23637500000001, 34.0595]]], &quot;type&quot;: &quot;Polygon&quot;}, &quot;id&quot;: &quot;328&quot;, &quot;properties&quot;: {&quot;pluscode&quot;: &quot;85643Q57+RC&quot;}, &quot;type&quot;: &quot;Feature&quot;}, {&quot;bbox&quot;: [-117.236375, 34.0595, -117.23625, 34.059625], &quot;geometry&quot;: {&quot;coordinates&quot;: [[[-117.23625, 34.0595], [-117.23625, 34.059625], [-117.236375, 34.059625], [-117.236375, 34.0595], [-117.23625, 34.0595]]], &quot;type&quot;: &quot;Polygon&quot;}, &quot;id&quot;: &quot;329&quot;, &quot;properties&quot;: {&quot;pluscode&quot;: &quot;85643Q57+RF&quot;}, &quot;type&quot;: &quot;Feature&quot;}, {&quot;bbox&quot;: [-117.23625, 34.0595, -117.236125, 34.059625], &quot;geometry&quot;: {&quot;coordinates&quot;: [[[-117.236125, 34.0595], [-117.236125, 34.059625], [-117.23625, 34.059625], [-117.23625, 34.0595], [-117.236125, 34.0595]]], &quot;type&quot;: &quot;Polygon&quot;}, &quot;id&quot;: &quot;330&quot;, &quot;properties&quot;: {&quot;pluscode&quot;: &quot;85643Q57+RG&quot;}, &quot;type&quot;: &quot;Feature&quot;}, {&quot;bbox&quot;: [-117.236125, 34.0595, -117.236, 34.059625], &quot;geometry&quot;: {&quot;coordinates&quot;: [[[-117.236, 34.0595], [-117.236, 34.059625], [-117.236125, 34.059625], [-117.236125, 34.0595], [-117.236, 34.0595]]], &quot;type&quot;: &quot;Polygon&quot;}, &quot;id&quot;: &quot;331&quot;, &quot;properties&quot;: {&quot;pluscode&quot;: &quot;85643Q57+RH&quot;}, &quot;type&quot;: &quot;Feature&quot;}, {&quot;bbox&quot;: [-117.236, 34.0595, -117.23587500000001, 34.059625], &quot;geometry&quot;: {&quot;coordinates&quot;: [[[-117.23587500000001, 34.0595], [-117.23587500000001, 34.059625], [-117.236, 34.059625], [-117.236, 34.0595], [-117.23587500000001, 34.0595]]], &quot;type&quot;: &quot;Polygon&quot;}, &quot;id&quot;: &quot;332&quot;, &quot;properties&quot;: {&quot;pluscode&quot;: &quot;85643Q57+RJ&quot;}, &quot;type&quot;: &quot;Feature&quot;}, {&quot;bbox&quot;: [-117.235875, 34.0595, -117.23575, 34.059625], &quot;geometry&quot;: {&quot;coordinates&quot;: [[[-117.23575, 34.0595], [-117.23575, 34.059625], [-117.235875, 34.059625], [-117.235875, 34.0595], [-117.23575, 34.0595]]], &quot;type&quot;: &quot;Polygon&quot;}, &quot;id&quot;: &quot;333&quot;, &quot;properties&quot;: {&quot;pluscode&quot;: &quot;85643Q57+RM&quot;}, &quot;type&quot;: &quot;Feature&quot;}, {&quot;bbox&quot;: [-117.23575, 34.0595, -117.235625, 34.059625], &quot;geometry&quot;: {&quot;coordinates&quot;: [[[-117.235625, 34.0595], [-117.235625, 34.059625], [-117.23575, 34.059625], [-117.23575, 34.0595], [-117.235625, 34.0595]]], &quot;type&quot;: &quot;Polygon&quot;}, &quot;id&quot;: &quot;334&quot;, &quot;properties&quot;: {&quot;pluscode&quot;: &quot;85643Q57+RP&quot;}, &quot;type&quot;: &quot;Feature&quot;}, {&quot;bbox&quot;: [-117.235625, 34.0595, -117.2355, 34.059625], &quot;geometry&quot;: {&quot;coordinates&quot;: [[[-117.2355, 34.0595], [-117.2355, 34.059625], [-117.235625, 34.059625], [-117.235625, 34.0595], [-117.2355, 34.0595]]], &quot;type&quot;: &quot;Polygon&quot;}, &quot;id&quot;: &quot;335&quot;, &quot;properties&quot;: {&quot;pluscode&quot;: &quot;85643Q57+RQ&quot;}, &quot;type&quot;: &quot;Feature&quot;}, {&quot;bbox&quot;: [-117.2355, 34.0595, -117.235375, 34.059625], &quot;geometry&quot;: {&quot;coordinates&quot;: [[[-117.235375, 34.0595], [-117.235375, 34.059625], [-117.2355, 34.059625], [-117.2355, 34.0595], [-117.235375, 34.0595]]], &quot;type&quot;: &quot;Polygon&quot;}, &quot;id&quot;: &quot;336&quot;, &quot;properties&quot;: {&quot;pluscode&quot;: &quot;85643Q57+RR&quot;}, &quot;type&quot;: &quot;Feature&quot;}, {&quot;bbox&quot;: [-117.235375, 34.0595, -117.23525000000001, 34.059625], &quot;geometry&quot;: {&quot;coordinates&quot;: [[[-117.23525000000001, 34.0595], [-117.23525000000001, 34.059625], [-117.235375, 34.059625], [-117.235375, 34.0595], [-117.23525000000001, 34.0595]]], &quot;type&quot;: &quot;Polygon&quot;}, &quot;id&quot;: &quot;337&quot;, &quot;properties&quot;: {&quot;pluscode&quot;: &quot;85643Q57+RV&quot;}, &quot;type&quot;: &quot;Feature&quot;}, {&quot;bbox&quot;: [-117.23525, 34.0595, -117.235125, 34.059625], &quot;geometry&quot;: {&quot;coordinates&quot;: [[[-117.235125, 34.0595], [-117.235125, 34.059625], [-117.23525, 34.059625], [-117.23525, 34.0595], [-117.235125, 34.0595]]], &quot;type&quot;: &quot;Polygon&quot;}, &quot;id&quot;: &quot;338&quot;, &quot;properties&quot;: {&quot;pluscode&quot;: &quot;85643Q57+RW&quot;}, &quot;type&quot;: &quot;Feature&quot;}, {&quot;bbox&quot;: [-117.235125, 34.0595, -117.235, 34.059625], &quot;geometry&quot;: {&quot;coordinates&quot;: [[[-117.235, 34.0595], [-117.235, 34.059625], [-117.235125, 34.059625], [-117.235125, 34.0595], [-117.235, 34.0595]]], &quot;type&quot;: &quot;Polygon&quot;}, &quot;id&quot;: &quot;339&quot;, &quot;properties&quot;: {&quot;pluscode&quot;: &quot;85643Q57+RX&quot;}, &quot;type&quot;: &quot;Feature&quot;}, {&quot;bbox&quot;: [-117.2375, 34.059625, -117.237375, 34.05974999999999], &quot;geometry&quot;: {&quot;coordinates&quot;: [[[-117.237375, 34.059625], [-117.237375, 34.05974999999999], [-117.2375, 34.05974999999999], [-117.2375, 34.059625], [-117.237375, 34.059625]]], &quot;type&quot;: &quot;Polygon&quot;}, &quot;id&quot;: &quot;340&quot;, &quot;properties&quot;: {&quot;pluscode&quot;: &quot;85643Q57+V2&quot;}, &quot;type&quot;: &quot;Feature&quot;}, {&quot;bbox&quot;: [-117.237375, 34.059625, -117.23725, 34.05974999999999], &quot;geometry&quot;: {&quot;coordinates&quot;: [[[-117.23725, 34.059625], [-117.23725, 34.05974999999999], [-117.237375, 34.05974999999999], [-117.237375, 34.059625], [-117.23725, 34.059625]]], &quot;type&quot;: &quot;Polygon&quot;}, &quot;id&quot;: &quot;341&quot;, &quot;properties&quot;: {&quot;pluscode&quot;: &quot;85643Q57+V3&quot;}, &quot;type&quot;: &quot;Feature&quot;}, {&quot;bbox&quot;: [-117.23725, 34.059625, -117.237125, 34.05974999999999], &quot;geometry&quot;: {&quot;coordinates&quot;: [[[-117.237125, 34.059625], [-117.237125, 34.05974999999999], [-117.23725, 34.05974999999999], [-117.23725, 34.059625], [-117.237125, 34.059625]]], &quot;type&quot;: &quot;Polygon&quot;}, &quot;id&quot;: &quot;342&quot;, &quot;properties&quot;: {&quot;pluscode&quot;: &quot;85643Q57+V4&quot;}, &quot;type&quot;: &quot;Feature&quot;}, {&quot;bbox&quot;: [-117.237125, 34.059625, -117.23700000000001, 34.05974999999999], &quot;geometry&quot;: {&quot;coordinates&quot;: [[[-117.23700000000001, 34.059625], [-117.23700000000001, 34.05974999999999], [-117.237125, 34.05974999999999], [-117.237125, 34.059625], [-117.23700000000001, 34.059625]]], &quot;type&quot;: &quot;Polygon&quot;}, &quot;id&quot;: &quot;343&quot;, &quot;properties&quot;: {&quot;pluscode&quot;: &quot;85643Q57+V5&quot;}, &quot;type&quot;: &quot;Feature&quot;}, {&quot;bbox&quot;: [-117.237, 34.059625, -117.236875, 34.05974999999999], &quot;geometry&quot;: {&quot;coordinates&quot;: [[[-117.236875, 34.059625], [-117.236875, 34.05974999999999], [-117.237, 34.05974999999999], [-117.237, 34.059625], [-117.236875, 34.059625]]], &quot;type&quot;: &quot;Polygon&quot;}, &quot;id&quot;: &quot;344&quot;, &quot;properties&quot;: {&quot;pluscode&quot;: &quot;85643Q57+V6&quot;}, &quot;type&quot;: &quot;Feature&quot;}, {&quot;bbox&quot;: [-117.236875, 34.059625, -117.23675, 34.05974999999999], &quot;geometry&quot;: {&quot;coordinates&quot;: [[[-117.23675, 34.059625], [-117.23675, 34.05974999999999], [-117.236875, 34.05974999999999], [-117.236875, 34.059625], [-117.23675, 34.059625]]], &quot;type&quot;: &quot;Polygon&quot;}, &quot;id&quot;: &quot;345&quot;, &quot;properties&quot;: {&quot;pluscode&quot;: &quot;85643Q57+V7&quot;}, &quot;type&quot;: &quot;Feature&quot;}, {&quot;bbox&quot;: [-117.23675, 34.059625, -117.236625, 34.05974999999999], &quot;geometry&quot;: {&quot;coordinates&quot;: [[[-117.236625, 34.059625], [-117.236625, 34.05974999999999], [-117.23675, 34.05974999999999], [-117.23675, 34.059625], [-117.236625, 34.059625]]], &quot;type&quot;: &quot;Polygon&quot;}, &quot;id&quot;: &quot;346&quot;, &quot;properties&quot;: {&quot;pluscode&quot;: &quot;85643Q57+V8&quot;}, &quot;type&quot;: &quot;Feature&quot;}, {&quot;bbox&quot;: [-117.236625, 34.059625, -117.2365, 34.05974999999999], &quot;geometry&quot;: {&quot;coordinates&quot;: [[[-117.2365, 34.059625], [-117.2365, 34.05974999999999], [-117.236625, 34.05974999999999], [-117.236625, 34.059625], [-117.2365, 34.059625]]], &quot;type&quot;: &quot;Polygon&quot;}, &quot;id&quot;: &quot;347&quot;, &quot;properties&quot;: {&quot;pluscode&quot;: &quot;85643Q57+V9&quot;}, &quot;type&quot;: &quot;Feature&quot;}, {&quot;bbox&quot;: [-117.2365, 34.059625, -117.23637500000001, 34.05974999999999], &quot;geometry&quot;: {&quot;coordinates&quot;: [[[-117.23637500000001, 34.059625], [-117.23637500000001, 34.05974999999999], [-117.2365, 34.05974999999999], [-117.2365, 34.059625], [-117.23637500000001, 34.059625]]], &quot;type&quot;: &quot;Polygon&quot;}, &quot;id&quot;: &quot;348&quot;, &quot;properties&quot;: {&quot;pluscode&quot;: &quot;85643Q57+VC&quot;}, &quot;type&quot;: &quot;Feature&quot;}, {&quot;bbox&quot;: [-117.236375, 34.059625, -117.23625, 34.05974999999999], &quot;geometry&quot;: {&quot;coordinates&quot;: [[[-117.23625, 34.059625], [-117.23625, 34.05974999999999], [-117.236375, 34.05974999999999], [-117.236375, 34.059625], [-117.23625, 34.059625]]], &quot;type&quot;: &quot;Polygon&quot;}, &quot;id&quot;: &quot;349&quot;, &quot;properties&quot;: {&quot;pluscode&quot;: &quot;85643Q57+VF&quot;}, &quot;type&quot;: &quot;Feature&quot;}, {&quot;bbox&quot;: [-117.23625, 34.059625, -117.236125, 34.05974999999999], &quot;geometry&quot;: {&quot;coordinates&quot;: [[[-117.236125, 34.059625], [-117.236125, 34.05974999999999], [-117.23625, 34.05974999999999], [-117.23625, 34.059625], [-117.236125, 34.059625]]], &quot;type&quot;: &quot;Polygon&quot;}, &quot;id&quot;: &quot;350&quot;, &quot;properties&quot;: {&quot;pluscode&quot;: &quot;85643Q57+VG&quot;}, &quot;type&quot;: &quot;Feature&quot;}, {&quot;bbox&quot;: [-117.236125, 34.059625, -117.236, 34.05974999999999], &quot;geometry&quot;: {&quot;coordinates&quot;: [[[-117.236, 34.059625], [-117.236, 34.05974999999999], [-117.236125, 34.05974999999999], [-117.236125, 34.059625], [-117.236, 34.059625]]], &quot;type&quot;: &quot;Polygon&quot;}, &quot;id&quot;: &quot;351&quot;, &quot;properties&quot;: {&quot;pluscode&quot;: &quot;85643Q57+VH&quot;}, &quot;type&quot;: &quot;Feature&quot;}, {&quot;bbox&quot;: [-117.236, 34.059625, -117.23587500000001, 34.05974999999999], &quot;geometry&quot;: {&quot;coordinates&quot;: [[[-117.23587500000001, 34.059625], [-117.23587500000001, 34.05974999999999], [-117.236, 34.05974999999999], [-117.236, 34.059625], [-117.23587500000001, 34.059625]]], &quot;type&quot;: &quot;Polygon&quot;}, &quot;id&quot;: &quot;352&quot;, &quot;properties&quot;: {&quot;pluscode&quot;: &quot;85643Q57+VJ&quot;}, &quot;type&quot;: &quot;Feature&quot;}, {&quot;bbox&quot;: [-117.235875, 34.059625, -117.23575, 34.05974999999999], &quot;geometry&quot;: {&quot;coordinates&quot;: [[[-117.23575, 34.059625], [-117.23575, 34.05974999999999], [-117.235875, 34.05974999999999], [-117.235875, 34.059625], [-117.23575, 34.059625]]], &quot;type&quot;: &quot;Polygon&quot;}, &quot;id&quot;: &quot;353&quot;, &quot;properties&quot;: {&quot;pluscode&quot;: &quot;85643Q57+VM&quot;}, &quot;type&quot;: &quot;Feature&quot;}, {&quot;bbox&quot;: [-117.23575, 34.059625, -117.235625, 34.05974999999999], &quot;geometry&quot;: {&quot;coordinates&quot;: [[[-117.235625, 34.059625], [-117.235625, 34.05974999999999], [-117.23575, 34.05974999999999], [-117.23575, 34.059625], [-117.235625, 34.059625]]], &quot;type&quot;: &quot;Polygon&quot;}, &quot;id&quot;: &quot;354&quot;, &quot;properties&quot;: {&quot;pluscode&quot;: &quot;85643Q57+VP&quot;}, &quot;type&quot;: &quot;Feature&quot;}, {&quot;bbox&quot;: [-117.235625, 34.059625, -117.2355, 34.05974999999999], &quot;geometry&quot;: {&quot;coordinates&quot;: [[[-117.2355, 34.059625], [-117.2355, 34.05974999999999], [-117.235625, 34.05974999999999], [-117.235625, 34.059625], [-117.2355, 34.059625]]], &quot;type&quot;: &quot;Polygon&quot;}, &quot;id&quot;: &quot;355&quot;, &quot;properties&quot;: {&quot;pluscode&quot;: &quot;85643Q57+VQ&quot;}, &quot;type&quot;: &quot;Feature&quot;}, {&quot;bbox&quot;: [-117.2355, 34.059625, -117.235375, 34.05974999999999], &quot;geometry&quot;: {&quot;coordinates&quot;: [[[-117.235375, 34.059625], [-117.235375, 34.05974999999999], [-117.2355, 34.05974999999999], [-117.2355, 34.059625], [-117.235375, 34.059625]]], &quot;type&quot;: &quot;Polygon&quot;}, &quot;id&quot;: &quot;356&quot;, &quot;properties&quot;: {&quot;pluscode&quot;: &quot;85643Q57+VR&quot;}, &quot;type&quot;: &quot;Feature&quot;}, {&quot;bbox&quot;: [-117.235375, 34.059625, -117.23525000000001, 34.05974999999999], &quot;geometry&quot;: {&quot;coordinates&quot;: [[[-117.23525000000001, 34.059625], [-117.23525000000001, 34.05974999999999], [-117.235375, 34.05974999999999], [-117.235375, 34.059625], [-117.23525000000001, 34.059625]]], &quot;type&quot;: &quot;Polygon&quot;}, &quot;id&quot;: &quot;357&quot;, &quot;properties&quot;: {&quot;pluscode&quot;: &quot;85643Q57+VV&quot;}, &quot;type&quot;: &quot;Feature&quot;}, {&quot;bbox&quot;: [-117.23525, 34.059625, -117.235125, 34.05974999999999], &quot;geometry&quot;: {&quot;coordinates&quot;: [[[-117.235125, 34.059625], [-117.235125, 34.05974999999999], [-117.23525, 34.05974999999999], [-117.23525, 34.059625], [-117.235125, 34.059625]]], &quot;type&quot;: &quot;Polygon&quot;}, &quot;id&quot;: &quot;358&quot;, &quot;properties&quot;: {&quot;pluscode&quot;: &quot;85643Q57+VW&quot;}, &quot;type&quot;: &quot;Feature&quot;}, {&quot;bbox&quot;: [-117.235125, 34.059625, -117.235, 34.05974999999999], &quot;geometry&quot;: {&quot;coordinates&quot;: [[[-117.235, 34.059625], [-117.235, 34.05974999999999], [-117.235125, 34.05974999999999], [-117.235125, 34.059625], [-117.235, 34.059625]]], &quot;type&quot;: &quot;Polygon&quot;}, &quot;id&quot;: &quot;359&quot;, &quot;properties&quot;: {&quot;pluscode&quot;: &quot;85643Q57+VX&quot;}, &quot;type&quot;: &quot;Feature&quot;}, {&quot;bbox&quot;: [-117.2375, 34.05975, -117.237375, 34.059875], &quot;geometry&quot;: {&quot;coordinates&quot;: [[[-117.237375, 34.05975], [-117.237375, 34.059875], [-117.2375, 34.059875], [-117.2375, 34.05975], [-117.237375, 34.05975]]], &quot;type&quot;: &quot;Polygon&quot;}, &quot;id&quot;: &quot;360&quot;, &quot;properties&quot;: {&quot;pluscode&quot;: &quot;85643Q57+W2&quot;}, &quot;type&quot;: &quot;Feature&quot;}, {&quot;bbox&quot;: [-117.237375, 34.05975, -117.23725, 34.059875], &quot;geometry&quot;: {&quot;coordinates&quot;: [[[-117.23725, 34.05975], [-117.23725, 34.059875], [-117.237375, 34.059875], [-117.237375, 34.05975], [-117.23725, 34.05975]]], &quot;type&quot;: &quot;Polygon&quot;}, &quot;id&quot;: &quot;361&quot;, &quot;properties&quot;: {&quot;pluscode&quot;: &quot;85643Q57+W3&quot;}, &quot;type&quot;: &quot;Feature&quot;}, {&quot;bbox&quot;: [-117.23725, 34.05975, -117.237125, 34.059875], &quot;geometry&quot;: {&quot;coordinates&quot;: [[[-117.237125, 34.05975], [-117.237125, 34.059875], [-117.23725, 34.059875], [-117.23725, 34.05975], [-117.237125, 34.05975]]], &quot;type&quot;: &quot;Polygon&quot;}, &quot;id&quot;: &quot;362&quot;, &quot;properties&quot;: {&quot;pluscode&quot;: &quot;85643Q57+W4&quot;}, &quot;type&quot;: &quot;Feature&quot;}, {&quot;bbox&quot;: [-117.237125, 34.05975, -117.23700000000001, 34.059875], &quot;geometry&quot;: {&quot;coordinates&quot;: [[[-117.23700000000001, 34.05975], [-117.23700000000001, 34.059875], [-117.237125, 34.059875], [-117.237125, 34.05975], [-117.23700000000001, 34.05975]]], &quot;type&quot;: &quot;Polygon&quot;}, &quot;id&quot;: &quot;363&quot;, &quot;properties&quot;: {&quot;pluscode&quot;: &quot;85643Q57+W5&quot;}, &quot;type&quot;: &quot;Feature&quot;}, {&quot;bbox&quot;: [-117.237, 34.05975, -117.236875, 34.059875], &quot;geometry&quot;: {&quot;coordinates&quot;: [[[-117.236875, 34.05975], [-117.236875, 34.059875], [-117.237, 34.059875], [-117.237, 34.05975], [-117.236875, 34.05975]]], &quot;type&quot;: &quot;Polygon&quot;}, &quot;id&quot;: &quot;364&quot;, &quot;properties&quot;: {&quot;pluscode&quot;: &quot;85643Q57+W6&quot;}, &quot;type&quot;: &quot;Feature&quot;}, {&quot;bbox&quot;: [-117.236875, 34.05975, -117.23675, 34.059875], &quot;geometry&quot;: {&quot;coordinates&quot;: [[[-117.23675, 34.05975], [-117.23675, 34.059875], [-117.236875, 34.059875], [-117.236875, 34.05975], [-117.23675, 34.05975]]], &quot;type&quot;: &quot;Polygon&quot;}, &quot;id&quot;: &quot;365&quot;, &quot;properties&quot;: {&quot;pluscode&quot;: &quot;85643Q57+W7&quot;}, &quot;type&quot;: &quot;Feature&quot;}, {&quot;bbox&quot;: [-117.23675, 34.05975, -117.236625, 34.059875], &quot;geometry&quot;: {&quot;coordinates&quot;: [[[-117.236625, 34.05975], [-117.236625, 34.059875], [-117.23675, 34.059875], [-117.23675, 34.05975], [-117.236625, 34.05975]]], &quot;type&quot;: &quot;Polygon&quot;}, &quot;id&quot;: &quot;366&quot;, &quot;properties&quot;: {&quot;pluscode&quot;: &quot;85643Q57+W8&quot;}, &quot;type&quot;: &quot;Feature&quot;}, {&quot;bbox&quot;: [-117.236625, 34.05975, -117.2365, 34.059875], &quot;geometry&quot;: {&quot;coordinates&quot;: [[[-117.2365, 34.05975], [-117.2365, 34.059875], [-117.236625, 34.059875], [-117.236625, 34.05975], [-117.2365, 34.05975]]], &quot;type&quot;: &quot;Polygon&quot;}, &quot;id&quot;: &quot;367&quot;, &quot;properties&quot;: {&quot;pluscode&quot;: &quot;85643Q57+W9&quot;}, &quot;type&quot;: &quot;Feature&quot;}, {&quot;bbox&quot;: [-117.2365, 34.05975, -117.23637500000001, 34.059875], &quot;geometry&quot;: {&quot;coordinates&quot;: [[[-117.23637500000001, 34.05975], [-117.23637500000001, 34.059875], [-117.2365, 34.059875], [-117.2365, 34.05975], [-117.23637500000001, 34.05975]]], &quot;type&quot;: &quot;Polygon&quot;}, &quot;id&quot;: &quot;368&quot;, &quot;properties&quot;: {&quot;pluscode&quot;: &quot;85643Q57+WC&quot;}, &quot;type&quot;: &quot;Feature&quot;}, {&quot;bbox&quot;: [-117.236375, 34.05975, -117.23625, 34.059875], &quot;geometry&quot;: {&quot;coordinates&quot;: [[[-117.23625, 34.05975], [-117.23625, 34.059875], [-117.236375, 34.059875], [-117.236375, 34.05975], [-117.23625, 34.05975]]], &quot;type&quot;: &quot;Polygon&quot;}, &quot;id&quot;: &quot;369&quot;, &quot;properties&quot;: {&quot;pluscode&quot;: &quot;85643Q57+WF&quot;}, &quot;type&quot;: &quot;Feature&quot;}, {&quot;bbox&quot;: [-117.23625, 34.05975, -117.236125, 34.059875], &quot;geometry&quot;: {&quot;coordinates&quot;: [[[-117.236125, 34.05975], [-117.236125, 34.059875], [-117.23625, 34.059875], [-117.23625, 34.05975], [-117.236125, 34.05975]]], &quot;type&quot;: &quot;Polygon&quot;}, &quot;id&quot;: &quot;370&quot;, &quot;properties&quot;: {&quot;pluscode&quot;: &quot;85643Q57+WG&quot;}, &quot;type&quot;: &quot;Feature&quot;}, {&quot;bbox&quot;: [-117.236125, 34.05975, -117.236, 34.059875], &quot;geometry&quot;: {&quot;coordinates&quot;: [[[-117.236, 34.05975], [-117.236, 34.059875], [-117.236125, 34.059875], [-117.236125, 34.05975], [-117.236, 34.05975]]], &quot;type&quot;: &quot;Polygon&quot;}, &quot;id&quot;: &quot;371&quot;, &quot;properties&quot;: {&quot;pluscode&quot;: &quot;85643Q57+WH&quot;}, &quot;type&quot;: &quot;Feature&quot;}, {&quot;bbox&quot;: [-117.236, 34.05975, -117.23587500000001, 34.059875], &quot;geometry&quot;: {&quot;coordinates&quot;: [[[-117.23587500000001, 34.05975], [-117.23587500000001, 34.059875], [-117.236, 34.059875], [-117.236, 34.05975], [-117.23587500000001, 34.05975]]], &quot;type&quot;: &quot;Polygon&quot;}, &quot;id&quot;: &quot;372&quot;, &quot;properties&quot;: {&quot;pluscode&quot;: &quot;85643Q57+WJ&quot;}, &quot;type&quot;: &quot;Feature&quot;}, {&quot;bbox&quot;: [-117.235875, 34.05975, -117.23575, 34.059875], &quot;geometry&quot;: {&quot;coordinates&quot;: [[[-117.23575, 34.05975], [-117.23575, 34.059875], [-117.235875, 34.059875], [-117.235875, 34.05975], [-117.23575, 34.05975]]], &quot;type&quot;: &quot;Polygon&quot;}, &quot;id&quot;: &quot;373&quot;, &quot;properties&quot;: {&quot;pluscode&quot;: &quot;85643Q57+WM&quot;}, &quot;type&quot;: &quot;Feature&quot;}, {&quot;bbox&quot;: [-117.23575, 34.05975, -117.235625, 34.059875], &quot;geometry&quot;: {&quot;coordinates&quot;: [[[-117.235625, 34.05975], [-117.235625, 34.059875], [-117.23575, 34.059875], [-117.23575, 34.05975], [-117.235625, 34.05975]]], &quot;type&quot;: &quot;Polygon&quot;}, &quot;id&quot;: &quot;374&quot;, &quot;properties&quot;: {&quot;pluscode&quot;: &quot;85643Q57+WP&quot;}, &quot;type&quot;: &quot;Feature&quot;}, {&quot;bbox&quot;: [-117.235625, 34.05975, -117.2355, 34.059875], &quot;geometry&quot;: {&quot;coordinates&quot;: [[[-117.2355, 34.05975], [-117.2355, 34.059875], [-117.235625, 34.059875], [-117.235625, 34.05975], [-117.2355, 34.05975]]], &quot;type&quot;: &quot;Polygon&quot;}, &quot;id&quot;: &quot;375&quot;, &quot;properties&quot;: {&quot;pluscode&quot;: &quot;85643Q57+WQ&quot;}, &quot;type&quot;: &quot;Feature&quot;}, {&quot;bbox&quot;: [-117.2355, 34.05975, -117.235375, 34.059875], &quot;geometry&quot;: {&quot;coordinates&quot;: [[[-117.235375, 34.05975], [-117.235375, 34.059875], [-117.2355, 34.059875], [-117.2355, 34.05975], [-117.235375, 34.05975]]], &quot;type&quot;: &quot;Polygon&quot;}, &quot;id&quot;: &quot;376&quot;, &quot;properties&quot;: {&quot;pluscode&quot;: &quot;85643Q57+WR&quot;}, &quot;type&quot;: &quot;Feature&quot;}, {&quot;bbox&quot;: [-117.235375, 34.05975, -117.23525000000001, 34.059875], &quot;geometry&quot;: {&quot;coordinates&quot;: [[[-117.23525000000001, 34.05975], [-117.23525000000001, 34.059875], [-117.235375, 34.059875], [-117.235375, 34.05975], [-117.23525000000001, 34.05975]]], &quot;type&quot;: &quot;Polygon&quot;}, &quot;id&quot;: &quot;377&quot;, &quot;properties&quot;: {&quot;pluscode&quot;: &quot;85643Q57+WV&quot;}, &quot;type&quot;: &quot;Feature&quot;}, {&quot;bbox&quot;: [-117.23525, 34.05975, -117.235125, 34.059875], &quot;geometry&quot;: {&quot;coordinates&quot;: [[[-117.235125, 34.05975], [-117.235125, 34.059875], [-117.23525, 34.059875], [-117.23525, 34.05975], [-117.235125, 34.05975]]], &quot;type&quot;: &quot;Polygon&quot;}, &quot;id&quot;: &quot;378&quot;, &quot;properties&quot;: {&quot;pluscode&quot;: &quot;85643Q57+WW&quot;}, &quot;type&quot;: &quot;Feature&quot;}, {&quot;bbox&quot;: [-117.235125, 34.05975, -117.235, 34.059875], &quot;geometry&quot;: {&quot;coordinates&quot;: [[[-117.235, 34.05975], [-117.235, 34.059875], [-117.235125, 34.059875], [-117.235125, 34.05975], [-117.235, 34.05975]]], &quot;type&quot;: &quot;Polygon&quot;}, &quot;id&quot;: &quot;379&quot;, &quot;properties&quot;: {&quot;pluscode&quot;: &quot;85643Q57+WX&quot;}, &quot;type&quot;: &quot;Feature&quot;}, {&quot;bbox&quot;: [-117.2375, 34.059875, -117.237375, 34.06], &quot;geometry&quot;: {&quot;coordinates&quot;: [[[-117.237375, 34.059875], [-117.237375, 34.06], [-117.2375, 34.06], [-117.2375, 34.059875], [-117.237375, 34.059875]]], &quot;type&quot;: &quot;Polygon&quot;}, &quot;id&quot;: &quot;380&quot;, &quot;properties&quot;: {&quot;pluscode&quot;: &quot;85643Q57+X2&quot;}, &quot;type&quot;: &quot;Feature&quot;}, {&quot;bbox&quot;: [-117.237375, 34.059875, -117.23725, 34.06], &quot;geometry&quot;: {&quot;coordinates&quot;: [[[-117.23725, 34.059875], [-117.23725, 34.06], [-117.237375, 34.06], [-117.237375, 34.059875], [-117.23725, 34.059875]]], &quot;type&quot;: &quot;Polygon&quot;}, &quot;id&quot;: &quot;381&quot;, &quot;properties&quot;: {&quot;pluscode&quot;: &quot;85643Q57+X3&quot;}, &quot;type&quot;: &quot;Feature&quot;}, {&quot;bbox&quot;: [-117.23725, 34.059875, -117.237125, 34.06], &quot;geometry&quot;: {&quot;coordinates&quot;: [[[-117.237125, 34.059875], [-117.237125, 34.06], [-117.23725, 34.06], [-117.23725, 34.059875], [-117.237125, 34.059875]]], &quot;type&quot;: &quot;Polygon&quot;}, &quot;id&quot;: &quot;382&quot;, &quot;properties&quot;: {&quot;pluscode&quot;: &quot;85643Q57+X4&quot;}, &quot;type&quot;: &quot;Feature&quot;}, {&quot;bbox&quot;: [-117.237125, 34.059875, -117.23700000000001, 34.06], &quot;geometry&quot;: {&quot;coordinates&quot;: [[[-117.23700000000001, 34.059875], [-117.23700000000001, 34.06], [-117.237125, 34.06], [-117.237125, 34.059875], [-117.23700000000001, 34.059875]]], &quot;type&quot;: &quot;Polygon&quot;}, &quot;id&quot;: &quot;383&quot;, &quot;properties&quot;: {&quot;pluscode&quot;: &quot;85643Q57+X5&quot;}, &quot;type&quot;: &quot;Feature&quot;}, {&quot;bbox&quot;: [-117.237, 34.059875, -117.236875, 34.06], &quot;geometry&quot;: {&quot;coordinates&quot;: [[[-117.236875, 34.059875], [-117.236875, 34.06], [-117.237, 34.06], [-117.237, 34.059875], [-117.236875, 34.059875]]], &quot;type&quot;: &quot;Polygon&quot;}, &quot;id&quot;: &quot;384&quot;, &quot;properties&quot;: {&quot;pluscode&quot;: &quot;85643Q57+X6&quot;}, &quot;type&quot;: &quot;Feature&quot;}, {&quot;bbox&quot;: [-117.236875, 34.059875, -117.23675, 34.06], &quot;geometry&quot;: {&quot;coordinates&quot;: [[[-117.23675, 34.059875], [-117.23675, 34.06], [-117.236875, 34.06], [-117.236875, 34.059875], [-117.23675, 34.059875]]], &quot;type&quot;: &quot;Polygon&quot;}, &quot;id&quot;: &quot;385&quot;, &quot;properties&quot;: {&quot;pluscode&quot;: &quot;85643Q57+X7&quot;}, &quot;type&quot;: &quot;Feature&quot;}, {&quot;bbox&quot;: [-117.23675, 34.059875, -117.236625, 34.06], &quot;geometry&quot;: {&quot;coordinates&quot;: [[[-117.236625, 34.059875], [-117.236625, 34.06], [-117.23675, 34.06], [-117.23675, 34.059875], [-117.236625, 34.059875]]], &quot;type&quot;: &quot;Polygon&quot;}, &quot;id&quot;: &quot;386&quot;, &quot;properties&quot;: {&quot;pluscode&quot;: &quot;85643Q57+X8&quot;}, &quot;type&quot;: &quot;Feature&quot;}, {&quot;bbox&quot;: [-117.236625, 34.059875, -117.2365, 34.06], &quot;geometry&quot;: {&quot;coordinates&quot;: [[[-117.2365, 34.059875], [-117.2365, 34.06], [-117.236625, 34.06], [-117.236625, 34.059875], [-117.2365, 34.059875]]], &quot;type&quot;: &quot;Polygon&quot;}, &quot;id&quot;: &quot;387&quot;, &quot;properties&quot;: {&quot;pluscode&quot;: &quot;85643Q57+X9&quot;}, &quot;type&quot;: &quot;Feature&quot;}, {&quot;bbox&quot;: [-117.2365, 34.059875, -117.23637500000001, 34.06], &quot;geometry&quot;: {&quot;coordinates&quot;: [[[-117.23637500000001, 34.059875], [-117.23637500000001, 34.06], [-117.2365, 34.06], [-117.2365, 34.059875], [-117.23637500000001, 34.059875]]], &quot;type&quot;: &quot;Polygon&quot;}, &quot;id&quot;: &quot;388&quot;, &quot;properties&quot;: {&quot;pluscode&quot;: &quot;85643Q57+XC&quot;}, &quot;type&quot;: &quot;Feature&quot;}, {&quot;bbox&quot;: [-117.236375, 34.059875, -117.23625, 34.06], &quot;geometry&quot;: {&quot;coordinates&quot;: [[[-117.23625, 34.059875], [-117.23625, 34.06], [-117.236375, 34.06], [-117.236375, 34.059875], [-117.23625, 34.059875]]], &quot;type&quot;: &quot;Polygon&quot;}, &quot;id&quot;: &quot;389&quot;, &quot;properties&quot;: {&quot;pluscode&quot;: &quot;85643Q57+XF&quot;}, &quot;type&quot;: &quot;Feature&quot;}, {&quot;bbox&quot;: [-117.23625, 34.059875, -117.236125, 34.06], &quot;geometry&quot;: {&quot;coordinates&quot;: [[[-117.236125, 34.059875], [-117.236125, 34.06], [-117.23625, 34.06], [-117.23625, 34.059875], [-117.236125, 34.059875]]], &quot;type&quot;: &quot;Polygon&quot;}, &quot;id&quot;: &quot;390&quot;, &quot;properties&quot;: {&quot;pluscode&quot;: &quot;85643Q57+XG&quot;}, &quot;type&quot;: &quot;Feature&quot;}, {&quot;bbox&quot;: [-117.236125, 34.059875, -117.236, 34.06], &quot;geometry&quot;: {&quot;coordinates&quot;: [[[-117.236, 34.059875], [-117.236, 34.06], [-117.236125, 34.06], [-117.236125, 34.059875], [-117.236, 34.059875]]], &quot;type&quot;: &quot;Polygon&quot;}, &quot;id&quot;: &quot;391&quot;, &quot;properties&quot;: {&quot;pluscode&quot;: &quot;85643Q57+XH&quot;}, &quot;type&quot;: &quot;Feature&quot;}, {&quot;bbox&quot;: [-117.236, 34.059875, -117.23587500000001, 34.06], &quot;geometry&quot;: {&quot;coordinates&quot;: [[[-117.23587500000001, 34.059875], [-117.23587500000001, 34.06], [-117.236, 34.06], [-117.236, 34.059875], [-117.23587500000001, 34.059875]]], &quot;type&quot;: &quot;Polygon&quot;}, &quot;id&quot;: &quot;392&quot;, &quot;properties&quot;: {&quot;pluscode&quot;: &quot;85643Q57+XJ&quot;}, &quot;type&quot;: &quot;Feature&quot;}, {&quot;bbox&quot;: [-117.235875, 34.059875, -117.23575, 34.06], &quot;geometry&quot;: {&quot;coordinates&quot;: [[[-117.23575, 34.059875], [-117.23575, 34.06], [-117.235875, 34.06], [-117.235875, 34.059875], [-117.23575, 34.059875]]], &quot;type&quot;: &quot;Polygon&quot;}, &quot;id&quot;: &quot;393&quot;, &quot;properties&quot;: {&quot;pluscode&quot;: &quot;85643Q57+XM&quot;}, &quot;type&quot;: &quot;Feature&quot;}, {&quot;bbox&quot;: [-117.23575, 34.059875, -117.235625, 34.06], &quot;geometry&quot;: {&quot;coordinates&quot;: [[[-117.235625, 34.059875], [-117.235625, 34.06], [-117.23575, 34.06], [-117.23575, 34.059875], [-117.235625, 34.059875]]], &quot;type&quot;: &quot;Polygon&quot;}, &quot;id&quot;: &quot;394&quot;, &quot;properties&quot;: {&quot;pluscode&quot;: &quot;85643Q57+XP&quot;}, &quot;type&quot;: &quot;Feature&quot;}, {&quot;bbox&quot;: [-117.235625, 34.059875, -117.2355, 34.06], &quot;geometry&quot;: {&quot;coordinates&quot;: [[[-117.2355, 34.059875], [-117.2355, 34.06], [-117.235625, 34.06], [-117.235625, 34.059875], [-117.2355, 34.059875]]], &quot;type&quot;: &quot;Polygon&quot;}, &quot;id&quot;: &quot;395&quot;, &quot;properties&quot;: {&quot;pluscode&quot;: &quot;85643Q57+XQ&quot;}, &quot;type&quot;: &quot;Feature&quot;}, {&quot;bbox&quot;: [-117.2355, 34.059875, -117.235375, 34.06], &quot;geometry&quot;: {&quot;coordinates&quot;: [[[-117.235375, 34.059875], [-117.235375, 34.06], [-117.2355, 34.06], [-117.2355, 34.059875], [-117.235375, 34.059875]]], &quot;type&quot;: &quot;Polygon&quot;}, &quot;id&quot;: &quot;396&quot;, &quot;properties&quot;: {&quot;pluscode&quot;: &quot;85643Q57+XR&quot;}, &quot;type&quot;: &quot;Feature&quot;}, {&quot;bbox&quot;: [-117.235375, 34.059875, -117.23525000000001, 34.06], &quot;geometry&quot;: {&quot;coordinates&quot;: [[[-117.23525000000001, 34.059875], [-117.23525000000001, 34.06], [-117.235375, 34.06], [-117.235375, 34.059875], [-117.23525000000001, 34.059875]]], &quot;type&quot;: &quot;Polygon&quot;}, &quot;id&quot;: &quot;397&quot;, &quot;properties&quot;: {&quot;pluscode&quot;: &quot;85643Q57+XV&quot;}, &quot;type&quot;: &quot;Feature&quot;}, {&quot;bbox&quot;: [-117.23525, 34.059875, -117.235125, 34.06], &quot;geometry&quot;: {&quot;coordinates&quot;: [[[-117.235125, 34.059875], [-117.235125, 34.06], [-117.23525, 34.06], [-117.23525, 34.059875], [-117.235125, 34.059875]]], &quot;type&quot;: &quot;Polygon&quot;}, &quot;id&quot;: &quot;398&quot;, &quot;properties&quot;: {&quot;pluscode&quot;: &quot;85643Q57+XW&quot;}, &quot;type&quot;: &quot;Feature&quot;}, {&quot;bbox&quot;: [-117.235125, 34.059875, -117.235, 34.06], &quot;geometry&quot;: {&quot;coordinates&quot;: [[[-117.235, 34.059875], [-117.235, 34.06], [-117.235125, 34.06], [-117.235125, 34.059875], [-117.235, 34.059875]]], &quot;type&quot;: &quot;Polygon&quot;}, &quot;id&quot;: &quot;399&quot;, &quot;properties&quot;: {&quot;pluscode&quot;: &quot;85643Q57+XX&quot;}, &quot;type&quot;: &quot;Feature&quot;}], &quot;type&quot;: &quot;FeatureCollection&quot;});\n",
       "\n",
       "        \n",
       "&lt;/script&gt;\n",
       "&lt;/html&gt;\" style=\"position:absolute;width:100%;height:100%;left:0;top:0;border:none !important;\" allowfullscreen webkitallowfullscreen mozallowfullscreen></iframe></div></div>"
      ],
      "text/plain": [
       "<folium.folium.Map at 0x13eb48250>"
      ]
     },
     "execution_count": 12,
     "metadata": {},
     "output_type": "execute_result"
    }
   ],
   "source": [
    "m3 = folium.Map(location=[34.05501440288417, -117.23428106228769], zoom_start=16)\n",
    "folium.GeoJson(data=s1_geoms).add_to(m3)\n",
    "m3"
   ]
  },
  {
   "cell_type": "markdown",
   "id": "d666811c-fe0a-4db0-b185-46a571bf817c",
   "metadata": {},
   "source": [
    "## Buffers around plus codes"
   ]
  },
  {
   "cell_type": "code",
   "execution_count": 13,
   "id": "4bb7e98c-ebd2-4e51-bc0a-d5d63dd99172",
   "metadata": {},
   "outputs": [],
   "source": [
    "# given_pc = '8rq2'\n",
    "# given_pc = '8q8r'\n",
    "given_pc = \"8564\""
   ]
  },
  {
   "cell_type": "code",
   "execution_count": 14,
   "id": "42489137-4d47-4146-8fc0-c314748513f3",
   "metadata": {},
   "outputs": [
    {
     "name": "stdout",
     "output_type": "stream",
     "text": [
      "85640000+\n",
      "[34.0, -118.0, 35.0, -117.0, 34.5, -117.5, 4]\n"
     ]
    }
   ],
   "source": [
    "fullcode = pluscodeplus.get_pluscode_from_prefix(given_pc)\n",
    "print(fullcode)\n",
    "\n",
    "# convert to lat lons for the given pc\n",
    "bbox = olc.decode(code=fullcode)\n",
    "print(bbox)  # returns lat and long low and high and the code length as last vlue"
   ]
  },
  {
   "cell_type": "code",
   "execution_count": 15,
   "id": "6d4405f2-a0b5-4cac-9f70-627c6e60fef9",
   "metadata": {},
   "outputs": [
    {
     "name": "stdout",
     "output_type": "stream",
     "text": [
      "33.99 -118.01 35.01 -116.99\n"
     ]
    }
   ],
   "source": [
    "# compute buffer\n",
    "buffer=0.01\n",
    "min_lat = bbox.latitudeLo - buffer\n",
    "max_lat = bbox.latitudeHi + buffer\n",
    "min_lon = bbox.longitudeLo - buffer\n",
    "max_lon = bbox.longitudeHi + buffer\n",
    "\n",
    "# account for antimeridian\n",
    "if min_lon < -180.0:\n",
    "    min_lon += 360.0\n",
    "if max_lon > 180.0:\n",
    "    max_lon -= 360.0\n",
    "\n",
    "print(min_lat, min_lon, max_lat, max_lon)"
   ]
  },
  {
   "cell_type": "code",
   "execution_count": 16,
   "id": "20be34cd-63af-4ad6-a277-b3cc14117925",
   "metadata": {},
   "outputs": [
    {
     "name": "stdout",
     "output_type": "stream",
     "text": [
      "['85740000+', '85750000+', '85650000+', '85550000+', '85540000+', '85530000+', '85630000+', '85730000+']\n"
     ]
    }
   ],
   "source": [
    "# get surrounding pc for given pc\n",
    "neighbor_plus = pluscodeplus.get_surrounding_pluscodes(fullcode)\n",
    "print(neighbor_plus)"
   ]
  },
  {
   "cell_type": "code",
   "execution_count": 17,
   "id": "e42f6afe-b229-4e84-a6a6-d75c7ca2490a",
   "metadata": {},
   "outputs": [
    {
     "data": {
      "text/plain": [
       "['8574', '8575', '8565', '8555', '8554', '8553', '8563', '8573']"
      ]
     },
     "execution_count": 17,
     "metadata": {},
     "output_type": "execute_result"
    }
   ],
   "source": [
    "bg = [pluscodeplus.get_pluscode_prefix(e) for e in neighbor_plus]\n",
    "bg"
   ]
  },
  {
   "cell_type": "code",
   "execution_count": 18,
   "id": "37a75b6b-0755-4503-b575-d98c1f719d8d",
   "metadata": {},
   "outputs": [
    {
     "data": {
      "text/plain": [
       "['8574', '8575', '8565', '8555', '8554', '8553', '8563', '8573', '8564']"
      ]
     },
     "execution_count": 18,
     "metadata": {},
     "output_type": "execute_result"
    }
   ],
   "source": [
    "bg2 = bg.append(given_pc)\n",
    "[e.upper() for e in bg]"
   ]
  },
  {
   "cell_type": "code",
   "execution_count": 64,
   "id": "e702ddab-0a7d-4a4e-9d41-96d9524b24f4",
   "metadata": {},
   "outputs": [
    {
     "name": "stdout",
     "output_type": "stream",
     "text": [
      "('8Q7Q0000+', True) ('8Q9Q0000+', True) ('8Q9V0000+', True) ('8Q7V0000+', True)\n"
     ]
    }
   ],
   "source": [
    "# for buffered coordinates, get pc\n",
    "bottom_left = olc.encode(latitude=min_lat, longitude=min_lon, codeLength=4)\n",
    "top_left = olc.encode(latitude=max_lat, longitude=min_lon, codeLength=4)\n",
    "top_right = olc.encode(latitude=max_lat, longitude=max_lon, codeLength=4)\n",
    "bottom_right = olc.encode(latitude=min_lat, longitude=max_lon, codeLength=4)\n",
    "\n",
    "print((bottom_left, bottom_left in neighbor_plus),\n",
    "      (top_left, top_left in neighbor_plus), \n",
    "      (top_right, top_right in neighbor_plus),\n",
    "      (bottom_right, bottom_right in neighbor_plus))\n"
   ]
  },
  {
   "cell_type": "markdown",
   "id": "5d1bb48d-3d11-44d4-84e2-0c61d81c8b52",
   "metadata": {},
   "source": [
    "### Visualize buffers on map"
   ]
  },
  {
   "cell_type": "code",
   "execution_count": 65,
   "id": "30ff18d9-8e7c-461c-8e6c-8bcb9d51fb1f",
   "metadata": {},
   "outputs": [],
   "source": [
    "given_pc_gdf = pluscodeplus.geometry.get_pluscode_geometry([fullcode])\n",
    "neighbor_pc_gdf = pluscodeplus.geometry.get_pluscode_geometry(neighbor_plus)\n",
    "\n",
    "buffer_poly = shapely.geometry.polygon.Polygon([(max_lon, min_lat), (max_lon, max_lat),\n",
    "                                 (min_lon, max_lat), (min_lon, min_lat),\n",
    "                                 (max_lon, min_lat)])"
   ]
  },
  {
   "cell_type": "code",
   "execution_count": 40,
   "id": "e2beb39e-33cc-41fd-85bc-b3d20064b26a",
   "metadata": {},
   "outputs": [
    {
     "name": "stdout",
     "output_type": "stream",
     "text": [
      "POLYGON ((141 46, 141 47, 140 47, 140 46, 141 46))\n"
     ]
    }
   ],
   "source": []
  },
  {
   "cell_type": "code",
   "execution_count": 50,
   "id": "8ba3f994-8f0f-4f56-9957-bb2bd87ce29e",
   "metadata": {},
   "outputs": [],
   "source": [
    "buffer_poly = shapely.geometry.polygon.Polygon([(max_lon, min_lat), (max_lon, max_lat),\n",
    "                                 (min_lon, max_lat), (min_lon, min_lat),\n",
    "                                 (max_lon, min_lat)])"
   ]
  },
  {
   "cell_type": "code",
   "execution_count": 66,
   "id": "656b05af-0d9b-46d3-8743-424831c03b87",
   "metadata": {},
   "outputs": [
    {
     "data": {
      "text/html": [
       "<div style=\"width:100%;\"><div style=\"position:relative;width:100%;height:0;padding-bottom:60%;\"><span style=\"color:#565656\">Make this Notebook Trusted to load map: File -> Trust Notebook</span><iframe srcdoc=\"&lt;!DOCTYPE html&gt;\n",
       "&lt;html&gt;\n",
       "&lt;head&gt;\n",
       "    \n",
       "    &lt;meta http-equiv=&quot;content-type&quot; content=&quot;text/html; charset=UTF-8&quot; /&gt;\n",
       "    \n",
       "        &lt;script&gt;\n",
       "            L_NO_TOUCH = false;\n",
       "            L_DISABLE_3D = false;\n",
       "        &lt;/script&gt;\n",
       "    \n",
       "    &lt;style&gt;html, body {width: 100%;height: 100%;margin: 0;padding: 0;}&lt;/style&gt;\n",
       "    &lt;style&gt;#map {position:absolute;top:0;bottom:0;right:0;left:0;}&lt;/style&gt;\n",
       "    &lt;script src=&quot;https://cdn.jsdelivr.net/npm/leaflet@1.6.0/dist/leaflet.js&quot;&gt;&lt;/script&gt;\n",
       "    &lt;script src=&quot;https://code.jquery.com/jquery-1.12.4.min.js&quot;&gt;&lt;/script&gt;\n",
       "    &lt;script src=&quot;https://maxcdn.bootstrapcdn.com/bootstrap/3.2.0/js/bootstrap.min.js&quot;&gt;&lt;/script&gt;\n",
       "    &lt;script src=&quot;https://cdnjs.cloudflare.com/ajax/libs/Leaflet.awesome-markers/2.0.2/leaflet.awesome-markers.js&quot;&gt;&lt;/script&gt;\n",
       "    &lt;link rel=&quot;stylesheet&quot; href=&quot;https://cdn.jsdelivr.net/npm/leaflet@1.6.0/dist/leaflet.css&quot;/&gt;\n",
       "    &lt;link rel=&quot;stylesheet&quot; href=&quot;https://maxcdn.bootstrapcdn.com/bootstrap/3.2.0/css/bootstrap.min.css&quot;/&gt;\n",
       "    &lt;link rel=&quot;stylesheet&quot; href=&quot;https://maxcdn.bootstrapcdn.com/bootstrap/3.2.0/css/bootstrap-theme.min.css&quot;/&gt;\n",
       "    &lt;link rel=&quot;stylesheet&quot; href=&quot;https://maxcdn.bootstrapcdn.com/font-awesome/4.6.3/css/font-awesome.min.css&quot;/&gt;\n",
       "    &lt;link rel=&quot;stylesheet&quot; href=&quot;https://cdnjs.cloudflare.com/ajax/libs/Leaflet.awesome-markers/2.0.2/leaflet.awesome-markers.css&quot;/&gt;\n",
       "    &lt;link rel=&quot;stylesheet&quot; href=&quot;https://cdn.jsdelivr.net/gh/python-visualization/folium/folium/templates/leaflet.awesome.rotate.min.css&quot;/&gt;\n",
       "    \n",
       "            &lt;meta name=&quot;viewport&quot; content=&quot;width=device-width,\n",
       "                initial-scale=1.0, maximum-scale=1.0, user-scalable=no&quot; /&gt;\n",
       "            &lt;style&gt;\n",
       "                #map_59868ae8b0c0132b3dec3d6daca404f4 {\n",
       "                    position: relative;\n",
       "                    width: 100.0%;\n",
       "                    height: 100.0%;\n",
       "                    left: 0.0%;\n",
       "                    top: 0.0%;\n",
       "                }\n",
       "            &lt;/style&gt;\n",
       "        \n",
       "&lt;/head&gt;\n",
       "&lt;body&gt;\n",
       "    \n",
       "    \n",
       "            &lt;div class=&quot;folium-map&quot; id=&quot;map_59868ae8b0c0132b3dec3d6daca404f4&quot; &gt;&lt;/div&gt;\n",
       "        \n",
       "&lt;/body&gt;\n",
       "&lt;script&gt;\n",
       "    \n",
       "    \n",
       "            var map_59868ae8b0c0132b3dec3d6daca404f4 = L.map(\n",
       "                &quot;map_59868ae8b0c0132b3dec3d6daca404f4&quot;,\n",
       "                {\n",
       "                    center: [37.01, 137.01],\n",
       "                    crs: L.CRS.EPSG3857,\n",
       "                    zoom: 8,\n",
       "                    zoomControl: true,\n",
       "                    preferCanvas: false,\n",
       "                }\n",
       "            );\n",
       "\n",
       "            \n",
       "\n",
       "        \n",
       "    \n",
       "            var tile_layer_64cfbc540b8b0e4a28150ae01671f9d4 = L.tileLayer(\n",
       "                &quot;https://{s}.tile.openstreetmap.org/{z}/{x}/{y}.png&quot;,\n",
       "                {&quot;attribution&quot;: &quot;Data by \\u0026copy; \\u003ca href=\\&quot;http://openstreetmap.org\\&quot;\\u003eOpenStreetMap\\u003c/a\\u003e, under \\u003ca href=\\&quot;http://www.openstreetmap.org/copyright\\&quot;\\u003eODbL\\u003c/a\\u003e.&quot;, &quot;detectRetina&quot;: false, &quot;maxNativeZoom&quot;: 18, &quot;maxZoom&quot;: 18, &quot;minZoom&quot;: 0, &quot;noWrap&quot;: false, &quot;opacity&quot;: 1, &quot;subdomains&quot;: &quot;abc&quot;, &quot;tms&quot;: false}\n",
       "            ).addTo(map_59868ae8b0c0132b3dec3d6daca404f4);\n",
       "        \n",
       "    \n",
       "\n",
       "        function geo_json_0da8800c9cce45598bc9fbefc32e0bb9_onEachFeature(feature, layer) {\n",
       "            layer.on({\n",
       "            });\n",
       "        };\n",
       "        var geo_json_0da8800c9cce45598bc9fbefc32e0bb9 = L.geoJson(null, {\n",
       "                onEachFeature: geo_json_0da8800c9cce45598bc9fbefc32e0bb9_onEachFeature,\n",
       "            \n",
       "        });\n",
       "\n",
       "        function geo_json_0da8800c9cce45598bc9fbefc32e0bb9_add (data) {\n",
       "            geo_json_0da8800c9cce45598bc9fbefc32e0bb9\n",
       "                .addData(data)\n",
       "                .addTo(map_59868ae8b0c0132b3dec3d6daca404f4);\n",
       "        }\n",
       "            geo_json_0da8800c9cce45598bc9fbefc32e0bb9_add({&quot;coordinates&quot;: [[[137.01, 35.99], [137.01, 37.01], [135.99, 37.01], [135.99, 35.99], [137.01, 35.99]]], &quot;type&quot;: &quot;Polygon&quot;});\n",
       "\n",
       "        \n",
       "    \n",
       "            geo_json_0da8800c9cce45598bc9fbefc32e0bb9.bindTooltip(\n",
       "                `&lt;div&gt;\n",
       "                     Buffer pc\n",
       "                 &lt;/div&gt;`,\n",
       "                {&quot;sticky&quot;: true}\n",
       "            );\n",
       "        \n",
       "    \n",
       "\n",
       "        function geo_json_8fc431a9f7722bad447d641811a35751_onEachFeature(feature, layer) {\n",
       "            layer.on({\n",
       "            });\n",
       "        };\n",
       "        var geo_json_8fc431a9f7722bad447d641811a35751 = L.geoJson(null, {\n",
       "                onEachFeature: geo_json_8fc431a9f7722bad447d641811a35751_onEachFeature,\n",
       "            \n",
       "        });\n",
       "\n",
       "        function geo_json_8fc431a9f7722bad447d641811a35751_add (data) {\n",
       "            geo_json_8fc431a9f7722bad447d641811a35751\n",
       "                .addData(data)\n",
       "                .addTo(map_59868ae8b0c0132b3dec3d6daca404f4);\n",
       "        }\n",
       "            geo_json_8fc431a9f7722bad447d641811a35751_add({&quot;bbox&quot;: [136.0, 36.0, 137.0, 37.0], &quot;features&quot;: [{&quot;bbox&quot;: [136.0, 36.0, 137.0, 37.0], &quot;geometry&quot;: {&quot;coordinates&quot;: [[[137.0, 36.0], [137.0, 37.0], [136.0, 37.0], [136.0, 36.0], [137.0, 36.0]]], &quot;type&quot;: &quot;Polygon&quot;}, &quot;id&quot;: &quot;0&quot;, &quot;properties&quot;: {&quot;pluscode&quot;: &quot;8Q8R0000+&quot;}, &quot;type&quot;: &quot;Feature&quot;}], &quot;type&quot;: &quot;FeatureCollection&quot;});\n",
       "\n",
       "        \n",
       "    \n",
       "            geo_json_8fc431a9f7722bad447d641811a35751.bindTooltip(\n",
       "                `&lt;div&gt;\n",
       "                     Given pc\n",
       "                 &lt;/div&gt;`,\n",
       "                {&quot;sticky&quot;: true}\n",
       "            );\n",
       "        \n",
       "    \n",
       "\n",
       "        function geo_json_78c76f119c5a99fb7794f793682d4e24_onEachFeature(feature, layer) {\n",
       "            layer.on({\n",
       "            });\n",
       "        };\n",
       "        var geo_json_78c76f119c5a99fb7794f793682d4e24 = L.geoJson(null, {\n",
       "                onEachFeature: geo_json_78c76f119c5a99fb7794f793682d4e24_onEachFeature,\n",
       "            \n",
       "        });\n",
       "\n",
       "        function geo_json_78c76f119c5a99fb7794f793682d4e24_add (data) {\n",
       "            geo_json_78c76f119c5a99fb7794f793682d4e24\n",
       "                .addData(data)\n",
       "                .addTo(map_59868ae8b0c0132b3dec3d6daca404f4);\n",
       "        }\n",
       "            geo_json_78c76f119c5a99fb7794f793682d4e24_add({&quot;bbox&quot;: [135.0, 35.0, 138.0, 38.0], &quot;features&quot;: [{&quot;bbox&quot;: [136.0, 37.0, 137.0, 38.0], &quot;geometry&quot;: {&quot;coordinates&quot;: [[[137.0, 37.0], [137.0, 38.0], [136.0, 38.0], [136.0, 37.0], [137.0, 37.0]]], &quot;type&quot;: &quot;Polygon&quot;}, &quot;id&quot;: &quot;0&quot;, &quot;properties&quot;: {&quot;pluscode&quot;: &quot;8Q9R0000+&quot;}, &quot;type&quot;: &quot;Feature&quot;}, {&quot;bbox&quot;: [137.0, 37.0, 138.0, 38.0], &quot;geometry&quot;: {&quot;coordinates&quot;: [[[138.0, 37.0], [138.0, 38.0], [137.0, 38.0], [137.0, 37.0], [138.0, 37.0]]], &quot;type&quot;: &quot;Polygon&quot;}, &quot;id&quot;: &quot;1&quot;, &quot;properties&quot;: {&quot;pluscode&quot;: &quot;8Q9V0000+&quot;}, &quot;type&quot;: &quot;Feature&quot;}, {&quot;bbox&quot;: [137.0, 36.0, 138.0, 37.0], &quot;geometry&quot;: {&quot;coordinates&quot;: [[[138.0, 36.0], [138.0, 37.0], [137.0, 37.0], [137.0, 36.0], [138.0, 36.0]]], &quot;type&quot;: &quot;Polygon&quot;}, &quot;id&quot;: &quot;2&quot;, &quot;properties&quot;: {&quot;pluscode&quot;: &quot;8Q8V0000+&quot;}, &quot;type&quot;: &quot;Feature&quot;}, {&quot;bbox&quot;: [137.0, 35.0, 138.0, 36.0], &quot;geometry&quot;: {&quot;coordinates&quot;: [[[138.0, 35.0], [138.0, 36.0], [137.0, 36.0], [137.0, 35.0], [138.0, 35.0]]], &quot;type&quot;: &quot;Polygon&quot;}, &quot;id&quot;: &quot;3&quot;, &quot;properties&quot;: {&quot;pluscode&quot;: &quot;8Q7V0000+&quot;}, &quot;type&quot;: &quot;Feature&quot;}, {&quot;bbox&quot;: [136.0, 35.0, 137.0, 36.0], &quot;geometry&quot;: {&quot;coordinates&quot;: [[[137.0, 35.0], [137.0, 36.0], [136.0, 36.0], [136.0, 35.0], [137.0, 35.0]]], &quot;type&quot;: &quot;Polygon&quot;}, &quot;id&quot;: &quot;4&quot;, &quot;properties&quot;: {&quot;pluscode&quot;: &quot;8Q7R0000+&quot;}, &quot;type&quot;: &quot;Feature&quot;}, {&quot;bbox&quot;: [135.0, 35.0, 136.0, 36.0], &quot;geometry&quot;: {&quot;coordinates&quot;: [[[136.0, 35.0], [136.0, 36.0], [135.0, 36.0], [135.0, 35.0], [136.0, 35.0]]], &quot;type&quot;: &quot;Polygon&quot;}, &quot;id&quot;: &quot;5&quot;, &quot;properties&quot;: {&quot;pluscode&quot;: &quot;8Q7Q0000+&quot;}, &quot;type&quot;: &quot;Feature&quot;}, {&quot;bbox&quot;: [135.0, 36.0, 136.0, 37.0], &quot;geometry&quot;: {&quot;coordinates&quot;: [[[136.0, 36.0], [136.0, 37.0], [135.0, 37.0], [135.0, 36.0], [136.0, 36.0]]], &quot;type&quot;: &quot;Polygon&quot;}, &quot;id&quot;: &quot;6&quot;, &quot;properties&quot;: {&quot;pluscode&quot;: &quot;8Q8Q0000+&quot;}, &quot;type&quot;: &quot;Feature&quot;}, {&quot;bbox&quot;: [135.0, 37.0, 136.0, 38.0], &quot;geometry&quot;: {&quot;coordinates&quot;: [[[136.0, 37.0], [136.0, 38.0], [135.0, 38.0], [135.0, 37.0], [136.0, 37.0]]], &quot;type&quot;: &quot;Polygon&quot;}, &quot;id&quot;: &quot;7&quot;, &quot;properties&quot;: {&quot;pluscode&quot;: &quot;8Q9Q0000+&quot;}, &quot;type&quot;: &quot;Feature&quot;}], &quot;type&quot;: &quot;FeatureCollection&quot;});\n",
       "\n",
       "        \n",
       "    \n",
       "            geo_json_78c76f119c5a99fb7794f793682d4e24.bindTooltip(\n",
       "                `&lt;div&gt;\n",
       "                     Neighbor pc\n",
       "                 &lt;/div&gt;`,\n",
       "                {&quot;sticky&quot;: true}\n",
       "            );\n",
       "        \n",
       "&lt;/script&gt;\n",
       "&lt;/html&gt;\" style=\"position:absolute;width:100%;height:100%;left:0;top:0;border:none !important;\" allowfullscreen webkitallowfullscreen mozallowfullscreen></iframe></div></div>"
      ],
      "text/plain": [
       "<folium.folium.Map at 0x115d91390>"
      ]
     },
     "execution_count": 66,
     "metadata": {},
     "output_type": "execute_result"
    }
   ],
   "source": [
    "m2 = folium.Map(location=[max_lat, max_lon], zoom_start=8)\n",
    "folium.GeoJson(data=buffer_poly, tooltip=\"Buffer pc\").add_to(m2)\n",
    "folium.GeoJson(data=given_pc_gdf, tooltip=\"Given pc\").add_to(m2)\n",
    "folium.GeoJson(data=neighbor_pc_gdf, tooltip=\"Neighbor pc\").add_to(m2)\n",
    "m2"
   ]
  },
  {
   "cell_type": "code",
   "execution_count": null,
   "id": "5af75958-f971-4ec3-9e52-51728208fe0b",
   "metadata": {},
   "outputs": [],
   "source": []
  },
  {
   "cell_type": "code",
   "execution_count": null,
   "id": "5a9affe8-8a84-42a4-bf58-98452d9ca7d1",
   "metadata": {},
   "outputs": [],
   "source": []
  },
  {
   "cell_type": "code",
   "execution_count": null,
   "id": "7e79cf7d-1e54-4ba4-a545-0cbafe632abb",
   "metadata": {},
   "outputs": [],
   "source": []
  },
  {
   "cell_type": "code",
   "execution_count": null,
   "id": "b4d485a4-dc9a-4ac9-9d53-bc2a2c24c705",
   "metadata": {},
   "outputs": [],
   "source": []
  },
  {
   "cell_type": "code",
   "execution_count": 58,
   "id": "a5957683-b3a9-4619-b2ac-e840e273f49c",
   "metadata": {},
   "outputs": [
    {
     "data": {
      "text/plain": [
       "'6F000000+'"
      ]
     },
     "execution_count": 58,
     "metadata": {},
     "output_type": "execute_result"
    }
   ],
   "source": [
    "olc.encode(0,0, 2)"
   ]
  },
  {
   "cell_type": "code",
   "execution_count": null,
   "id": "c027fc7a-81ce-405a-9030-307258bee925",
   "metadata": {},
   "outputs": [],
   "source": []
  }
 ],
 "metadata": {
  "kernelspec": {
   "display_name": "Python 3 (ipykernel)",
   "language": "python",
   "name": "python3"
  },
  "language_info": {
   "codemirror_mode": {
    "name": "ipython",
    "version": 3
   },
   "file_extension": ".py",
   "mimetype": "text/x-python",
   "name": "python",
   "nbconvert_exporter": "python",
   "pygments_lexer": "ipython3",
   "version": "3.10.6"
  }
 },
 "nbformat": 4,
 "nbformat_minor": 5
}
