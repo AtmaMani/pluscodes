{
 "cells": [
  {
   "cell_type": "code",
   "execution_count": 20,
   "id": "0bedde29-ef5e-494b-b769-b49bd95ebe00",
   "metadata": {},
   "outputs": [],
   "source": [
    "from openlocationcode import openlocationcode as olc"
   ]
  },
  {
   "cell_type": "code",
   "execution_count": 21,
   "id": "cee33795-10a2-4c58-862b-717a08483628",
   "metadata": {},
   "outputs": [
    {
     "data": {
      "text/plain": [
       "['CODE_ALPHABET_',\n",
       " 'CodeArea',\n",
       " 'ENCODING_BASE_',\n",
       " 'FINAL_LAT_PRECISION_',\n",
       " 'FINAL_LNG_PRECISION_',\n",
       " 'GRID_CODE_LENGTH_',\n",
       " 'GRID_COLUMNS_',\n",
       " 'GRID_LAT_FIRST_PLACE_VALUE_',\n",
       " 'GRID_LNG_FIRST_PLACE_VALUE_',\n",
       " 'GRID_ROWS_',\n",
       " 'GRID_SIZE_DEGREES_',\n",
       " 'LATITUDE_MAX_',\n",
       " 'LONGITUDE_MAX_',\n",
       " 'MAX_DIGIT_COUNT_',\n",
       " 'MIN_TRIMMABLE_CODE_LEN_',\n",
       " 'PADDING_CHARACTER_',\n",
       " 'PAIR_CODE_LENGTH_',\n",
       " 'PAIR_FIRST_PLACE_VALUE_',\n",
       " 'PAIR_PRECISION_',\n",
       " 'PAIR_RESOLUTIONS_',\n",
       " 'SEPARATOR_',\n",
       " 'SEPARATOR_POSITION_',\n",
       " '__builtins__',\n",
       " '__cached__',\n",
       " '__doc__',\n",
       " '__file__',\n",
       " '__loader__',\n",
       " '__name__',\n",
       " '__package__',\n",
       " '__spec__',\n",
       " 'clipLatitude',\n",
       " 'computeLatitudePrecision',\n",
       " 'decode',\n",
       " 'encode',\n",
       " 'isFull',\n",
       " 'isShort',\n",
       " 'isValid',\n",
       " 'math',\n",
       " 'normalizeLongitude',\n",
       " 're',\n",
       " 'recoverNearest',\n",
       " 'shorten']"
      ]
     },
     "execution_count": 21,
     "metadata": {},
     "output_type": "execute_result"
    }
   ],
   "source": [
    "dir(olc)"
   ]
  },
  {
   "cell_type": "code",
   "execution_count": 27,
   "id": "0196a099-d22f-4a10-ba3f-3222cfc867cb",
   "metadata": {},
   "outputs": [
    {
     "data": {
      "text/plain": [
       "(20, '23456789CFGHJMPQRVWX')"
      ]
     },
     "execution_count": 27,
     "metadata": {},
     "output_type": "execute_result"
    }
   ],
   "source": [
    "olc.ENCODING_BASE_, olc.CODE_ALPHABET_"
   ]
  },
  {
   "cell_type": "code",
   "execution_count": 28,
   "id": "9708f8d5-a5d2-404d-a1f7-127cb914cc7e",
   "metadata": {},
   "outputs": [
    {
     "data": {
      "text/plain": [
       "'85643Q48+27'"
      ]
     },
     "execution_count": 28,
     "metadata": {},
     "output_type": "execute_result"
    }
   ],
   "source": [
    "# loma linda\n",
    "ll_code = olc.encode(34.05501440288417, -117.23428106228769, codeLength=10)\n",
    "ll_code"
   ]
  },
  {
   "cell_type": "code",
   "execution_count": 29,
   "id": "58ce88ab-403f-459e-8c79-025b6f42664c",
   "metadata": {},
   "outputs": [
    {
     "data": {
      "text/plain": [
       "[34.055, -117.234375, 34.055125, -117.23425, 34.0550625, -117.2343125, 10]"
      ]
     },
     "execution_count": 29,
     "metadata": {},
     "output_type": "execute_result"
    }
   ],
   "source": [
    "olc.decode(ll_code)"
   ]
  },
  {
   "cell_type": "code",
   "execution_count": 32,
   "id": "8e1133c8-8bf4-49df-b3c4-0e44bacb1ae6",
   "metadata": {},
   "outputs": [
    {
     "data": {
      "text/plain": [
       "\u001b[0;31mSignature:\u001b[0m \u001b[0molc\u001b[0m\u001b[0;34m.\u001b[0m\u001b[0mrecoverNearest\u001b[0m\u001b[0;34m(\u001b[0m\u001b[0mcode\u001b[0m\u001b[0;34m,\u001b[0m \u001b[0mreferenceLatitude\u001b[0m\u001b[0;34m,\u001b[0m \u001b[0mreferenceLongitude\u001b[0m\u001b[0;34m)\u001b[0m\u001b[0;34m\u001b[0m\u001b[0;34m\u001b[0m\u001b[0m\n",
       "\u001b[0;31mDocstring:\u001b[0m <no docstring>\n",
       "\u001b[0;31mSource:\u001b[0m   \n",
       "\u001b[0;32mdef\u001b[0m \u001b[0mrecoverNearest\u001b[0m\u001b[0;34m(\u001b[0m\u001b[0mcode\u001b[0m\u001b[0;34m,\u001b[0m \u001b[0mreferenceLatitude\u001b[0m\u001b[0;34m,\u001b[0m \u001b[0mreferenceLongitude\u001b[0m\u001b[0;34m)\u001b[0m\u001b[0;34m:\u001b[0m\u001b[0;34m\u001b[0m\n",
       "\u001b[0;34m\u001b[0m    \u001b[0;31m# if code is a valid full code, return it properly capitalized\u001b[0m\u001b[0;34m\u001b[0m\n",
       "\u001b[0;34m\u001b[0m    \u001b[0;32mif\u001b[0m \u001b[0misFull\u001b[0m\u001b[0;34m(\u001b[0m\u001b[0mcode\u001b[0m\u001b[0;34m)\u001b[0m\u001b[0;34m:\u001b[0m\u001b[0;34m\u001b[0m\n",
       "\u001b[0;34m\u001b[0m        \u001b[0;32mreturn\u001b[0m \u001b[0mcode\u001b[0m\u001b[0;34m.\u001b[0m\u001b[0mupper\u001b[0m\u001b[0;34m(\u001b[0m\u001b[0;34m)\u001b[0m\u001b[0;34m\u001b[0m\n",
       "\u001b[0;34m\u001b[0m    \u001b[0;32mif\u001b[0m \u001b[0;32mnot\u001b[0m \u001b[0misShort\u001b[0m\u001b[0;34m(\u001b[0m\u001b[0mcode\u001b[0m\u001b[0;34m)\u001b[0m\u001b[0;34m:\u001b[0m\u001b[0;34m\u001b[0m\n",
       "\u001b[0;34m\u001b[0m        \u001b[0;32mraise\u001b[0m \u001b[0mValueError\u001b[0m\u001b[0;34m(\u001b[0m\u001b[0;34m'Passed short code is not valid - '\u001b[0m \u001b[0;34m+\u001b[0m \u001b[0mstr\u001b[0m\u001b[0;34m(\u001b[0m\u001b[0mcode\u001b[0m\u001b[0;34m)\u001b[0m\u001b[0;34m)\u001b[0m\u001b[0;34m\u001b[0m\n",
       "\u001b[0;34m\u001b[0m    \u001b[0;31m# Ensure that latitude and longitude are valid.\u001b[0m\u001b[0;34m\u001b[0m\n",
       "\u001b[0;34m\u001b[0m    \u001b[0mreferenceLatitude\u001b[0m \u001b[0;34m=\u001b[0m \u001b[0mclipLatitude\u001b[0m\u001b[0;34m(\u001b[0m\u001b[0mreferenceLatitude\u001b[0m\u001b[0;34m)\u001b[0m\u001b[0;34m\u001b[0m\n",
       "\u001b[0;34m\u001b[0m    \u001b[0mreferenceLongitude\u001b[0m \u001b[0;34m=\u001b[0m \u001b[0mnormalizeLongitude\u001b[0m\u001b[0;34m(\u001b[0m\u001b[0mreferenceLongitude\u001b[0m\u001b[0;34m)\u001b[0m\u001b[0;34m\u001b[0m\n",
       "\u001b[0;34m\u001b[0m    \u001b[0;31m# Clean up the passed code.\u001b[0m\u001b[0;34m\u001b[0m\n",
       "\u001b[0;34m\u001b[0m    \u001b[0mcode\u001b[0m \u001b[0;34m=\u001b[0m \u001b[0mcode\u001b[0m\u001b[0;34m.\u001b[0m\u001b[0mupper\u001b[0m\u001b[0;34m(\u001b[0m\u001b[0;34m)\u001b[0m\u001b[0;34m\u001b[0m\n",
       "\u001b[0;34m\u001b[0m    \u001b[0;31m# Compute the number of digits we need to recover.\u001b[0m\u001b[0;34m\u001b[0m\n",
       "\u001b[0;34m\u001b[0m    \u001b[0mpaddingLength\u001b[0m \u001b[0;34m=\u001b[0m \u001b[0mSEPARATOR_POSITION_\u001b[0m \u001b[0;34m-\u001b[0m \u001b[0mcode\u001b[0m\u001b[0;34m.\u001b[0m\u001b[0mfind\u001b[0m\u001b[0;34m(\u001b[0m\u001b[0mSEPARATOR_\u001b[0m\u001b[0;34m)\u001b[0m\u001b[0;34m\u001b[0m\n",
       "\u001b[0;34m\u001b[0m    \u001b[0;31m# The resolution (height and width) of the padded area in degrees.\u001b[0m\u001b[0;34m\u001b[0m\n",
       "\u001b[0;34m\u001b[0m    \u001b[0mresolution\u001b[0m \u001b[0;34m=\u001b[0m \u001b[0mpow\u001b[0m\u001b[0;34m(\u001b[0m\u001b[0;36m20\u001b[0m\u001b[0;34m,\u001b[0m \u001b[0;36m2\u001b[0m \u001b[0;34m-\u001b[0m \u001b[0;34m(\u001b[0m\u001b[0mpaddingLength\u001b[0m \u001b[0;34m/\u001b[0m \u001b[0;36m2\u001b[0m\u001b[0;34m)\u001b[0m\u001b[0;34m)\u001b[0m\u001b[0;34m\u001b[0m\n",
       "\u001b[0;34m\u001b[0m    \u001b[0;31m# Distance from the center to an edge (in degrees).\u001b[0m\u001b[0;34m\u001b[0m\n",
       "\u001b[0;34m\u001b[0m    \u001b[0mhalfResolution\u001b[0m \u001b[0;34m=\u001b[0m \u001b[0mresolution\u001b[0m \u001b[0;34m/\u001b[0m \u001b[0;36m2.0\u001b[0m\u001b[0;34m\u001b[0m\n",
       "\u001b[0;34m\u001b[0m    \u001b[0;31m# Use the reference location to pad the supplied short code and decode it.\u001b[0m\u001b[0;34m\u001b[0m\n",
       "\u001b[0;34m\u001b[0m    \u001b[0mcodeArea\u001b[0m \u001b[0;34m=\u001b[0m \u001b[0mdecode\u001b[0m\u001b[0;34m(\u001b[0m\u001b[0;34m\u001b[0m\n",
       "\u001b[0;34m\u001b[0m        \u001b[0mencode\u001b[0m\u001b[0;34m(\u001b[0m\u001b[0mreferenceLatitude\u001b[0m\u001b[0;34m,\u001b[0m \u001b[0mreferenceLongitude\u001b[0m\u001b[0;34m)\u001b[0m\u001b[0;34m[\u001b[0m\u001b[0;36m0\u001b[0m\u001b[0;34m:\u001b[0m\u001b[0mpaddingLength\u001b[0m\u001b[0;34m]\u001b[0m \u001b[0;34m+\u001b[0m \u001b[0mcode\u001b[0m\u001b[0;34m)\u001b[0m\u001b[0;34m\u001b[0m\n",
       "\u001b[0;34m\u001b[0m    \u001b[0;31m# How many degrees latitude is the code from the reference? If it is more\u001b[0m\u001b[0;34m\u001b[0m\n",
       "\u001b[0;34m\u001b[0m    \u001b[0;31m# than half the resolution, we need to move it north or south but keep it\u001b[0m\u001b[0;34m\u001b[0m\n",
       "\u001b[0;34m\u001b[0m    \u001b[0;31m# within -90 to 90 degrees.\u001b[0m\u001b[0;34m\u001b[0m\n",
       "\u001b[0;34m\u001b[0m    \u001b[0;32mif\u001b[0m \u001b[0;34m(\u001b[0m\u001b[0mreferenceLatitude\u001b[0m \u001b[0;34m+\u001b[0m \u001b[0mhalfResolution\u001b[0m \u001b[0;34m<\u001b[0m \u001b[0mcodeArea\u001b[0m\u001b[0;34m.\u001b[0m\u001b[0mlatitudeCenter\u001b[0m \u001b[0;32mand\u001b[0m\u001b[0;34m\u001b[0m\n",
       "\u001b[0;34m\u001b[0m            \u001b[0mcodeArea\u001b[0m\u001b[0;34m.\u001b[0m\u001b[0mlatitudeCenter\u001b[0m \u001b[0;34m-\u001b[0m \u001b[0mresolution\u001b[0m \u001b[0;34m>=\u001b[0m \u001b[0;34m-\u001b[0m\u001b[0mLATITUDE_MAX_\u001b[0m\u001b[0;34m)\u001b[0m\u001b[0;34m:\u001b[0m\u001b[0;34m\u001b[0m\n",
       "\u001b[0;34m\u001b[0m        \u001b[0;31m# If the proposed code is more than half a cell north of the reference location,\u001b[0m\u001b[0;34m\u001b[0m\n",
       "\u001b[0;34m\u001b[0m        \u001b[0;31m# it's too far, and the best match will be one cell south.\u001b[0m\u001b[0;34m\u001b[0m\n",
       "\u001b[0;34m\u001b[0m        \u001b[0mcodeArea\u001b[0m\u001b[0;34m.\u001b[0m\u001b[0mlatitudeCenter\u001b[0m \u001b[0;34m-=\u001b[0m \u001b[0mresolution\u001b[0m\u001b[0;34m\u001b[0m\n",
       "\u001b[0;34m\u001b[0m    \u001b[0;32melif\u001b[0m \u001b[0;34m(\u001b[0m\u001b[0mreferenceLatitude\u001b[0m \u001b[0;34m-\u001b[0m \u001b[0mhalfResolution\u001b[0m \u001b[0;34m>\u001b[0m \u001b[0mcodeArea\u001b[0m\u001b[0;34m.\u001b[0m\u001b[0mlatitudeCenter\u001b[0m \u001b[0;32mand\u001b[0m\u001b[0;34m\u001b[0m\n",
       "\u001b[0;34m\u001b[0m          \u001b[0mcodeArea\u001b[0m\u001b[0;34m.\u001b[0m\u001b[0mlatitudeCenter\u001b[0m \u001b[0;34m+\u001b[0m \u001b[0mresolution\u001b[0m \u001b[0;34m<=\u001b[0m \u001b[0mLATITUDE_MAX_\u001b[0m\u001b[0;34m)\u001b[0m\u001b[0;34m:\u001b[0m\u001b[0;34m\u001b[0m\n",
       "\u001b[0;34m\u001b[0m        \u001b[0;31m# If the proposed code is more than half a cell south of the reference location,\u001b[0m\u001b[0;34m\u001b[0m\n",
       "\u001b[0;34m\u001b[0m        \u001b[0;31m# it's too far, and the best match will be one cell north.\u001b[0m\u001b[0;34m\u001b[0m\n",
       "\u001b[0;34m\u001b[0m        \u001b[0mcodeArea\u001b[0m\u001b[0;34m.\u001b[0m\u001b[0mlatitudeCenter\u001b[0m \u001b[0;34m+=\u001b[0m \u001b[0mresolution\u001b[0m\u001b[0;34m\u001b[0m\n",
       "\u001b[0;34m\u001b[0m    \u001b[0;31m# Adjust longitude if necessary.\u001b[0m\u001b[0;34m\u001b[0m\n",
       "\u001b[0;34m\u001b[0m    \u001b[0;32mif\u001b[0m \u001b[0mreferenceLongitude\u001b[0m \u001b[0;34m+\u001b[0m \u001b[0mhalfResolution\u001b[0m \u001b[0;34m<\u001b[0m \u001b[0mcodeArea\u001b[0m\u001b[0;34m.\u001b[0m\u001b[0mlongitudeCenter\u001b[0m\u001b[0;34m:\u001b[0m\u001b[0;34m\u001b[0m\n",
       "\u001b[0;34m\u001b[0m        \u001b[0mcodeArea\u001b[0m\u001b[0;34m.\u001b[0m\u001b[0mlongitudeCenter\u001b[0m \u001b[0;34m-=\u001b[0m \u001b[0mresolution\u001b[0m\u001b[0;34m\u001b[0m\n",
       "\u001b[0;34m\u001b[0m    \u001b[0;32melif\u001b[0m \u001b[0mreferenceLongitude\u001b[0m \u001b[0;34m-\u001b[0m \u001b[0mhalfResolution\u001b[0m \u001b[0;34m>\u001b[0m \u001b[0mcodeArea\u001b[0m\u001b[0;34m.\u001b[0m\u001b[0mlongitudeCenter\u001b[0m\u001b[0;34m:\u001b[0m\u001b[0;34m\u001b[0m\n",
       "\u001b[0;34m\u001b[0m        \u001b[0mcodeArea\u001b[0m\u001b[0;34m.\u001b[0m\u001b[0mlongitudeCenter\u001b[0m \u001b[0;34m+=\u001b[0m \u001b[0mresolution\u001b[0m\u001b[0;34m\u001b[0m\n",
       "\u001b[0;34m\u001b[0m    \u001b[0;32mreturn\u001b[0m \u001b[0mencode\u001b[0m\u001b[0;34m(\u001b[0m\u001b[0mcodeArea\u001b[0m\u001b[0;34m.\u001b[0m\u001b[0mlatitudeCenter\u001b[0m\u001b[0;34m,\u001b[0m \u001b[0mcodeArea\u001b[0m\u001b[0;34m.\u001b[0m\u001b[0mlongitudeCenter\u001b[0m\u001b[0;34m,\u001b[0m\u001b[0;34m\u001b[0m\n",
       "\u001b[0;34m\u001b[0m                  \u001b[0mcodeArea\u001b[0m\u001b[0;34m.\u001b[0m\u001b[0mcodeLength\u001b[0m\u001b[0;34m)\u001b[0m\u001b[0;34m\u001b[0m\u001b[0;34m\u001b[0m\u001b[0m\n",
       "\u001b[0;31mFile:\u001b[0m      ~/micromamba/envs/pluscode/lib/python3.10/site-packages/openlocationcode/openlocationcode.py\n",
       "\u001b[0;31mType:\u001b[0m      function\n"
      ]
     },
     "metadata": {},
     "output_type": "display_data"
    }
   ],
   "source": [
    "olc.recoverNearest??"
   ]
  },
  {
   "cell_type": "code",
   "execution_count": null,
   "id": "00c18ebb-8d20-45fb-b2e8-59391a54620f",
   "metadata": {},
   "outputs": [],
   "source": []
  },
  {
   "cell_type": "code",
   "execution_count": null,
   "id": "f147cb58-5212-4ce8-8e54-2bb5f8a67098",
   "metadata": {},
   "outputs": [],
   "source": []
  }
 ],
 "metadata": {
  "kernelspec": {
   "display_name": "Python 3 (ipykernel)",
   "language": "python",
   "name": "python3"
  },
  "language_info": {
   "codemirror_mode": {
    "name": "ipython",
    "version": 3
   },
   "file_extension": ".py",
   "mimetype": "text/x-python",
   "name": "python",
   "nbconvert_exporter": "python",
   "pygments_lexer": "ipython3",
   "version": "3.10.6"
  }
 },
 "nbformat": 4,
 "nbformat_minor": 5
}
