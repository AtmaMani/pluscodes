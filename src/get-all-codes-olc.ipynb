{
 "cells": [
  {
   "cell_type": "markdown",
   "id": "a27d0d85-1160-402c-a068-04df99b68b18",
   "metadata": {},
   "source": [
    "# Get all codes using OLC Decode"
   ]
  },
  {
   "cell_type": "code",
   "execution_count": 1,
   "id": "b029c3ce-5095-496b-ae8b-7ddaa8e82644",
   "metadata": {},
   "outputs": [],
   "source": [
    "from openlocationcode import openlocationcode as olc\n",
    "import pluscodeplus\n",
    "import shapely\n",
    "import folium\n",
    "import geopandas as gpd\n",
    "import numpy as np\n",
    "import os\n",
    "from pathlib import Path\n",
    "import pandas as pd\n",
    "from shapely.geometry import Polygon\n",
    "from glob import glob"
   ]
  },
  {
   "cell_type": "code",
   "execution_count": 2,
   "id": "d9162a26-87a3-486f-8a99-2b89a3be9503",
   "metadata": {},
   "outputs": [
    {
     "data": {
      "text/plain": [
       "'1.8.5.post1'"
      ]
     },
     "execution_count": 2,
     "metadata": {},
     "output_type": "execute_result"
    }
   ],
   "source": [
    "shapely.__version__"
   ]
  },
  {
   "cell_type": "code",
   "execution_count": 3,
   "id": "fecf9cb9-e975-41fc-8ad6-a805b3fa06b9",
   "metadata": {},
   "outputs": [
    {
     "data": {
      "text/plain": [
       "'0.12.1'"
      ]
     },
     "execution_count": 3,
     "metadata": {},
     "output_type": "execute_result"
    }
   ],
   "source": [
    "gpd.__version__"
   ]
  },
  {
   "cell_type": "code",
   "execution_count": 4,
   "id": "b6700753-2491-4fbe-a594-787d8634deb7",
   "metadata": {},
   "outputs": [],
   "source": [
    "list_file_folder = Path(\"/Users/abharathi/Documents/gis_data/pluscodes/pc_name_lists\")\n",
    "usa_pc8_list = list_file_folder / \"usa_pc8_list.csv\""
   ]
  },
  {
   "cell_type": "code",
   "execution_count": 5,
   "id": "0cd6ba6d-fefc-4852-88ca-bba64084717f",
   "metadata": {},
   "outputs": [
    {
     "data": {
      "text/plain": [
       "(20549278, 1)"
      ]
     },
     "execution_count": 5,
     "metadata": {},
     "output_type": "execute_result"
    }
   ],
   "source": [
    "pc8_list_df = pd.read_csv(usa_pc8_list)\n",
    "pc8_list_df.shape"
   ]
  },
  {
   "cell_type": "code",
   "execution_count": 6,
   "id": "089db7c5-c4e7-4719-9f30-53b9d761e934",
   "metadata": {},
   "outputs": [
    {
     "data": {
      "text/html": [
       "<div>\n",
       "<style scoped>\n",
       "    .dataframe tbody tr th:only-of-type {\n",
       "        vertical-align: middle;\n",
       "    }\n",
       "\n",
       "    .dataframe tbody tr th {\n",
       "        vertical-align: top;\n",
       "    }\n",
       "\n",
       "    .dataframe thead th {\n",
       "        text-align: right;\n",
       "    }\n",
       "</style>\n",
       "<table border=\"1\" class=\"dataframe\">\n",
       "  <thead>\n",
       "    <tr style=\"text-align: right;\">\n",
       "      <th></th>\n",
       "      <th>PLUSCODE8</th>\n",
       "    </tr>\n",
       "  </thead>\n",
       "  <tbody>\n",
       "    <tr>\n",
       "      <th>0</th>\n",
       "      <td>858WMW7W</td>\n",
       "    </tr>\n",
       "    <tr>\n",
       "      <th>1</th>\n",
       "      <td>858W659R</td>\n",
       "    </tr>\n",
       "    <tr>\n",
       "      <th>2</th>\n",
       "      <td>858WW398</td>\n",
       "    </tr>\n",
       "    <tr>\n",
       "      <th>3</th>\n",
       "      <td>858WH9Q8</td>\n",
       "    </tr>\n",
       "    <tr>\n",
       "      <th>4</th>\n",
       "      <td>858WQ7C5</td>\n",
       "    </tr>\n",
       "  </tbody>\n",
       "</table>\n",
       "</div>"
      ],
      "text/plain": [
       "  PLUSCODE8\n",
       "0  858WMW7W\n",
       "1  858W659R\n",
       "2  858WW398\n",
       "3  858WH9Q8\n",
       "4  858WQ7C5"
      ]
     },
     "execution_count": 6,
     "metadata": {},
     "output_type": "execute_result"
    }
   ],
   "source": [
    "pc8_list_df.head()"
   ]
  },
  {
   "cell_type": "code",
   "execution_count": 7,
   "id": "877cde3d-4d6e-44b6-87c3-738d3940be8c",
   "metadata": {},
   "outputs": [
    {
     "name": "stdout",
     "output_type": "stream",
     "text": [
      "858WMW7W\n"
     ]
    },
    {
     "data": {
      "text/plain": [
       "openlocationcode.openlocationcode.CodeArea"
      ]
     },
     "execution_count": 7,
     "metadata": {},
     "output_type": "execute_result"
    }
   ],
   "source": [
    "print(pc8_list_df['PLUSCODE8'].loc[0])\n",
    "dc = olc.decode(f\"{pc8_list_df['PLUSCODE8'].loc[0]}+\")\n",
    "type(dc)"
   ]
  },
  {
   "cell_type": "code",
   "execution_count": 8,
   "id": "c0993674-e956-4d78-98bd-5dfb1125c2c4",
   "metadata": {},
   "outputs": [
    {
     "data": {
      "text/plain": [
       "8"
      ]
     },
     "execution_count": 8,
     "metadata": {},
     "output_type": "execute_result"
    }
   ],
   "source": [
    "dc.codeLength"
   ]
  },
  {
   "cell_type": "code",
   "execution_count": 9,
   "id": "72c9ebf2-4ad6-4743-8d6f-126f8cc9639c",
   "metadata": {},
   "outputs": [
    {
     "data": {
      "text/plain": [
       "[36.66375, -101.05375000000001]"
      ]
     },
     "execution_count": 9,
     "metadata": {},
     "output_type": "execute_result"
    }
   ],
   "source": [
    "dc.latlng() # center coords"
   ]
  },
  {
   "cell_type": "code",
   "execution_count": 10,
   "id": "89b1cd48-853a-4fa0-ade6-00bf78d5ccfb",
   "metadata": {},
   "outputs": [
    {
     "data": {
      "text/plain": [
       "(-101.055, -101.05250000000001, 36.6625, 36.665)"
      ]
     },
     "execution_count": 10,
     "metadata": {},
     "output_type": "execute_result"
    }
   ],
   "source": [
    "# xmin, xmax; ymin, ymax\n",
    "dc.longitudeLo, dc.longitudeHi, dc.latitudeLo, dc.latitudeHi"
   ]
  },
  {
   "cell_type": "code",
   "execution_count": 11,
   "id": "120bdf83-539a-4ca2-b329-cf440fbba11a",
   "metadata": {},
   "outputs": [
    {
     "data": {
      "text/plain": [
       "geopandas.geodataframe.GeoDataFrame"
      ]
     },
     "execution_count": 11,
     "metadata": {},
     "output_type": "execute_result"
    }
   ],
   "source": [
    "type(pluscodeplus.get_pluscode_geometry([f\"{pc8_list_df['PLUSCODE8'].loc[0]}+\"]))\n"
   ]
  },
  {
   "cell_type": "markdown",
   "id": "d9bbb93c-1a0f-432b-87b6-add42b6163b1",
   "metadata": {},
   "source": [
    "## Iterate and produce pc8 DF"
   ]
  },
  {
   "cell_type": "code",
   "execution_count": 12,
   "id": "0ab6e0ab-6fcf-40bf-8418-0fa0263fa9a1",
   "metadata": {},
   "outputs": [],
   "source": [
    "pc8_list_plus = list(pc8_list_df['PLUSCODE8'])\n",
    "pc8_list_plus = [f\"{e}+\" for e in pc8_list_plus]"
   ]
  },
  {
   "cell_type": "code",
   "execution_count": 13,
   "id": "19f18d59-25d9-4eb8-95bd-b17fa6320b9a",
   "metadata": {},
   "outputs": [
    {
     "data": {
      "text/plain": [
       "'858WMW7W+'"
      ]
     },
     "execution_count": 13,
     "metadata": {},
     "output_type": "execute_result"
    }
   ],
   "source": [
    "pc8_list_plus[0]"
   ]
  },
  {
   "cell_type": "code",
   "execution_count": 14,
   "id": "d74d794e-9096-4eb3-a83f-2e15435fcb44",
   "metadata": {},
   "outputs": [
    {
     "name": "stdout",
     "output_type": "stream",
     "text": [
      "CPU times: user 7min 38s, sys: 44.6 s, total: 8min 22s\n",
      "Wall time: 8min 44s\n"
     ]
    }
   ],
   "source": [
    "%%time\n",
    "pc8_gdf = pluscodeplus.get_pluscode_geometry(pc8_list_plus)"
   ]
  },
  {
   "cell_type": "code",
   "execution_count": 15,
   "id": "16fdf314-6c79-41bc-ab9b-ef1009a7d936",
   "metadata": {},
   "outputs": [
    {
     "data": {
      "text/plain": [
       "(20549278, 2)"
      ]
     },
     "execution_count": 15,
     "metadata": {},
     "output_type": "execute_result"
    }
   ],
   "source": [
    "pc8_gdf.shape"
   ]
  },
  {
   "cell_type": "code",
   "execution_count": 16,
   "id": "a57d23c2-aa5a-4879-afb6-d86248f3f656",
   "metadata": {},
   "outputs": [
    {
     "data": {
      "text/html": [
       "<div>\n",
       "<style scoped>\n",
       "    .dataframe tbody tr th:only-of-type {\n",
       "        vertical-align: middle;\n",
       "    }\n",
       "\n",
       "    .dataframe tbody tr th {\n",
       "        vertical-align: top;\n",
       "    }\n",
       "\n",
       "    .dataframe thead th {\n",
       "        text-align: right;\n",
       "    }\n",
       "</style>\n",
       "<table border=\"1\" class=\"dataframe\">\n",
       "  <thead>\n",
       "    <tr style=\"text-align: right;\">\n",
       "      <th></th>\n",
       "      <th>pluscode</th>\n",
       "      <th>geometry</th>\n",
       "    </tr>\n",
       "  </thead>\n",
       "  <tbody>\n",
       "    <tr>\n",
       "      <th>0</th>\n",
       "      <td>858WMW7W+</td>\n",
       "      <td>POLYGON ((-101.05250 36.66250, -101.05250 36.6...</td>\n",
       "    </tr>\n",
       "    <tr>\n",
       "      <th>1</th>\n",
       "      <td>858W659R+</td>\n",
       "      <td>POLYGON ((-101.80750 36.21750, -101.80750 36.2...</td>\n",
       "    </tr>\n",
       "    <tr>\n",
       "      <th>2</th>\n",
       "      <td>858WW398+</td>\n",
       "      <td>POLYGON ((-101.93250 36.91750, -101.93250 36.9...</td>\n",
       "    </tr>\n",
       "    <tr>\n",
       "      <th>3</th>\n",
       "      <td>858WH9Q8+</td>\n",
       "      <td>POLYGON ((-101.63250 36.58750, -101.63250 36.5...</td>\n",
       "    </tr>\n",
       "    <tr>\n",
       "      <th>4</th>\n",
       "      <td>858WQ7C5+</td>\n",
       "      <td>POLYGON ((-101.74000 36.77000, -101.74000 36.7...</td>\n",
       "    </tr>\n",
       "  </tbody>\n",
       "</table>\n",
       "</div>"
      ],
      "text/plain": [
       "    pluscode                                           geometry\n",
       "0  858WMW7W+  POLYGON ((-101.05250 36.66250, -101.05250 36.6...\n",
       "1  858W659R+  POLYGON ((-101.80750 36.21750, -101.80750 36.2...\n",
       "2  858WW398+  POLYGON ((-101.93250 36.91750, -101.93250 36.9...\n",
       "3  858WH9Q8+  POLYGON ((-101.63250 36.58750, -101.63250 36.5...\n",
       "4  858WQ7C5+  POLYGON ((-101.74000 36.77000, -101.74000 36.7..."
      ]
     },
     "execution_count": 16,
     "metadata": {},
     "output_type": "execute_result"
    }
   ],
   "source": [
    "pc8_gdf.head()"
   ]
  },
  {
   "cell_type": "code",
   "execution_count": 17,
   "id": "7c8845e5-8133-4171-a51b-ccaaa2a73760",
   "metadata": {},
   "outputs": [
    {
     "data": {
      "text/plain": [
       "PosixPath('/Users/abharathi/Documents/gis_data/pluscodes/data_files/usa_pc8.geojson')"
      ]
     },
     "execution_count": 17,
     "metadata": {},
     "output_type": "execute_result"
    }
   ],
   "source": [
    "list_file_folder.parent / \"data_files\" / \"usa_pc8.geojson\""
   ]
  },
  {
   "cell_type": "code",
   "execution_count": 19,
   "id": "aff68c23-715b-4ec6-998a-77b3d2d8531f",
   "metadata": {},
   "outputs": [
    {
     "name": "stdout",
     "output_type": "stream",
     "text": [
      "CPU times: user 8min 28s, sys: 21.4 s, total: 8min 49s\n",
      "Wall time: 9min 18s\n"
     ]
    }
   ],
   "source": [
    "%%time\n",
    "pc8_gdf.to_parquet(path=list_file_folder.parent / \"usa_pc8_geo.parquet\",\n",
    "                   index=False, compression=\"snappy\")"
   ]
  },
  {
   "cell_type": "markdown",
   "id": "85b3661b-f11e-406a-8803-3c978408b5be",
   "metadata": {},
   "source": [
    "## Make grid for Japan"
   ]
  },
  {
   "cell_type": "code",
   "execution_count": 23,
   "id": "3c0fdded-30fb-440a-b05e-cbb5327347c2",
   "metadata": {},
   "outputs": [],
   "source": [
    "jp_file_list = {\"0000+\": list_file_folder / \"jp_pc4_list.csv\",\n",
    "                           \"00+\": list_file_folder / \"jp_pc6_list.csv\",\n",
    "                           \"+\": list_file_folder / \"jp_pc8_list.csv\"}"
   ]
  },
  {
   "cell_type": "code",
   "execution_count": 24,
   "id": "3ecce908-204d-4fe6-8f6f-2623859a2b44",
   "metadata": {},
   "outputs": [
    {
     "name": "stdout",
     "output_type": "stream",
     "text": [
      "processing /Users/abharathi/Documents/gis_data/pluscodes/pc_name_lists/jp_pc4_list.csv\n",
      "read file into df\n",
      "made gdf\n",
      "wrote jp_pc4_geo.parquet to disk\n",
      "processing /Users/abharathi/Documents/gis_data/pluscodes/pc_name_lists/jp_pc6_list.csv\n",
      "read file into df\n",
      "made gdf\n",
      "wrote jp_pc6_geo.parquet to disk\n",
      "processing /Users/abharathi/Documents/gis_data/pluscodes/pc_name_lists/jp_pc8_list.csv\n",
      "read file into df\n",
      "made gdf\n",
      "wrote jp_pc8_geo.parquet to disk\n"
     ]
    }
   ],
   "source": [
    "for prefix, file in jp_file_list.items():\n",
    "    print(f\"processing {file}\")\n",
    "    df = pd.read_csv(str(file))\n",
    "    pc_list_plus = list(df['PLUSCODE'])\n",
    "    pc_list_plus = [f\"{e}{prefix}\" for e in pc_list_plus]\n",
    "    \n",
    "    print(\"read file into df\")\n",
    "    gdf = pluscodeplus.get_pluscode_geometry(pc_list_plus)\n",
    "    print(\"made gdf\")\n",
    "    \n",
    "    file_name = f'{file.name.split(\".csv\")[0].split(\"_list\")[0]}_geo.parquet'\n",
    "    gdf.to_parquet(path=list_file_folder.parent / file_name,\n",
    "                   index=False, compression=\"snappy\")\n",
    "    print(f\"wrote {file_name} to disk\")"
   ]
  },
  {
   "cell_type": "code",
   "execution_count": 25,
   "id": "f74f6260-7faf-420a-9b5e-d936f6be5eb6",
   "metadata": {},
   "outputs": [
    {
     "data": {
      "text/plain": [
       "(1495167, 2)"
      ]
     },
     "execution_count": 25,
     "metadata": {},
     "output_type": "execute_result"
    }
   ],
   "source": [
    "gdf.shape"
   ]
  },
  {
   "cell_type": "code",
   "execution_count": null,
   "id": "7ee391c7-9950-4f18-86e2-1326ae3e5e81",
   "metadata": {},
   "outputs": [],
   "source": []
  }
 ],
 "metadata": {
  "kernelspec": {
   "display_name": "Python 3 (ipykernel)",
   "language": "python",
   "name": "python3"
  },
  "language_info": {
   "codemirror_mode": {
    "name": "ipython",
    "version": 3
   },
   "file_extension": ".py",
   "mimetype": "text/x-python",
   "name": "python",
   "nbconvert_exporter": "python",
   "pygments_lexer": "ipython3",
   "version": "3.10.6"
  }
 },
 "nbformat": 4,
 "nbformat_minor": 5
}
